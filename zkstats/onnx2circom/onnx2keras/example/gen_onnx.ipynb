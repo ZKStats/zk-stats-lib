{
 "cells": [
  {
   "cell_type": "code",
   "execution_count": 6,
   "metadata": {},
   "outputs": [],
   "source": [
    "import torch\n",
    "import torch.nn as nn\n",
    "import torch.nn.functional as F\n",
    "import numpy as np"
   ]
  },
  {
   "cell_type": "code",
   "execution_count": 11,
   "metadata": {},
   "outputs": [],
   "source": [
    "class MyModel(nn.Module):\n",
    "    def __init__(self):\n",
    "        super(MyModel, self).__init__() \n",
    "\n",
    "    def forward(self,x):\n",
    "        # return [torch.ones_like(x)]\n",
    "        # return [x.size()]\n",
    "        # return [x==y]\n",
    "        # return [torch.mean(x)+4]\n",
    "# (x[:,:,0] ==MagicNumber)\n",
    "        # print(\"hey: \", x[:,0,:])\n",
    "        # return [torch.cat((x, torch.ones_like(x)))]\n",
    "        return(x[:,0,:].unsqueeze(-1))\n",
    "        count_equal = 1\n",
    "        count_all = 0\n",
    "        for ele in x[0]:\n",
    "            print('eleee: ', ele)\n",
    "            count_all+=(torch.sum((x==ele[0]).float())<=count_equal).float()\n",
    "        return count_all\n",
    "        return [torch.sum(torch.tensor([3.0]*x.size()[1]))]\n",
    "\n",
    "        return (torch.transpose(x, 1,2))\n",
    "\n",
    "        # return [torch.where(x>40, 3, x)]\n",
    "        # return [torch.sum(x, axis = [0,1,2])]\n",
    "        # return [x.unsqueeze(-1)]\n",
    "        # return torch.cat((x,y), dim = 1)\n",
    "        # return [x@y]\n",
    "        return [torch.ones_like(x)]\n",
    "        return [torch.ones_like(x)+torch.tensor(8)]\n",
    "\n",
    "        # return [x==40]\n",
    "        return [torch.logical_or(x>20, y<10)]\n",
    "        # return [x-torch.log(y)+5]\n",
    "        return [torch.where(x>20, 2, 1)]\n",
    "        return [x+torch.log(y)+z]"
   ]
  },
  {
   "cell_type": "code",
   "execution_count": 12,
   "metadata": {},
   "outputs": [
    {
     "name": "stdout",
     "output_type": "stream",
     "text": [
      "og x:  tensor([[[10.],\n",
      "         [40.],\n",
      "         [50.]]])\n",
      "result:  tensor([[[10.]]])\n"
     ]
    }
   ],
   "source": [
    "model = MyModel()\n",
    "input1 = torch.tensor([10, 40, 50], dtype = torch.float32).reshape(1,-1,1)\n",
    "input2 = torch.tensor([13, 4, 7], dtype = torch.float32).reshape(1,-1,1)\n",
    "# input3 = torch.tensor([3, 14, 7], dtype = torch.float32).reshape(1,-1,1)\n",
    "x = torch.tensor([10, 40, 50], dtype = torch.float32).reshape(1,-1,1)\n",
    "y =torch.tensor([13, 4, 7], dtype = torch.float32).reshape(1,-1,1)\n",
    "print('og x: ', x)\n",
    "# print('y: ', y)\n",
    "# print('result: ', x@y)\n",
    "print('result: ', model.forward(x))\n",
    "\n",
    "torch.onnx.export(model,               # model being run\n",
    "                      (x) ,                  # model input (or a tuple for multiple inputs)\n",
    "                      'example.onnx',            # where to save the model (can be a file or file-like object)\n",
    "                      export_params=True,        # store the trained parameter weights inside the model file\n",
    "                      opset_version=11,          # the ONNX version to export the model to\n",
    "                      do_constant_folding=True,  # whether to execute constant folding for optimization\n",
    "                      input_names = ['input'],   # the model's input names\n",
    "                      output_names = ['output'], # the model's output names\n",
    "                      dynamic_axes={'input' : {0 : 'batch_size'},    # variable length axes\n",
    "                                    'output' : {0 : 'batch_size'}})\n"
   ]
  },
  {
   "attachments": {},
   "cell_type": "markdown",
   "metadata": {},
   "source": []
  },
  {
   "cell_type": "code",
   "execution_count": 284,
   "metadata": {},
   "outputs": [
    {
     "name": "stdout",
     "output_type": "stream",
     "text": [
      "tensor([[[10.],\n",
      "         [40.],\n",
      "         [50.]]])\n",
      "tensor(100.)\n",
      "tensor([[10.],\n",
      "        [40.],\n",
      "        [50.]])\n",
      "tensor([[100.]])\n",
      "tensor([[10., 40., 50.]])\n",
      "tensor(100.)\n"
     ]
    }
   ],
   "source": [
    "print(input1)\n",
    "print(torch.sum(input1))\n",
    "print(torch.sum(input1, axis=0))\n",
    "print(torch.sum(input1, axis=1))\n",
    "print(torch.sum(input1, axis=2))\n",
    "print(torch.sum(input1, axis=[0,1,2]))"
   ]
  },
  {
   "cell_type": "code",
   "execution_count": 410,
   "metadata": {},
   "outputs": [
    {
     "name": "stdout",
     "output_type": "stream",
     "text": [
      "og size:  torch.Size([1, 2, 3, 4, 5])\n",
      "torch.Size([1, 2, 3, 4, 5, 1])\n"
     ]
    }
   ],
   "source": [
    "x = torch.zeros(1, 2, 3, 4, 5)\n",
    "print('og size: ', x.size())\n",
    "# print(torch.squeeze(x,4).size())\n",
    "print(torch.unsqueeze(x, -1).size())"
   ]
  },
  {
   "cell_type": "code",
   "execution_count": 418,
   "metadata": {},
   "outputs": [
    {
     "name": "stdout",
     "output_type": "stream",
     "text": [
      "res:  tf.Tensor(\n",
      "[[3 4]\n",
      " [1 2]\n",
      " [3 4]], shape=(3, 2), dtype=int32)\n",
      "shappee (3, 2)\n"
     ]
    },
    {
     "name": "stderr",
     "output_type": "stream",
     "text": [
      "2024-04-21 20:27:33.894869: W tensorflow/core/framework/local_rendezvous.cc:404] Local rendezvous is aborting with status: INVALID_ARGUMENT: Expected begin and size arguments to be 1-D tensors of size 2, but got shapes [3] and [2] instead.\n"
     ]
    },
    {
     "ename": "InvalidArgumentError",
     "evalue": "{{function_node __wrapped__Slice_device_/job:localhost/replica:0/task:0/device:CPU:0}} Expected begin and size arguments to be 1-D tensors of size 2, but got shapes [3] and [2] instead. [Op:Slice]",
     "output_type": "error",
     "traceback": [
      "\u001b[0;31m---------------------------------------------------------------------------\u001b[0m",
      "\u001b[0;31mInvalidArgumentError\u001b[0m                      Traceback (most recent call last)",
      "Cell \u001b[0;32mIn[418], line 14\u001b[0m\n\u001b[1;32m     11\u001b[0m \u001b[39mprint\u001b[39m(\u001b[39m'\u001b[39m\u001b[39mres: \u001b[39m\u001b[39m'\u001b[39m,res)\n\u001b[1;32m     12\u001b[0m \u001b[39mprint\u001b[39m(\u001b[39m'\u001b[39m\u001b[39mshappee\u001b[39m\u001b[39m'\u001b[39m, res\u001b[39m.\u001b[39mshape)\n\u001b[0;32m---> 14\u001b[0m res2\u001b[39m=\u001b[39m keras\u001b[39m.\u001b[39;49mops\u001b[39m.\u001b[39;49mslice(data, indices, res\u001b[39m.\u001b[39;49mshape)\n",
      "File \u001b[0;32m/Library/Frameworks/Python.framework/Versions/3.10/lib/python3.10/site-packages/keras/src/ops/core.py:163\u001b[0m, in \u001b[0;36mslice\u001b[0;34m(inputs, start_indices, shape)\u001b[0m\n\u001b[1;32m    161\u001b[0m \u001b[39mif\u001b[39;00m any_symbolic_tensors((inputs, start_indices, shape)):\n\u001b[1;32m    162\u001b[0m     \u001b[39mreturn\u001b[39;00m Slice()\u001b[39m.\u001b[39msymbolic_call(inputs, start_indices, shape)\n\u001b[0;32m--> 163\u001b[0m \u001b[39mreturn\u001b[39;00m backend\u001b[39m.\u001b[39;49mcore\u001b[39m.\u001b[39;49mslice(inputs, start_indices, shape)\n",
      "File \u001b[0;32m/Library/Frameworks/Python.framework/Versions/3.10/lib/python3.10/site-packages/keras/src/backend/tensorflow/core.py:226\u001b[0m, in \u001b[0;36mslice\u001b[0;34m(inputs, start_indices, shape)\u001b[0m\n\u001b[1;32m    225\u001b[0m \u001b[39mdef\u001b[39;00m \u001b[39mslice\u001b[39m(inputs, start_indices, shape):\n\u001b[0;32m--> 226\u001b[0m     \u001b[39mreturn\u001b[39;00m tf\u001b[39m.\u001b[39;49mslice(inputs, start_indices, shape)\n",
      "File \u001b[0;32m/Library/Frameworks/Python.framework/Versions/3.10/lib/python3.10/site-packages/tensorflow/python/util/traceback_utils.py:153\u001b[0m, in \u001b[0;36mfilter_traceback.<locals>.error_handler\u001b[0;34m(*args, **kwargs)\u001b[0m\n\u001b[1;32m    151\u001b[0m \u001b[39mexcept\u001b[39;00m \u001b[39mException\u001b[39;00m \u001b[39mas\u001b[39;00m e:\n\u001b[1;32m    152\u001b[0m   filtered_tb \u001b[39m=\u001b[39m _process_traceback_frames(e\u001b[39m.\u001b[39m__traceback__)\n\u001b[0;32m--> 153\u001b[0m   \u001b[39mraise\u001b[39;00m e\u001b[39m.\u001b[39mwith_traceback(filtered_tb) \u001b[39mfrom\u001b[39;00m \u001b[39mNone\u001b[39;00m\n\u001b[1;32m    154\u001b[0m \u001b[39mfinally\u001b[39;00m:\n\u001b[1;32m    155\u001b[0m   \u001b[39mdel\u001b[39;00m filtered_tb\n",
      "File \u001b[0;32m/Library/Frameworks/Python.framework/Versions/3.10/lib/python3.10/site-packages/tensorflow/python/eager/execute.py:53\u001b[0m, in \u001b[0;36mquick_execute\u001b[0;34m(op_name, num_outputs, inputs, attrs, ctx, name)\u001b[0m\n\u001b[1;32m     51\u001b[0m \u001b[39mtry\u001b[39;00m:\n\u001b[1;32m     52\u001b[0m   ctx\u001b[39m.\u001b[39mensure_initialized()\n\u001b[0;32m---> 53\u001b[0m   tensors \u001b[39m=\u001b[39m pywrap_tfe\u001b[39m.\u001b[39mTFE_Py_Execute(ctx\u001b[39m.\u001b[39m_handle, device_name, op_name,\n\u001b[1;32m     54\u001b[0m                                       inputs, attrs, num_outputs)\n\u001b[1;32m     55\u001b[0m \u001b[39mexcept\u001b[39;00m core\u001b[39m.\u001b[39m_NotOkStatusException \u001b[39mas\u001b[39;00m e:\n\u001b[1;32m     56\u001b[0m   \u001b[39mif\u001b[39;00m name \u001b[39mis\u001b[39;00m \u001b[39mnot\u001b[39;00m \u001b[39mNone\u001b[39;00m:\n",
      "\u001b[0;31mInvalidArgumentError\u001b[0m: {{function_node __wrapped__Slice_device_/job:localhost/replica:0/task:0/device:CPU:0}} Expected begin and size arguments to be 1-D tensors of size 2, but got shapes [3] and [2] instead. [Op:Slice]"
     ]
    }
   ],
   "source": [
    "import tensorflow as tf\n",
    "import keras\n",
    "# Initializing the input\n",
    "data = tf.constant([[1, 2], [3, 4], [5, 6]])\n",
    "indices = tf.constant([1, 0, 1])\n",
    " \n",
    "# Calculating result\n",
    "res = tf.gather(data, indices, 2)\n",
    " \n",
    "# Printing the result\n",
    "print('res: ',res)\n",
    "print('shappee', res.shape)\n",
    "\n",
    "res2= keras.ops.slice(data, indices, res.shape)"
   ]
  },
  {
   "cell_type": "code",
   "execution_count": null,
   "metadata": {},
   "outputs": [],
   "source": []
  }
 ],
 "metadata": {
  "kernelspec": {
   "display_name": "Python 3",
   "language": "python",
   "name": "python3"
  },
  "language_info": {
   "codemirror_mode": {
    "name": "ipython",
    "version": 3
   },
   "file_extension": ".py",
   "mimetype": "text/x-python",
   "name": "python",
   "nbconvert_exporter": "python",
   "pygments_lexer": "ipython3",
   "version": "3.10.0"
  },
  "orig_nbformat": 4
 },
 "nbformat": 4,
 "nbformat_minor": 2
}
