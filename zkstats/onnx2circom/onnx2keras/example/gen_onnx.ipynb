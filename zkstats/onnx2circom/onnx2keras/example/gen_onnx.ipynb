{
 "cells": [
  {
   "cell_type": "code",
   "execution_count": 1,
   "metadata": {},
   "outputs": [],
   "source": [
    "import torch\n",
    "import torch.nn as nn\n",
    "import torch.nn.functional as F\n",
    "import numpy as np"
   ]
  },
  {
   "cell_type": "code",
   "execution_count": 8,
   "metadata": {},
   "outputs": [],
   "source": [
    "class MyModel(nn.Module):\n",
    "    def __init__(self):\n",
    "        super(MyModel, self).__init__() \n",
    "\n",
    "    def forward(self,x):\n",
    "        return x+5\n",
    "        # return [torch.ones_like(x)]\n",
    "        # return [x==y]\n",
    "        # return [torch.mean(x)+4]\n",
    "# (x[:,:,0] ==MagicNumber)\n",
    "        # print(\"hey: \", x[:,0,:])\n",
    "        # return [torch.cat((x, torch.ones_like(x)))]\n",
    "        return [torch.sum(torch.tensor([3.0]*x.size()[1]))]\n",
    "\n",
    "        return (torch.transpose(x, 1,2))\n",
    "\n",
    "        # return [torch.where(x>40, 3, x)]\n",
    "        # return [torch.sum(x, axis = [0,1,2])]\n",
    "        # return [x.unsqueeze(-1)]\n",
    "        # return torch.cat((x,y), dim = 1)\n",
    "        # return [x@y]\n",
    "        return [torch.ones_like(x)]\n",
    "        return [torch.ones_like(x)+torch.tensor(8)]\n",
    "\n",
    "        # return [x==40]\n",
    "        return [torch.logical_or(x>20, y<10)]\n",
    "        # return [x-torch.log(y)+5]\n",
    "        return [torch.where(x>20, 2, 1)]\n",
    "        return [x+torch.log(y)+z]"
   ]
  },
  {
   "cell_type": "code",
   "execution_count": 9,
   "metadata": {},
   "outputs": [
    {
     "name": "stdout",
     "output_type": "stream",
     "text": [
      "og x:  tensor([[10.],\n",
      "        [40.],\n",
      "        [50.]])\n",
      "result:  tensor([[15.],\n",
      "        [45.],\n",
      "        [55.]])\n"
     ]
    }
   ],
   "source": [
    "model = MyModel()\n",
    "input1 = torch.tensor([10, 40, 50], dtype = torch.float32).reshape(-1,1)\n",
    "input2 = torch.tensor([13, 4, 7], dtype = torch.float32).reshape(-1,1)\n",
    "# input3 = torch.tensor([3, 14, 7], dtype = torch.float32).reshape(1,-1,1)\n",
    "x = torch.tensor([10, 40, 50], dtype = torch.float32).reshape(-1,1)\n",
    "y =torch.tensor([13, 4, 7], dtype = torch.float32).reshape(-1,1)\n",
    "print('og x: ', x)\n",
    "# print('y: ', y)\n",
    "# print('result: ', x@y)\n",
    "print('result: ', model.forward(x))\n",
    "\n",
    "torch.onnx.export(model,               # model being run\n",
    "                      (x) ,                  # model input (or a tuple for multiple inputs)\n",
    "                      'example.onnx',            # where to save the model (can be a file or file-like object)\n",
    "                      export_params=True,        # store the trained parameter weights inside the model file\n",
    "                      opset_version=11,          # the ONNX version to export the model to\n",
    "                      do_constant_folding=True,  # whether to execute constant folding for optimization\n",
    "                      input_names = ['input'],   # the model's input names\n",
    "                      output_names = ['output'], # the model's output names\n",
    "                    #   dynamic_axes={'input' : {0 : 'batch_size'},    # variable length axes\n",
    "                    #                 'output' : {0 : 'batch_size'}}\n",
    "                                    )\n"
   ]
  },
  {
   "attachments": {},
   "cell_type": "markdown",
   "metadata": {},
   "source": []
  },
  {
   "cell_type": "code",
   "execution_count": 10,
   "metadata": {},
   "outputs": [
    {
     "name": "stdout",
     "output_type": "stream",
     "text": [
      "tensor([[10.],\n",
      "        [40.],\n",
      "        [50.]])\n",
      "tensor(100.)\n",
      "tensor([100.])\n",
      "tensor([10., 40., 50.])\n",
      "tensor(100.)\n"
     ]
    }
   ],
   "source": [
    "print(input1)\n",
    "print(torch.sum(input1))\n",
    "print(torch.sum(input1, axis=0))\n",
    "print(torch.sum(input1, axis=1))\n",
    "print(torch.sum(input1, axis=[0,1]))"
   ]
  },
  {
   "cell_type": "code",
   "execution_count": 6,
   "metadata": {},
   "outputs": [
    {
     "name": "stdout",
     "output_type": "stream",
     "text": [
      "og size:  torch.Size([1, 2, 3, 4, 5])\n",
      "torch.Size([1, 2, 3, 4, 5, 1])\n"
     ]
    }
   ],
   "source": [
    "x = torch.zeros(1, 2, 3, 4, 5)\n",
    "print('og size: ', x.size())\n",
    "# print(torch.squeeze(x,4).size())\n",
    "print(torch.unsqueeze(x, -1).size())"
   ]
  },
  {
   "cell_type": "code",
   "execution_count": null,
   "metadata": {},
   "outputs": [],
   "source": []
  }
 ],
 "metadata": {
  "kernelspec": {
   "display_name": "Python 3",
   "language": "python",
   "name": "python3"
  },
  "language_info": {
   "codemirror_mode": {
    "name": "ipython",
    "version": 3
   },
   "file_extension": ".py",
   "mimetype": "text/x-python",
   "name": "python",
   "nbconvert_exporter": "python",
   "pygments_lexer": "ipython3",
   "version": "3.11.4"
  },
  "orig_nbformat": 4
 },
 "nbformat": 4,
 "nbformat_minor": 2
}
