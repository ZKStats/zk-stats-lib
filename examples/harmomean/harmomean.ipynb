{
 "cells": [
  {
   "cell_type": "code",
   "execution_count": 1,
   "metadata": {},
   "outputs": [],
   "source": [
    "import ezkl\n",
    "import torch\n",
    "from torch import nn\n",
    "import json\n",
    "import os\n",
    "import time\n",
    "import scipy\n",
    "import numpy as np\n",
    "import matplotlib.pyplot as plt\n",
    "import statistics\n",
    "import math"
   ]
  },
  {
   "cell_type": "code",
   "execution_count": 2,
   "metadata": {},
   "outputs": [],
   "source": [
    "from zkstats.core import create_dummy, verifier_define_calculation, prover_gen_settings, setup, prover_gen_proof, verifier_verify, generate_data_commitment"
   ]
  },
  {
   "cell_type": "code",
   "execution_count": 3,
   "metadata": {},
   "outputs": [],
   "source": [
    "# init path\n",
    "os.makedirs(os.path.dirname('shared/'), exist_ok=True)\n",
    "os.makedirs(os.path.dirname('prover/'), exist_ok=True)\n",
    "verifier_model_path = os.path.join('shared/verifier.onnx')\n",
    "prover_model_path = os.path.join('prover/prover.onnx')\n",
    "verifier_compiled_model_path = os.path.join('shared/verifier.compiled')\n",
    "prover_compiled_model_path = os.path.join('prover/prover.compiled')\n",
    "pk_path = os.path.join('shared/test.pk')\n",
    "vk_path = os.path.join('shared/test.vk')\n",
    "proof_path = os.path.join('shared/test.pf')\n",
    "settings_path = os.path.join('shared/settings.json')\n",
    "srs_path = os.path.join('shared/kzg.srs')\n",
    "witness_path = os.path.join('prover/witness.json')\n",
    "# this is private to prover since it contains actual data\n",
    "sel_data_path = os.path.join('prover/sel_data.json')\n",
    "# this is just dummy random value\n",
    "sel_dummy_data_path = os.path.join('shared/sel_dummy_data.json')\n",
    "data_commitment_path = os.path.join('shared/data_commitment.json')\n",
    "precal_witness_path = os.path.join('shared/precal_witness_arr.json')"
   ]
  },
  {
   "attachments": {},
   "cell_type": "markdown",
   "metadata": {},
   "source": [
    "=======================  ZK-STATS FLOW ======================="
   ]
  },
  {
   "cell_type": "code",
   "execution_count": 4,
   "metadata": {},
   "outputs": [],
   "source": [
    "data_path = os.path.join('data.json')\n",
    "dummy_data_path = os.path.join('shared/dummy_data.json')\n",
    "\n",
    "create_dummy(data_path, dummy_data_path)"
   ]
  },
  {
   "cell_type": "code",
   "execution_count": 5,
   "metadata": {},
   "outputs": [],
   "source": [
    "scales = [6]\n",
    "selected_columns = ['col_name']\n",
    "generate_data_commitment(data_path, scales, data_commitment_path)"
   ]
  },
  {
   "cell_type": "code",
   "execution_count": 6,
   "metadata": {},
   "outputs": [
    {
     "name": "stderr",
     "output_type": "stream",
     "text": [
      "/Users/jernkun/Desktop/zk-stats-lib/zkstats/computation.py:254: TracerWarning: torch.tensor results are registered as constants in the trace. You can safely ignore this warning if you use this function to create tensors out of constant variables that would be the same every time you call this function. In any other case, this might cause the trace to be incorrect.\n",
      "  is_precise_aggregated = torch.tensor(1.0)\n",
      "/Users/jernkun/Library/Caches/pypoetry/virtualenvs/zkstats-OJpceffF-py3.11/lib/python3.11/site-packages/torch/onnx/symbolic_opset9.py:2174: FutureWarning: 'torch.onnx.symbolic_opset9._cast_Bool' is deprecated in version 2.0 and will be removed in the future. Please Avoid using this function and create a Cast node instead.\n",
      "  return fn(g, to_cast_func(g, input, False), to_cast_func(g, other, False))\n",
      "/Users/jernkun/Library/Caches/pypoetry/virtualenvs/zkstats-OJpceffF-py3.11/lib/python3.11/site-packages/torch/onnx/utils.py:1703: UserWarning: The exported ONNX model failed ONNX shape inference. The model will not be executable by the ONNX Runtime. If this is unintended and you believe there is a bug, please report an issue at https://github.com/pytorch/pytorch/issues. Error reported by strict ONNX shape inference: [ShapeInferenceError] (op_type:Where, node name: /Where_1): Y has inconsistent type tensor(float) (Triggered internally at /Users/runner/work/pytorch/pytorch/pytorch/torch/csrc/jit/serialization/export.cpp:1490.)\n",
      "  _C._check_onnx_proto(proto)\n"
     ]
    },
    {
     "name": "stdout",
     "output_type": "stream",
     "text": [
      "==== Generate & Calibrate Setting ====\n"
     ]
    },
    {
     "name": "stderr",
     "output_type": "stream",
     "text": [
      "\n",
      "\n",
      " <------------- Numerical Fidelity Report (input_scale: 6, param_scale: 6, scale_input_multiplier: 1) ------------->\n",
      "\n",
      "+-------------+--------------+-----------+-------------+----------------+------------------+---------------+---------------+--------------------+--------------------+------------------------+\n",
      "| mean_error  | median_error | max_error | min_error   | mean_abs_error | median_abs_error | max_abs_error | min_abs_error | mean_squared_error | mean_percent_error | mean_abs_percent_error |\n",
      "+-------------+--------------+-----------+-------------+----------------+------------------+---------------+---------------+--------------------+--------------------+------------------------+\n",
      "| -0.00217247 | -0.00434494  | 0         | -0.00434494 | 0.00217247     | 0.00434494       | 0.00434494    | 0             | 0.000009439253     | -0.000048048183    | 0.000048048183         |\n",
      "+-------------+--------------+-----------+-------------+----------------+------------------+---------------+---------------+--------------------+--------------------+------------------------+\n",
      "\n",
      "\n"
     ]
    },
    {
     "name": "stdout",
     "output_type": "stream",
     "text": [
      "scale:  [6]\n",
      "setting:  {\"run_args\":{\"tolerance\":{\"val\":0.0,\"scale\":1.0},\"input_scale\":6,\"param_scale\":6,\"scale_rebase_multiplier\":1,\"lookup_range\":[-2642,3600],\"logrows\":14,\"num_inner_cols\":2,\"variables\":[[\"batch_size\",1]],\"input_visibility\":{\"Hashed\":{\"hash_is_public\":true,\"outlets\":[]}},\"output_visibility\":\"Public\",\"param_visibility\":\"Fixed\",\"div_rebasing\":false,\"rebase_frac_zero_constants\":false,\"check_mode\":\"UNSAFE\"},\"num_rows\":14432,\"total_assignments\":11731,\"total_const_size\":4217,\"model_instance_shapes\":[[1],[1]],\"model_output_scales\":[0,6],\"model_input_scales\":[6],\"module_sizes\":{\"kzg\":[],\"poseidon\":[14432,[1]]},\"required_lookups\":[\"Abs\",{\"GreaterThan\":{\"a\":0.0}}],\"required_range_checks\":[[32,96],[-32,32]],\"check_mode\":\"UNSAFE\",\"version\":\"9.1.0\",\"num_blinding_factors\":null,\"timestamp\":1715154564081}\n"
     ]
    }
   ],
   "source": [
    "# Verifier/ data consumer side:\n",
    "# since have division, scale must be very LARGE, cant use just 0\n",
    "# So, we allow error rate to be 10% instead of 1%\n",
    "from zkstats.computation import computation_to_model, State\n",
    "\n",
    "\n",
    "def computation(s: State, data: list[torch.Tensor]) -> torch.Tensor:\n",
    "    x = data[0]\n",
    "    return s.harmonic_mean(x)\n",
    "\n",
    "error = 0.1\n",
    "\n",
    "# Prover/ data owner side\n",
    "_, prover_model = computation_to_model(computation, precal_witness_path, True, selected_columns, error)\n",
    "prover_gen_settings(data_path, selected_columns, sel_data_path, prover_model, prover_model_path, scales, \"resources\", settings_path)\n",
    "\n"
   ]
  },
  {
   "cell_type": "code",
   "execution_count": 7,
   "metadata": {},
   "outputs": [],
   "source": [
    "_, verifier_model = computation_to_model(computation, precal_witness_path, False, selected_columns, error)\n",
    "verifier_define_calculation(dummy_data_path, selected_columns, sel_dummy_data_path,verifier_model, verifier_model_path)"
   ]
  },
  {
   "cell_type": "code",
   "execution_count": 8,
   "metadata": {},
   "outputs": [
    {
     "name": "stdout",
     "output_type": "stream",
     "text": [
      "==== setting up ezkl ====\n",
      "Time setup: 1.842775821685791 seconds\n",
      "=======================================\n",
      "==== Generating Witness ====\n",
      "witness boolean:  1.0\n",
      "witness result 1 : 45.21875\n",
      "==== Generating Proof ====\n",
      "proof:  {'instances': [['c371c58876874ace4444c2f2683e0d7bb7ce264f49872aa6deab40635ed90f23', '0100000000000000000000000000000000000000000000000000000000000000', '4e0b000000000000000000000000000000000000000000000000000000000000']], 'proof': '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', 'transcript_type': 'EVM'}\n",
      "Time gen prf: 2.866985321044922 seconds\n"
     ]
    }
   ],
   "source": [
    "# Here verifier & prover can concurrently call setup since all params are public to get pk.\n",
    "# Here write as verifier function to emphasize that verifier must calculate its own vk to be sure\n",
    "setup(verifier_model_path, verifier_compiled_model_path, settings_path,vk_path, pk_path )\n",
    "\n",
    "print(\"=======================================\")\n",
    "# Prover generates proof\n",
    "prover_gen_proof(prover_model_path, sel_data_path, witness_path, prover_compiled_model_path, settings_path, proof_path, pk_path)"
   ]
  },
  {
   "cell_type": "code",
   "execution_count": 9,
   "metadata": {},
   "outputs": [
    {
     "name": "stdout",
     "output_type": "stream",
     "text": [
      "Verifier gets result: [45.21875]\n"
     ]
    }
   ],
   "source": [
    "# Verifier verifies\n",
    "res = verifier_verify(proof_path, settings_path, vk_path, selected_columns, data_commitment_path)\n",
    "print(\"Verifier gets result:\", res)"
   ]
  },
  {
   "cell_type": "code",
   "execution_count": null,
   "metadata": {},
   "outputs": [],
   "source": []
  }
 ],
 "metadata": {
  "kernelspec": {
   "display_name": "Python 3",
   "language": "python",
   "name": "python3"
  },
  "language_info": {
   "codemirror_mode": {
    "name": "ipython",
    "version": 3
   },
   "file_extension": ".py",
   "mimetype": "text/x-python",
   "name": "python",
   "nbconvert_exporter": "python",
   "pygments_lexer": "ipython3",
   "version": "3.11.4"
  },
  "orig_nbformat": 4
 },
 "nbformat": 4,
 "nbformat_minor": 2
}
