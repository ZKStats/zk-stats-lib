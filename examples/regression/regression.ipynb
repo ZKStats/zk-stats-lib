{
 "cells": [
  {
   "cell_type": "code",
   "execution_count": 1,
   "metadata": {},
   "outputs": [],
   "source": [
    "import ezkl\n",
    "import torch\n",
    "from torch import nn\n",
    "import json\n",
    "import os\n",
    "import time\n",
    "import scipy\n",
    "import numpy as np\n",
    "import matplotlib.pyplot as plt\n",
    "import statistics\n",
    "import math"
   ]
  },
  {
   "cell_type": "code",
   "execution_count": 2,
   "metadata": {},
   "outputs": [],
   "source": [
    "from zkstats.core import create_dummy, verifier_define_calculation, prover_gen_settings, setup, prover_gen_proof, verifier_verify, generate_data_commitment"
   ]
  },
  {
   "cell_type": "code",
   "execution_count": 3,
   "metadata": {},
   "outputs": [],
   "source": [
    "# init path\n",
    "os.makedirs(os.path.dirname('shared/'), exist_ok=True)\n",
    "os.makedirs(os.path.dirname('prover/'), exist_ok=True)\n",
    "verifier_model_path = os.path.join('shared/verifier.onnx')\n",
    "prover_model_path = os.path.join('prover/prover.onnx')\n",
    "verifier_compiled_model_path = os.path.join('shared/verifier.compiled')\n",
    "prover_compiled_model_path = os.path.join('prover/prover.compiled')\n",
    "pk_path = os.path.join('shared/test.pk')\n",
    "vk_path = os.path.join('shared/test.vk')\n",
    "proof_path = os.path.join('shared/test.pf')\n",
    "settings_path = os.path.join('shared/settings.json')\n",
    "srs_path = os.path.join('shared/kzg.srs')\n",
    "witness_path = os.path.join('prover/witness.json')\n",
    "# this is private to prover since it contains actual data\n",
    "sel_data_path = os.path.join('prover/sel_data.json')\n",
    "# this is just dummy random value\n",
    "sel_dummy_data_path = os.path.join('shared/sel_dummy_data.json')\n",
    "data_commitment_path = os.path.join('shared/data_commitment.json')\n",
    "precal_witness_path = os.path.join('shared/precal_witness_arr.json')"
   ]
  },
  {
   "attachments": {},
   "cell_type": "markdown",
   "metadata": {},
   "source": [
    "=======================  ZK-STATS FLOW ======================="
   ]
  },
  {
   "cell_type": "code",
   "execution_count": 4,
   "metadata": {},
   "outputs": [],
   "source": [
    "data_path = os.path.join('data.json')\n",
    "dummy_data_path = os.path.join('shared/dummy_data.json')\n",
    "create_dummy(data_path, dummy_data_path)\n"
   ]
  },
  {
   "cell_type": "code",
   "execution_count": 5,
   "metadata": {},
   "outputs": [],
   "source": [
    "scales = [4]\n",
    "# to conform to traditional regression, here only one column of x\n",
    "selected_columns = ['x1', 'y']\n",
    "generate_data_commitment(data_path, scales, data_commitment_path)"
   ]
  },
  {
   "cell_type": "code",
   "execution_count": 6,
   "metadata": {},
   "outputs": [
    {
     "name": "stderr",
     "output_type": "stream",
     "text": [
      "/Users/jernkun/Desktop/zk-stats-lib/zkstats/computation.py:254: TracerWarning: torch.tensor results are registered as constants in the trace. You can safely ignore this warning if you use this function to create tensors out of constant variables that would be the same every time you call this function. In any other case, this might cause the trace to be incorrect.\n",
      "  is_precise_aggregated = torch.tensor(1.0)\n",
      "/Users/jernkun/Desktop/zk-stats-lib/zkstats/ops.py:542: TracerWarning: torch.tensor results are registered as constants in the trace. You can safely ignore this warning if you use this function to create tensors out of constant variables that would be the same every time you call this function. In any other case, this might cause the trace to be incorrect.\n",
      "  x_one = torch.where((x_one[:,:,0] ==MagicNumber).unsqueeze(-1), torch.tensor([0.0]*x_one.size()[2]), x_one)\n",
      "/Users/jernkun/Library/Caches/pypoetry/virtualenvs/zkstats-OJpceffF-py3.11/lib/python3.11/site-packages/torch/onnx/symbolic_opset9.py:2174: FutureWarning: 'torch.onnx.symbolic_opset9._cast_Bool' is deprecated in version 2.0 and will be removed in the future. Please Avoid using this function and create a Cast node instead.\n",
      "  return fn(g, to_cast_func(g, input, False), to_cast_func(g, other, False))\n",
      "/Users/jernkun/Library/Caches/pypoetry/virtualenvs/zkstats-OJpceffF-py3.11/lib/python3.11/site-packages/torch/onnx/utils.py:1703: UserWarning: The exported ONNX model failed ONNX shape inference. The model will not be executable by the ONNX Runtime. If this is unintended and you believe there is a bug, please report an issue at https://github.com/pytorch/pytorch/issues. Error reported by strict ONNX shape inference: [ShapeInferenceError] (op_type:Where, node name: /Where): Y has inconsistent type tensor(float) (Triggered internally at /Users/runner/work/pytorch/pytorch/pytorch/torch/csrc/jit/serialization/export.cpp:1490.)\n",
      "  _C._check_onnx_proto(proto)\n",
      "Using 2 columns for non-linearity table.\n",
      "Using 2 columns for non-linearity table.\n",
      "Using 2 columns for non-linearity table.\n",
      "Using 2 columns for non-linearity table.\n",
      "Using 2 columns for non-linearity table.\n",
      "Using 2 columns for non-linearity table.\n",
      "\n",
      "\n",
      " <------------- Numerical Fidelity Report (input_scale: 4, param_scale: 4, scale_input_multiplier: 1) ------------->\n",
      "\n",
      "+---------------+--------------+--------------+--------------+----------------+------------------+---------------+---------------+--------------------+--------------------+------------------------+\n",
      "| mean_error    | median_error | max_error    | min_error    | mean_abs_error | median_abs_error | max_abs_error | min_abs_error | mean_squared_error | mean_percent_error | mean_abs_percent_error |\n",
      "+---------------+--------------+--------------+--------------+----------------+------------------+---------------+---------------+--------------------+--------------------+------------------------+\n",
      "| -0.0037356615 | 0.0076099634 | 0.0076099634 | -0.018816948 | 0.00880897     | 0.0076099634     | 0.018816948   | 0             | 0.00013732968      | 0.0009583685       | 0.002272812            |\n",
      "+---------------+--------------+--------------+--------------+----------------+------------------+---------------+---------------+--------------------+--------------------+------------------------+\n",
      "\n",
      "\n"
     ]
    },
    {
     "name": "stdout",
     "output_type": "stream",
     "text": [
      "==== Generate & Calibrate Setting ====\n",
      "scale:  [4]\n",
      "setting:  {\"run_args\":{\"tolerance\":{\"val\":0.0,\"scale\":1.0},\"input_scale\":4,\"param_scale\":4,\"scale_rebase_multiplier\":1,\"lookup_range\":[-11594,226],\"logrows\":14,\"num_inner_cols\":2,\"variables\":[[\"batch_size\",1]],\"input_visibility\":{\"Hashed\":{\"hash_is_public\":true,\"outlets\":[]}},\"output_visibility\":\"Public\",\"param_visibility\":\"Fixed\",\"div_rebasing\":false,\"rebase_frac_zero_constants\":false,\"check_mode\":\"UNSAFE\"},\"num_rows\":7872,\"total_assignments\":2189,\"total_const_size\":615,\"model_instance_shapes\":[[1],[1,2,1]],\"model_output_scales\":[0,4],\"model_input_scales\":[4,4],\"module_sizes\":{\"kzg\":[],\"poseidon\":[7872,[2]]},\"required_lookups\":[{\"GreaterThan\":{\"a\":0.0}},{\"Cast\":{\"scale\":16.0}}],\"required_range_checks\":[[-8,8]],\"check_mode\":\"UNSAFE\",\"version\":\"9.1.0\",\"num_blinding_factors\":null,\"timestamp\":1715324256685}\n"
     ]
    }
   ],
   "source": [
    "# Verifier/ data consumer side: send desired calculation\n",
    "from zkstats.computation import computation_to_model, State\n",
    "\n",
    "\n",
    "def computation(s: State, data: list[torch.Tensor]) -> torch.Tensor:\n",
    "    x, y = data[0], data[1]\n",
    "    return s.linear_regression(x, y)\n",
    "\n",
    "error = 0.05\n",
    "_, prover_model = computation_to_model(computation, precal_witness_path, True, selected_columns, error)\n",
    "\n",
    "prover_gen_settings(data_path, selected_columns, sel_data_path, prover_model,prover_model_path, scales, \"resources\", settings_path)"
   ]
  },
  {
   "cell_type": "code",
   "execution_count": 7,
   "metadata": {},
   "outputs": [],
   "source": [
    "_, verifier_model = computation_to_model(computation, precal_witness_path, False, selected_columns, error)\n",
    "\n",
    "verifier_define_calculation(dummy_data_path, selected_columns, sel_dummy_data_path, verifier_model, verifier_model_path)"
   ]
  },
  {
   "cell_type": "code",
   "execution_count": 8,
   "metadata": {},
   "outputs": [
    {
     "name": "stdout",
     "output_type": "stream",
     "text": [
      "==== setting up ezkl ====\n",
      "Time setup: 1.8887672424316406 seconds\n",
      "=======================================\n",
      "==== Generating Witness ====\n",
      "witness boolean:  1.0\n",
      "witness result 1 : 1.5625\n",
      "witness result 2 : 9.5625\n",
      "==== Generating Proof ====\n",
      "proof:  {'instances': [['78f113a919d1324cbee267b4320db42ee0170745a57013fa302f8139d7c36f18', '8dff683cfffbd97a4d94de7d897e03bb3f2fa18084beff4bbfbd152c2e2bcd16', '0100000000000000000000000000000000000000000000000000000000000000', '1900000000000000000000000000000000000000000000000000000000000000', '9900000000000000000000000000000000000000000000000000000000000000']], 'proof': '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', 'transcript_type': 'EVM'}\n",
      "Time gen prf: 2.1921470165252686 seconds\n"
     ]
    }
   ],
   "source": [
    "# Here verifier & prover can concurrently call setup since all params are public to get pk.\n",
    "# Here write as verifier function to emphasize that verifier must calculate its own vk to be sure\n",
    "setup(verifier_model_path, verifier_compiled_model_path, settings_path,vk_path, pk_path )\n",
    "\n",
    "print(\"=======================================\")\n",
    "# Prover generates proof\n",
    "prover_gen_proof(prover_model_path, sel_data_path, witness_path, prover_compiled_model_path, settings_path, proof_path, pk_path)"
   ]
  },
  {
   "cell_type": "code",
   "execution_count": 9,
   "metadata": {},
   "outputs": [
    {
     "name": "stdout",
     "output_type": "stream",
     "text": [
      "Verifier gets result: [1.5625, 9.5625]\n"
     ]
    }
   ],
   "source": [
    "# Verifier verifies\n",
    "res = verifier_verify(proof_path, settings_path, vk_path, selected_columns, data_commitment_path)\n",
    "print(\"Verifier gets result:\", res)"
   ]
  },
  {
   "cell_type": "code",
   "execution_count": null,
   "metadata": {},
   "outputs": [],
   "source": []
  }
 ],
 "metadata": {
  "kernelspec": {
   "display_name": "Python 3",
   "language": "python",
   "name": "python3"
  },
  "language_info": {
   "codemirror_mode": {
    "name": "ipython",
    "version": 3
   },
   "file_extension": ".py",
   "mimetype": "text/x-python",
   "name": "python",
   "nbconvert_exporter": "python",
   "pygments_lexer": "ipython3",
   "version": "3.11.4"
  },
  "orig_nbformat": 4
 },
 "nbformat": 4,
 "nbformat_minor": 2
}
