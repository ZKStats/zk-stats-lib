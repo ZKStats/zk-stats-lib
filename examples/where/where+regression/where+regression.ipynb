{
 "cells": [
  {
   "cell_type": "code",
   "execution_count": 1,
   "metadata": {},
   "outputs": [],
   "source": [
    "import ezkl\n",
    "import torch\n",
    "from torch import nn\n",
    "import json\n",
    "import os\n",
    "import time\n",
    "import scipy\n",
    "import numpy as np\n",
    "import matplotlib.pyplot as plt\n",
    "import statistics\n",
    "import math"
   ]
  },
  {
   "cell_type": "code",
   "execution_count": 2,
   "metadata": {},
   "outputs": [],
   "source": [
    "from zkstats.core import create_dummy, verifier_define_calculation, prover_gen_settings, setup, prover_gen_proof, verifier_verify, generate_data_commitment"
   ]
  },
  {
   "cell_type": "code",
   "execution_count": 3,
   "metadata": {},
   "outputs": [],
   "source": [
    "# init path\n",
    "os.makedirs(os.path.dirname('shared/'), exist_ok=True)\n",
    "os.makedirs(os.path.dirname('prover/'), exist_ok=True)\n",
    "verifier_model_path = os.path.join('shared/verifier.onnx')\n",
    "prover_model_path = os.path.join('prover/prover.onnx')\n",
    "verifier_compiled_model_path = os.path.join('shared/verifier.compiled')\n",
    "prover_compiled_model_path = os.path.join('prover/prover.compiled')\n",
    "pk_path = os.path.join('shared/test.pk')\n",
    "vk_path = os.path.join('shared/test.vk')\n",
    "proof_path = os.path.join('shared/test.pf')\n",
    "settings_path = os.path.join('shared/settings.json')\n",
    "srs_path = os.path.join('shared/kzg.srs')\n",
    "witness_path = os.path.join('prover/witness.json')\n",
    "# this is private to prover since it contains actual data\n",
    "sel_data_path = os.path.join('prover/sel_data.json')\n",
    "# this is just dummy random value\n",
    "sel_dummy_data_path = os.path.join('shared/sel_dummy_data.json')\n",
    "data_commitment_path = os.path.join('shared/data_commitment.json')\n",
    "precal_witness_path = os.path.join('shared/precal_witness_arr.json')"
   ]
  },
  {
   "attachments": {},
   "cell_type": "markdown",
   "metadata": {},
   "source": [
    "=======================  ZK-STATS FLOW ======================="
   ]
  },
  {
   "cell_type": "code",
   "execution_count": 4,
   "metadata": {},
   "outputs": [],
   "source": [
    "data_path = os.path.join('data.json')\n",
    "dummy_data_path = os.path.join('shared/dummy_data.json')\n",
    "\n",
    "create_dummy(data_path, dummy_data_path)\n"
   ]
  },
  {
   "cell_type": "code",
   "execution_count": 5,
   "metadata": {},
   "outputs": [],
   "source": [
    "scales = [4]\n",
    "selected_columns = ['x1', 'y']\n",
    "generate_data_commitment(data_path, scales, data_commitment_path)"
   ]
  },
  {
   "cell_type": "code",
   "execution_count": 6,
   "metadata": {},
   "outputs": [
    {
     "name": "stderr",
     "output_type": "stream",
     "text": [
      "/Users/jernkun/Desktop/zk-stats-lib/zkstats/computation.py:254: TracerWarning: torch.tensor results are registered as constants in the trace. You can safely ignore this warning if you use this function to create tensors out of constant variables that would be the same every time you call this function. In any other case, this might cause the trace to be incorrect.\n",
      "  is_precise_aggregated = torch.tensor(1.0)\n",
      "/Users/jernkun/Desktop/zk-stats-lib/zkstats/ops.py:34: TracerWarning: torch.tensor results are registered as constants in the trace. You can safely ignore this warning if you use this function to create tensors out of constant variables that would be the same every time you call this function. In any other case, this might cause the trace to be incorrect.\n",
      "  return torch.tensor(True)\n",
      "/Users/jernkun/Desktop/zk-stats-lib/zkstats/ops.py:542: TracerWarning: torch.tensor results are registered as constants in the trace. You can safely ignore this warning if you use this function to create tensors out of constant variables that would be the same every time you call this function. In any other case, this might cause the trace to be incorrect.\n",
      "  x_one = torch.where((x_one[:,:,0] ==MagicNumber).unsqueeze(-1), torch.tensor([0.0]*x_one.size()[2]), x_one)\n",
      "/Users/jernkun/Library/Caches/pypoetry/virtualenvs/zkstats-OJpceffF-py3.11/lib/python3.11/site-packages/torch/onnx/symbolic_opset9.py:2174: FutureWarning: 'torch.onnx.symbolic_opset9._cast_Bool' is deprecated in version 2.0 and will be removed in the future. Please Avoid using this function and create a Cast node instead.\n",
      "  return fn(g, to_cast_func(g, input, False), to_cast_func(g, other, False))\n",
      "/Users/jernkun/Library/Caches/pypoetry/virtualenvs/zkstats-OJpceffF-py3.11/lib/python3.11/site-packages/torch/onnx/utils.py:1703: UserWarning: The exported ONNX model failed ONNX shape inference. The model will not be executable by the ONNX Runtime. If this is unintended and you believe there is a bug, please report an issue at https://github.com/pytorch/pytorch/issues. Error reported by strict ONNX shape inference: [ShapeInferenceError] (op_type:Where, node name: /Where_2): Y has inconsistent type tensor(float) (Triggered internally at /Users/runner/work/pytorch/pytorch/pytorch/torch/csrc/jit/serialization/export.cpp:1490.)\n",
      "  _C._check_onnx_proto(proto)\n"
     ]
    },
    {
     "name": "stdout",
     "output_type": "stream",
     "text": [
      "==== Generate & Calibrate Setting ====\n"
     ]
    },
    {
     "name": "stderr",
     "output_type": "stream",
     "text": [
      "\n",
      "\n",
      " <------------- Numerical Fidelity Report (input_scale: 4, param_scale: 4, scale_input_multiplier: 1) ------------->\n",
      "\n",
      "+---------------+--------------+-----------+--------------+----------------+------------------+---------------+---------------+--------------------+--------------------+------------------------+\n",
      "| mean_error    | median_error | max_error | min_error    | mean_abs_error | median_abs_error | max_abs_error | min_abs_error | mean_squared_error | mean_percent_error | mean_abs_percent_error |\n",
      "+---------------+--------------+-----------+--------------+----------------+------------------+---------------+---------------+--------------------+--------------------+------------------------+\n",
      "| -0.0055365562 | -0.004655361 | 0         | -0.011954308 | 0.0055365562   | 0.004655361      | 0.011954308   | 0             | 0.000054859283     | -0.001968241       | 0.001968241            |\n",
      "+---------------+--------------+-----------+--------------+----------------+------------------+---------------+---------------+--------------------+--------------------+------------------------+\n",
      "\n",
      "\n"
     ]
    },
    {
     "name": "stdout",
     "output_type": "stream",
     "text": [
      "scale:  [4]\n",
      "setting:  {\"run_args\":{\"tolerance\":{\"val\":0.0,\"scale\":1.0},\"input_scale\":4,\"param_scale\":4,\"scale_rebase_multiplier\":1,\"lookup_range\":[-4198,512],\"logrows\":13,\"num_inner_cols\":2,\"variables\":[[\"batch_size\",1]],\"input_visibility\":{\"Hashed\":{\"hash_is_public\":true,\"outlets\":[]}},\"output_visibility\":\"Public\",\"param_visibility\":\"Fixed\",\"div_rebasing\":false,\"rebase_frac_zero_constants\":false,\"check_mode\":\"UNSAFE\"},\"num_rows\":7872,\"total_assignments\":2989,\"total_const_size\":867,\"model_instance_shapes\":[[1],[1,2,1]],\"model_output_scales\":[0,4],\"model_input_scales\":[4,4],\"module_sizes\":{\"kzg\":[],\"poseidon\":[7872,[2]]},\"required_lookups\":[{\"GreaterThan\":{\"a\":0.0}},{\"Cast\":{\"scale\":16.0}}],\"required_range_checks\":[[-8,8]],\"check_mode\":\"UNSAFE\",\"version\":\"9.1.0\",\"num_blinding_factors\":null,\"timestamp\":1715324358829}\n"
     ]
    }
   ],
   "source": [
    "# Verifier/ data consumer side: send desired calculation\n",
    "from zkstats.computation import computation_to_model, State\n",
    "\n",
    "\n",
    "def computation(s: State, data: list[torch.Tensor]) -> torch.Tensor:\n",
    "    x = data[0]\n",
    "    y = data[1]\n",
    "\n",
    "    filter = (y < 20)\n",
    "\n",
    "    filtered_x = s.where(filter, x)\n",
    "    filtered_y = s.where(filter, y)\n",
    "    return s.linear_regression(filtered_x,filtered_y)\n",
    "\n",
    "\n",
    "\n",
    "error = 0.05\n",
    "_, prover_model = computation_to_model(computation, precal_witness_path, True, selected_columns, error)\n",
    "prover_gen_settings(data_path, selected_columns, sel_data_path, prover_model, prover_model_path, scales, \"resources\", settings_path)\n"
   ]
  },
  {
   "cell_type": "code",
   "execution_count": 7,
   "metadata": {},
   "outputs": [],
   "source": [
    "_, verifier_model = computation_to_model(computation, precal_witness_path, False, selected_columns,error)\n",
    "verifier_define_calculation(dummy_data_path, selected_columns, sel_dummy_data_path,verifier_model, verifier_model_path)"
   ]
  },
  {
   "cell_type": "code",
   "execution_count": 8,
   "metadata": {},
   "outputs": [
    {
     "name": "stdout",
     "output_type": "stream",
     "text": [
      "==== setting up ezkl ====\n",
      "Time setup: 1.0736441612243652 seconds\n",
      "=======================================\n",
      "==== Generating Witness ====\n",
      "witness boolean:  1.0\n",
      "witness result 1 : 1.0\n",
      "witness result 2 : 9.75\n",
      "==== Generating Proof ====\n",
      "proof:  {'instances': [['78f113a919d1324cbee267b4320db42ee0170745a57013fa302f8139d7c36f18', '8dff683cfffbd97a4d94de7d897e03bb3f2fa18084beff4bbfbd152c2e2bcd16', '0100000000000000000000000000000000000000000000000000000000000000', '1000000000000000000000000000000000000000000000000000000000000000', '9c00000000000000000000000000000000000000000000000000000000000000']], 'proof': '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', 'transcript_type': 'EVM'}\n",
      "Time gen prf: 1.3729209899902344 seconds\n"
     ]
    }
   ],
   "source": [
    "# Here verifier & prover can concurrently call setup since all params are public to get pk.\n",
    "# Here write as verifier function to emphasize that verifier must calculate its own vk to be sure\n",
    "setup(verifier_model_path, verifier_compiled_model_path, settings_path,vk_path, pk_path )\n",
    "\n",
    "print(\"=======================================\")\n",
    "# Prover generates proof\n",
    "prover_gen_proof(prover_model_path, sel_data_path, witness_path, prover_compiled_model_path, settings_path, proof_path, pk_path)"
   ]
  },
  {
   "cell_type": "code",
   "execution_count": 9,
   "metadata": {},
   "outputs": [
    {
     "name": "stdout",
     "output_type": "stream",
     "text": [
      "Verifier gets result: [1.0, 9.75]\n"
     ]
    }
   ],
   "source": [
    "# Verifier verifies\n",
    "res = verifier_verify(proof_path, settings_path, vk_path, selected_columns, data_commitment_path)\n",
    "print(\"Verifier gets result:\", res)"
   ]
  },
  {
   "cell_type": "code",
   "execution_count": null,
   "metadata": {},
   "outputs": [],
   "source": []
  }
 ],
 "metadata": {
  "kernelspec": {
   "display_name": "Python 3",
   "language": "python",
   "name": "python3"
  },
  "language_info": {
   "codemirror_mode": {
    "name": "ipython",
    "version": 3
   },
   "file_extension": ".py",
   "mimetype": "text/x-python",
   "name": "python",
   "nbconvert_exporter": "python",
   "pygments_lexer": "ipython3",
   "version": "3.11.4"
  },
  "orig_nbformat": 4
 },
 "nbformat": 4,
 "nbformat_minor": 2
}
