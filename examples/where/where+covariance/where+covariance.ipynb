{
 "cells": [
  {
   "cell_type": "code",
   "execution_count": 1,
   "metadata": {},
   "outputs": [],
   "source": [
    "import ezkl\n",
    "import torch\n",
    "from torch import nn\n",
    "import json\n",
    "import os\n",
    "import time\n",
    "import scipy\n",
    "import numpy as np\n",
    "import matplotlib.pyplot as plt\n",
    "import statistics\n",
    "import math"
   ]
  },
  {
   "cell_type": "code",
   "execution_count": 2,
   "metadata": {},
   "outputs": [],
   "source": [
    "from zkstats.core import create_dummy, verifier_define_calculation, prover_gen_settings, setup, prover_gen_proof, verifier_verify, generate_data_commitment"
   ]
  },
  {
   "cell_type": "code",
   "execution_count": 3,
   "metadata": {},
   "outputs": [],
   "source": [
    "# init path\n",
    "os.makedirs(os.path.dirname('shared/'), exist_ok=True)\n",
    "os.makedirs(os.path.dirname('prover/'), exist_ok=True)\n",
    "verifier_model_path = os.path.join('shared/verifier.onnx')\n",
    "prover_model_path = os.path.join('prover/prover.onnx')\n",
    "verifier_compiled_model_path = os.path.join('shared/verifier.compiled')\n",
    "prover_compiled_model_path = os.path.join('prover/prover.compiled')\n",
    "pk_path = os.path.join('shared/test.pk')\n",
    "vk_path = os.path.join('shared/test.vk')\n",
    "proof_path = os.path.join('shared/test.pf')\n",
    "settings_path = os.path.join('shared/settings.json')\n",
    "srs_path = os.path.join('shared/kzg.srs')\n",
    "witness_path = os.path.join('prover/witness.json')\n",
    "# this is private to prover since it contains actual data\n",
    "sel_data_path = os.path.join('prover/sel_data.json')\n",
    "# this is just dummy random value\n",
    "sel_dummy_data_path = os.path.join('shared/sel_dummy_data.json')\n",
    "data_commitment_path = os.path.join('shared/data_commitment.json')\n",
    "precal_witness_path = os.path.join('shared/precal_witness_arr.json')"
   ]
  },
  {
   "attachments": {},
   "cell_type": "markdown",
   "metadata": {},
   "source": [
    "=======================  ZK-STATS FLOW ======================="
   ]
  },
  {
   "cell_type": "code",
   "execution_count": 4,
   "metadata": {},
   "outputs": [],
   "source": [
    "data_path = os.path.join('data.json')\n",
    "dummy_data_path = os.path.join('shared/dummy_data.json')\n",
    "\n",
    "create_dummy(data_path, dummy_data_path)"
   ]
  },
  {
   "cell_type": "code",
   "execution_count": 5,
   "metadata": {},
   "outputs": [],
   "source": [
    "# note scale = 2, or 3 makes it more precise, but too big.\n",
    "scales = [1]\n",
    "selected_columns = ['x', 'y']\n",
    "generate_data_commitment(data_path, scales, data_commitment_path)"
   ]
  },
  {
   "attachments": {},
   "cell_type": "markdown",
   "metadata": {},
   "source": []
  },
  {
   "cell_type": "code",
   "execution_count": 6,
   "metadata": {},
   "outputs": [
    {
     "name": "stderr",
     "output_type": "stream",
     "text": [
      "/Users/jernkun/Desktop/zk-stats-lib/zkstats/computation.py:254: TracerWarning: torch.tensor results are registered as constants in the trace. You can safely ignore this warning if you use this function to create tensors out of constant variables that would be the same every time you call this function. In any other case, this might cause the trace to be incorrect.\n",
      "  is_precise_aggregated = torch.tensor(1.0)\n",
      "/Users/jernkun/Desktop/zk-stats-lib/zkstats/ops.py:34: TracerWarning: torch.tensor results are registered as constants in the trace. You can safely ignore this warning if you use this function to create tensors out of constant variables that would be the same every time you call this function. In any other case, this might cause the trace to be incorrect.\n",
      "  return torch.tensor(True)\n",
      "/Users/jernkun/Library/Caches/pypoetry/virtualenvs/zkstats-OJpceffF-py3.11/lib/python3.11/site-packages/torch/onnx/symbolic_opset9.py:2174: FutureWarning: 'torch.onnx.symbolic_opset9._cast_Bool' is deprecated in version 2.0 and will be removed in the future. Please Avoid using this function and create a Cast node instead.\n",
      "  return fn(g, to_cast_func(g, input, False), to_cast_func(g, other, False))\n",
      "/Users/jernkun/Library/Caches/pypoetry/virtualenvs/zkstats-OJpceffF-py3.11/lib/python3.11/site-packages/torch/onnx/utils.py:1703: UserWarning: The exported ONNX model failed ONNX shape inference. The model will not be executable by the ONNX Runtime. If this is unintended and you believe there is a bug, please report an issue at https://github.com/pytorch/pytorch/issues. Error reported by strict ONNX shape inference: [ShapeInferenceError] (op_type:Where, node name: /Where_2): Y has inconsistent type tensor(float) (Triggered internally at /Users/runner/work/pytorch/pytorch/pytorch/torch/csrc/jit/serialization/export.cpp:1490.)\n",
      "  _C._check_onnx_proto(proto)\n"
     ]
    },
    {
     "name": "stdout",
     "output_type": "stream",
     "text": [
      "==== Generate & Calibrate Setting ====\n"
     ]
    },
    {
     "name": "stderr",
     "output_type": "stream",
     "text": [
      "\n",
      "\n",
      " <------------- Numerical Fidelity Report (input_scale: 1, param_scale: 1, scale_input_multiplier: 10) ------------->\n",
      "\n",
      "+------------+--------------+------------+-----------+----------------+------------------+---------------+---------------+--------------------+--------------------+------------------------+\n",
      "| mean_error | median_error | max_error  | min_error | mean_abs_error | median_abs_error | max_abs_error | min_abs_error | mean_squared_error | mean_percent_error | mean_abs_percent_error |\n",
      "+------------+--------------+------------+-----------+----------------+------------------+---------------+---------------+--------------------+--------------------+------------------------+\n",
      "| 0.08456421 | 0.16912842   | 0.16912842 | 0         | 0.08456421     | 0.16912842       | 0.16912842    | 0             | 0.014302211        | 0.00025573664      | 0.00025573664          |\n",
      "+------------+--------------+------------+-----------+----------------+------------------+---------------+---------------+--------------------+--------------------+------------------------+\n",
      "\n",
      "\n"
     ]
    },
    {
     "name": "stdout",
     "output_type": "stream",
     "text": [
      "scale:  [1]\n",
      "setting:  {\"run_args\":{\"tolerance\":{\"val\":0.0,\"scale\":1.0},\"input_scale\":1,\"param_scale\":1,\"scale_rebase_multiplier\":10,\"lookup_range\":[-1348,896],\"logrows\":14,\"num_inner_cols\":2,\"variables\":[[\"batch_size\",1]],\"input_visibility\":{\"Hashed\":{\"hash_is_public\":true,\"outlets\":[]}},\"output_visibility\":\"Public\",\"param_visibility\":\"Fixed\",\"div_rebasing\":false,\"rebase_frac_zero_constants\":false,\"check_mode\":\"UNSAFE\"},\"num_rows\":13120,\"total_assignments\":7463,\"total_const_size\":2836,\"model_instance_shapes\":[[1],[1]],\"model_output_scales\":[0,1],\"model_input_scales\":[1,1],\"module_sizes\":{\"kzg\":[],\"poseidon\":[13120,[2]]},\"required_lookups\":[{\"GreaterThan\":{\"a\":0.0}},\"Abs\"],\"required_range_checks\":[],\"check_mode\":\"UNSAFE\",\"version\":\"9.1.0\",\"num_blinding_factors\":null,\"timestamp\":1715153321207}\n"
     ]
    }
   ],
   "source": [
    "# Verifier/ data consumer side:\n",
    "from zkstats.computation import computation_to_model, State\n",
    "\n",
    "def computation(s: State, data: list[torch.Tensor]) -> torch.Tensor:\n",
    "    x, y = data[0], data[1]\n",
    "    # can AND condition! (same for OR as well)\n",
    "    filter = torch.logical_and((x>50), (y>300))\n",
    "    filtered_x = s.where(filter, x)\n",
    "    filtered_y = s.where(filter, y)\n",
    "    return s.covariance(filtered_x, filtered_y)\n",
    "\n",
    "error = 0.01\n",
    "\n",
    "_, prover_model = computation_to_model(computation, precal_witness_path, True, selected_columns, error)\n",
    "prover_gen_settings(data_path, selected_columns, sel_data_path, prover_model, prover_model_path, scales, \"resources\", settings_path)\n",
    "\n"
   ]
  },
  {
   "cell_type": "code",
   "execution_count": 7,
   "metadata": {},
   "outputs": [],
   "source": [
    "_, verifier_model = computation_to_model(computation, precal_witness_path, False, selected_columns, error)\n",
    "verifier_define_calculation(dummy_data_path, selected_columns, sel_dummy_data_path,verifier_model, verifier_model_path)"
   ]
  },
  {
   "cell_type": "code",
   "execution_count": 8,
   "metadata": {},
   "outputs": [
    {
     "name": "stdout",
     "output_type": "stream",
     "text": [
      "==== setting up ezkl ====\n",
      "Time setup: 1.7946860790252686 seconds\n",
      "=======================================\n",
      "==== Generating Witness ====\n",
      "witness boolean:  1.0\n",
      "witness result 1 : 330.5\n",
      "==== Generating Proof ====\n",
      "proof:  {'instances': [['b8c4693b3424042141e265e5179743499536c8b9f1ddc7d4d4fc847c1c09df04', '7d055c183092753c601560dfbfa0b446f5417438227d99435c476a0659de3d14', '0100000000000000000000000000000000000000000000000000000000000000', '9502000000000000000000000000000000000000000000000000000000000000']], 'proof': '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', 'transcript_type': 'EVM'}\n",
      "Time gen prf: 2.1852238178253174 seconds\n"
     ]
    }
   ],
   "source": [
    "# Here verifier & prover can concurrently call setup since all params are public to get pk.\n",
    "# Here write as verifier function to emphasize that verifier must calculate its own vk to be sure\n",
    "setup(verifier_model_path, verifier_compiled_model_path, settings_path,vk_path, pk_path )\n",
    "\n",
    "print(\"=======================================\")\n",
    "# Prover generates proof\n",
    "prover_gen_proof(prover_model_path, sel_data_path, witness_path, prover_compiled_model_path, settings_path, proof_path, pk_path)"
   ]
  },
  {
   "cell_type": "code",
   "execution_count": 9,
   "metadata": {},
   "outputs": [
    {
     "name": "stdout",
     "output_type": "stream",
     "text": [
      "Verifier gets result: [330.5]\n"
     ]
    }
   ],
   "source": [
    "# Verifier verifies\n",
    "res = verifier_verify(proof_path, settings_path, vk_path, selected_columns, data_commitment_path)\n",
    "print(\"Verifier gets result:\", res)"
   ]
  },
  {
   "cell_type": "code",
   "execution_count": null,
   "metadata": {},
   "outputs": [],
   "source": []
  }
 ],
 "metadata": {
  "kernelspec": {
   "display_name": "Python 3",
   "language": "python",
   "name": "python3"
  },
  "language_info": {
   "codemirror_mode": {
    "name": "ipython",
    "version": 3
   },
   "file_extension": ".py",
   "mimetype": "text/x-python",
   "name": "python",
   "nbconvert_exporter": "python",
   "pygments_lexer": "ipython3",
   "version": "3.11.4"
  },
  "orig_nbformat": 4
 },
 "nbformat": 4,
 "nbformat_minor": 2
}
