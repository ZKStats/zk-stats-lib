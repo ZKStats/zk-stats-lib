{
 "cells": [
  {
   "cell_type": "code",
   "execution_count": 1,
   "metadata": {},
   "outputs": [],
   "source": [
    "import ezkl\n",
    "import torch\n",
    "from torch import nn\n",
    "import json\n",
    "import os\n",
    "import time\n",
    "import scipy\n",
    "import numpy as np\n",
    "import matplotlib.pyplot as plt\n",
    "import statistics\n",
    "import math"
   ]
  },
  {
   "cell_type": "code",
   "execution_count": 2,
   "metadata": {},
   "outputs": [],
   "source": [
    "from zkstats.core import create_dummy, verifier_define_calculation, prover_gen_settings, setup, prover_gen_proof, verifier_verify, generate_data_commitment"
   ]
  },
  {
   "attachments": {},
   "cell_type": "markdown",
   "metadata": {},
   "source": []
  },
  {
   "cell_type": "code",
   "execution_count": 3,
   "metadata": {},
   "outputs": [],
   "source": [
    "# init path\n",
    "os.makedirs(os.path.dirname('shared/'), exist_ok=True)\n",
    "os.makedirs(os.path.dirname('prover/'), exist_ok=True)\n",
    "verifier_model_path = os.path.join('shared/verifier.onnx')\n",
    "prover_model_path = os.path.join('prover/prover.onnx')\n",
    "verifier_compiled_model_path = os.path.join('shared/verifier.compiled')\n",
    "prover_compiled_model_path = os.path.join('prover/prover.compiled')\n",
    "pk_path = os.path.join('shared/test.pk')\n",
    "vk_path = os.path.join('shared/test.vk')\n",
    "proof_path = os.path.join('shared/test.pf')\n",
    "settings_path = os.path.join('shared/settings.json')\n",
    "srs_path = os.path.join('shared/kzg.srs')\n",
    "witness_path = os.path.join('prover/witness.json')\n",
    "# this is private to prover since it contains actual data\n",
    "sel_data_path = os.path.join('prover/sel_data.json')\n",
    "# this is just dummy random value\n",
    "sel_dummy_data_path = os.path.join('shared/sel_dummy_data.json')\n",
    "data_commitment_path = os.path.join('shared/data_commitment.json')\n",
    "precal_witness_path = os.path.join('shared/precal_witness_arr.json')"
   ]
  },
  {
   "attachments": {},
   "cell_type": "markdown",
   "metadata": {},
   "source": [
    "=======================  ZK-STATS FLOW ======================="
   ]
  },
  {
   "cell_type": "code",
   "execution_count": 4,
   "metadata": {},
   "outputs": [],
   "source": [
    "data_path = os.path.join('data.json')\n",
    "dummy_data_path = os.path.join('shared/dummy_data.json')\n",
    "\n",
    "create_dummy(data_path, dummy_data_path)"
   ]
  },
  {
   "cell_type": "code",
   "execution_count": 5,
   "metadata": {},
   "outputs": [],
   "source": [
    "scales = [3]\n",
    "selected_columns = ['col_name']\n",
    "generate_data_commitment(data_path, scales, data_commitment_path)"
   ]
  },
  {
   "cell_type": "code",
   "execution_count": 6,
   "metadata": {},
   "outputs": [
    {
     "name": "stderr",
     "output_type": "stream",
     "text": [
      "/Users/jernkun/Desktop/zk-stats-lib/zkstats/computation.py:254: TracerWarning: torch.tensor results are registered as constants in the trace. You can safely ignore this warning if you use this function to create tensors out of constant variables that would be the same every time you call this function. In any other case, this might cause the trace to be incorrect.\n",
      "  is_precise_aggregated = torch.tensor(1.0)\n",
      "/Users/jernkun/Desktop/zk-stats-lib/zkstats/ops.py:34: TracerWarning: torch.tensor results are registered as constants in the trace. You can safely ignore this warning if you use this function to create tensors out of constant variables that would be the same every time you call this function. In any other case, this might cause the trace to be incorrect.\n",
      "  return torch.tensor(True)\n",
      "/Users/jernkun/Library/Caches/pypoetry/virtualenvs/zkstats-OJpceffF-py3.11/lib/python3.11/site-packages/torch/onnx/symbolic_opset9.py:2174: FutureWarning: 'torch.onnx.symbolic_opset9._cast_Bool' is deprecated in version 2.0 and will be removed in the future. Please Avoid using this function and create a Cast node instead.\n",
      "  return fn(g, to_cast_func(g, input, False), to_cast_func(g, other, False))\n",
      "/Users/jernkun/Library/Caches/pypoetry/virtualenvs/zkstats-OJpceffF-py3.11/lib/python3.11/site-packages/torch/onnx/utils.py:1703: UserWarning: The exported ONNX model failed ONNX shape inference. The model will not be executable by the ONNX Runtime. If this is unintended and you believe there is a bug, please report an issue at https://github.com/pytorch/pytorch/issues. Error reported by strict ONNX shape inference: [ShapeInferenceError] (op_type:Where, node name: /Where_2): Y has inconsistent type tensor(float) (Triggered internally at /Users/runner/work/pytorch/pytorch/pytorch/torch/csrc/jit/serialization/export.cpp:1490.)\n",
      "  _C._check_onnx_proto(proto)\n",
      "\n",
      "\n",
      " <------------- Numerical Fidelity Report (input_scale: 3, param_scale: 3, scale_input_multiplier: 1) ------------->\n",
      "\n",
      "+--------------+--------------+-----------+--------------+----------------+------------------+---------------+---------------+--------------------+--------------------+------------------------+\n",
      "| mean_error   | median_error | max_error | min_error    | mean_abs_error | median_abs_error | max_abs_error | min_abs_error | mean_squared_error | mean_percent_error | mean_abs_percent_error |\n",
      "+--------------+--------------+-----------+--------------+----------------+------------------+---------------+---------------+--------------------+--------------------+------------------------+\n",
      "| -0.016670227 | -0.033340454 | 0         | -0.033340454 | 0.016670227    | 0.033340454      | 0.033340454   | 0             | 0.00055579294      | -0.00030676697     | 0.00030676697          |\n",
      "+--------------+--------------+-----------+--------------+----------------+------------------+---------------+---------------+--------------------+--------------------+------------------------+\n",
      "\n",
      "\n"
     ]
    },
    {
     "name": "stdout",
     "output_type": "stream",
     "text": [
      "==== Generate & Calibrate Setting ====\n",
      "scale:  [3]\n",
      "setting:  {\"run_args\":{\"tolerance\":{\"val\":0.0,\"scale\":1.0},\"input_scale\":3,\"param_scale\":3,\"scale_rebase_multiplier\":1,\"lookup_range\":[-294,1278],\"logrows\":12,\"num_inner_cols\":2,\"variables\":[[\"batch_size\",1]],\"input_visibility\":{\"Hashed\":{\"hash_is_public\":true,\"outlets\":[]}},\"output_visibility\":\"Public\",\"param_visibility\":\"Fixed\",\"div_rebasing\":false,\"rebase_frac_zero_constants\":false,\"check_mode\":\"UNSAFE\"},\"num_rows\":3936,\"total_assignments\":1579,\"total_const_size\":617,\"model_instance_shapes\":[[1],[1]],\"model_output_scales\":[0,3],\"model_input_scales\":[3],\"module_sizes\":{\"kzg\":[],\"poseidon\":[3936,[1]]},\"required_lookups\":[\"Abs\",{\"GreaterThan\":{\"a\":0.0}}],\"required_range_checks\":[[-4,4]],\"check_mode\":\"UNSAFE\",\"version\":\"9.1.0\",\"num_blinding_factors\":null,\"timestamp\":1715153504905}\n"
     ]
    }
   ],
   "source": [
    "# Verifier/ data consumer side: send desired calculation\n",
    "from zkstats.computation import computation_to_model, State\n",
    "\n",
    "\n",
    "def computation(s: State, data: list[torch.Tensor]) -> torch.Tensor:\n",
    "    x = data[0]\n",
    "    filter = (x > 20.0)\n",
    "    filtered_x = s.where(filter, x)\n",
    "    return s.mean(filtered_x)\n",
    "\n",
    "error = 0.01\n",
    "\n",
    "_, prover_model = computation_to_model(computation, precal_witness_path, True, selected_columns, error)\n",
    "prover_gen_settings(data_path, selected_columns, sel_data_path, prover_model, prover_model_path, scales, \"resources\", settings_path)\n",
    "\n"
   ]
  },
  {
   "cell_type": "code",
   "execution_count": 7,
   "metadata": {},
   "outputs": [],
   "source": [
    "_, verifier_model = computation_to_model(computation, precal_witness_path, False, selected_columns, error)\n",
    "verifier_define_calculation(dummy_data_path, selected_columns, sel_dummy_data_path,verifier_model, verifier_model_path)"
   ]
  },
  {
   "cell_type": "code",
   "execution_count": 8,
   "metadata": {},
   "outputs": [
    {
     "name": "stdout",
     "output_type": "stream",
     "text": [
      "==== setting up ezkl ====\n",
      "Time setup: 0.6430368423461914 seconds\n",
      "=======================================\n",
      "==== Generating Witness ====\n",
      "witness boolean:  1.0\n",
      "witness result 1 : 54.375\n",
      "==== Generating Proof ====\n",
      "proof:  {'instances': [['11e5950d0c875140b38d8b4bc0997697b7b183cfdbc19e767d87caf0020da12a', '0100000000000000000000000000000000000000000000000000000000000000', 'b301000000000000000000000000000000000000000000000000000000000000']], 'proof': '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', 'transcript_type': 'EVM'}\n",
      "Time gen prf: 0.7918429374694824 seconds\n"
     ]
    }
   ],
   "source": [
    "# Here verifier & prover can concurrently call setup since all params are public to get pk.\n",
    "# Here write as verifier function to emphasize that verifier must calculate its own vk to be sure\n",
    "setup(verifier_model_path, verifier_compiled_model_path, settings_path,vk_path, pk_path )\n",
    "\n",
    "print(\"=======================================\")\n",
    "# Prover generates proof\n",
    "prover_gen_proof(prover_model_path, sel_data_path, witness_path, prover_compiled_model_path, settings_path, proof_path, pk_path)"
   ]
  },
  {
   "cell_type": "code",
   "execution_count": 9,
   "metadata": {},
   "outputs": [
    {
     "name": "stdout",
     "output_type": "stream",
     "text": [
      "Verifier gets result: [54.375]\n"
     ]
    }
   ],
   "source": [
    "# Verifier verifies\n",
    "res = verifier_verify(proof_path, settings_path, vk_path, selected_columns, data_commitment_path)\n",
    "print(\"Verifier gets result:\", res)"
   ]
  },
  {
   "cell_type": "code",
   "execution_count": null,
   "metadata": {},
   "outputs": [],
   "source": []
  }
 ],
 "metadata": {
  "kernelspec": {
   "display_name": "Python 3",
   "language": "python",
   "name": "python3"
  },
  "language_info": {
   "codemirror_mode": {
    "name": "ipython",
    "version": 3
   },
   "file_extension": ".py",
   "mimetype": "text/x-python",
   "name": "python",
   "nbconvert_exporter": "python",
   "pygments_lexer": "ipython3",
   "version": "3.11.4"
  },
  "orig_nbformat": 4
 },
 "nbformat": 4,
 "nbformat_minor": 2
}
