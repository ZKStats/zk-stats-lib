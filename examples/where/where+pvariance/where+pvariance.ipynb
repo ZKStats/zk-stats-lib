{
 "cells": [
  {
   "cell_type": "code",
   "execution_count": 1,
   "metadata": {},
   "outputs": [],
   "source": [
    "import ezkl\n",
    "import torch\n",
    "from torch import nn\n",
    "import json\n",
    "import os\n",
    "import time\n",
    "import scipy\n",
    "import numpy as np\n",
    "import matplotlib.pyplot as plt\n",
    "import statistics\n",
    "import math"
   ]
  },
  {
   "cell_type": "code",
   "execution_count": 2,
   "metadata": {},
   "outputs": [],
   "source": [
    "from zkstats.core import create_dummy, verifier_define_calculation, prover_gen_settings, setup, prover_gen_proof, verifier_verify, generate_data_commitment"
   ]
  },
  {
   "cell_type": "code",
   "execution_count": 3,
   "metadata": {},
   "outputs": [],
   "source": [
    "# init path\n",
    "os.makedirs(os.path.dirname('shared/'), exist_ok=True)\n",
    "os.makedirs(os.path.dirname('prover/'), exist_ok=True)\n",
    "verifier_model_path = os.path.join('shared/verifier.onnx')\n",
    "prover_model_path = os.path.join('prover/prover.onnx')\n",
    "verifier_compiled_model_path = os.path.join('shared/verifier.compiled')\n",
    "prover_compiled_model_path = os.path.join('prover/prover.compiled')\n",
    "pk_path = os.path.join('shared/test.pk')\n",
    "vk_path = os.path.join('shared/test.vk')\n",
    "proof_path = os.path.join('shared/test.pf')\n",
    "settings_path = os.path.join('shared/settings.json')\n",
    "srs_path = os.path.join('shared/kzg.srs')\n",
    "witness_path = os.path.join('prover/witness.json')\n",
    "# this is private to prover since it contains actual data\n",
    "sel_data_path = os.path.join('prover/sel_data.json')\n",
    "# this is just dummy random value\n",
    "sel_dummy_data_path = os.path.join('shared/sel_dummy_data.json')\n",
    "data_commitment_path = os.path.join('shared/data_commitment.json')\n",
    "precal_witness_path = os.path.join('shared/precal_witness_arr.json')"
   ]
  },
  {
   "attachments": {},
   "cell_type": "markdown",
   "metadata": {},
   "source": [
    "=======================  ZK-STATS FLOW ======================="
   ]
  },
  {
   "cell_type": "code",
   "execution_count": 4,
   "metadata": {},
   "outputs": [],
   "source": [
    "data_path = os.path.join('data.json')\n",
    "dummy_data_path = os.path.join('shared/dummy_data.json')\n",
    "create_dummy(data_path, dummy_data_path)"
   ]
  },
  {
   "cell_type": "code",
   "execution_count": 5,
   "metadata": {},
   "outputs": [],
   "source": [
    "scales = [2]\n",
    "selected_columns = ['col_name']\n",
    "generate_data_commitment(data_path, scales, data_commitment_path)"
   ]
  },
  {
   "cell_type": "code",
   "execution_count": 6,
   "metadata": {},
   "outputs": [
    {
     "name": "stderr",
     "output_type": "stream",
     "text": [
      "/Users/jernkun/Desktop/zk-stats-lib/zkstats/computation.py:254: TracerWarning: torch.tensor results are registered as constants in the trace. You can safely ignore this warning if you use this function to create tensors out of constant variables that would be the same every time you call this function. In any other case, this might cause the trace to be incorrect.\n",
      "  is_precise_aggregated = torch.tensor(1.0)\n",
      "/Users/jernkun/Desktop/zk-stats-lib/zkstats/ops.py:34: TracerWarning: torch.tensor results are registered as constants in the trace. You can safely ignore this warning if you use this function to create tensors out of constant variables that would be the same every time you call this function. In any other case, this might cause the trace to be incorrect.\n",
      "  return torch.tensor(True)\n",
      "/Users/jernkun/Library/Caches/pypoetry/virtualenvs/zkstats-OJpceffF-py3.11/lib/python3.11/site-packages/torch/onnx/symbolic_opset9.py:2174: FutureWarning: 'torch.onnx.symbolic_opset9._cast_Bool' is deprecated in version 2.0 and will be removed in the future. Please Avoid using this function and create a Cast node instead.\n",
      "  return fn(g, to_cast_func(g, input, False), to_cast_func(g, other, False))\n",
      "/Users/jernkun/Library/Caches/pypoetry/virtualenvs/zkstats-OJpceffF-py3.11/lib/python3.11/site-packages/torch/onnx/utils.py:1703: UserWarning: The exported ONNX model failed ONNX shape inference. The model will not be executable by the ONNX Runtime. If this is unintended and you believe there is a bug, please report an issue at https://github.com/pytorch/pytorch/issues. Error reported by strict ONNX shape inference: [ShapeInferenceError] (op_type:Where, node name: /Where_1): Y has inconsistent type tensor(float) (Triggered internally at /Users/runner/work/pytorch/pytorch/pytorch/torch/csrc/jit/serialization/export.cpp:1490.)\n",
      "  _C._check_onnx_proto(proto)\n"
     ]
    },
    {
     "name": "stdout",
     "output_type": "stream",
     "text": [
      "==== Generate & Calibrate Setting ====\n"
     ]
    },
    {
     "name": "stderr",
     "output_type": "stream",
     "text": [
      "\n",
      "\n",
      " <------------- Numerical Fidelity Report (input_scale: 2, param_scale: 2, scale_input_multiplier: 10) ------------->\n",
      "\n",
      "+-------------+--------------+-------------+-----------+----------------+------------------+---------------+---------------+--------------------+--------------------+------------------------+\n",
      "| mean_error  | median_error | max_error   | min_error | mean_abs_error | median_abs_error | max_abs_error | min_abs_error | mean_squared_error | mean_percent_error | mean_abs_percent_error |\n",
      "+-------------+--------------+-------------+-----------+----------------+------------------+---------------+---------------+--------------------+--------------------+------------------------+\n",
      "| 0.059379578 | 0.118759155  | 0.118759155 | 0         | 0.059379578    | 0.118759155      | 0.118759155   | 0             | 0.0070518684       | 0.0012150826       | 0.0012150826           |\n",
      "+-------------+--------------+-------------+-----------+----------------+------------------+---------------+---------------+--------------------+--------------------+------------------------+\n",
      "\n",
      "\n"
     ]
    },
    {
     "name": "stdout",
     "output_type": "stream",
     "text": [
      "scale:  [2]\n",
      "setting:  {\"run_args\":{\"tolerance\":{\"val\":0.0,\"scale\":1.0},\"input_scale\":2,\"param_scale\":2,\"scale_rebase_multiplier\":10,\"lookup_range\":[-1354,1776],\"logrows\":14,\"num_inner_cols\":2,\"variables\":[[\"batch_size\",1]],\"input_visibility\":{\"Hashed\":{\"hash_is_public\":true,\"outlets\":[]}},\"output_visibility\":\"Public\",\"param_visibility\":\"Fixed\",\"div_rebasing\":false,\"rebase_frac_zero_constants\":false,\"check_mode\":\"UNSAFE\"},\"num_rows\":14432,\"total_assignments\":11436,\"total_const_size\":4221,\"model_instance_shapes\":[[1],[1]],\"model_output_scales\":[0,2],\"model_input_scales\":[2],\"module_sizes\":{\"kzg\":[],\"poseidon\":[14432,[1]]},\"required_lookups\":[\"Abs\",{\"GreaterThan\":{\"a\":0.0}}],\"required_range_checks\":[],\"check_mode\":\"UNSAFE\",\"version\":\"9.1.0\",\"num_blinding_factors\":null,\"timestamp\":1715153627467}\n"
     ]
    }
   ],
   "source": [
    "# Verifier/ data consumer side: send desired calculation\n",
    "from zkstats.computation import computation_to_model, State\n",
    "\n",
    "\n",
    "def computation(s: State, data: list[torch.Tensor]) -> torch.Tensor:\n",
    "    x = data[0]\n",
    "    filter = (x<45)\n",
    "    filtered_x = s.where(filter,x)\n",
    "    return s.pvariance(filtered_x)\n",
    "\n",
    "error = 0.01\n",
    "_, prover_model = computation_to_model(computation, precal_witness_path, True, selected_columns, error)\n",
    "prover_gen_settings(data_path, selected_columns, sel_data_path, prover_model, prover_model_path, scales, \"resources\", settings_path)\n"
   ]
  },
  {
   "cell_type": "code",
   "execution_count": 7,
   "metadata": {},
   "outputs": [],
   "source": [
    "_, verifier_model = computation_to_model(computation, precal_witness_path, False, selected_columns,error)\n",
    "verifier_define_calculation(dummy_data_path, selected_columns, sel_dummy_data_path,verifier_model, verifier_model_path)"
   ]
  },
  {
   "cell_type": "code",
   "execution_count": 8,
   "metadata": {},
   "outputs": [
    {
     "name": "stdout",
     "output_type": "stream",
     "text": [
      "==== setting up ezkl ====\n",
      "Time setup: 1.7364120483398438 seconds\n",
      "=======================================\n",
      "==== Generating Witness ====\n",
      "witness boolean:  1.0\n",
      "witness result 1 : 48.75\n",
      "==== Generating Proof ====\n",
      "proof:  {'instances': [['31220e5513f6e9b7d0f59d8f019cd197642a431b2136f0311abf6046c9006227', '0100000000000000000000000000000000000000000000000000000000000000', 'c300000000000000000000000000000000000000000000000000000000000000']], 'proof': '0x13ee7b25ae2e4873de832c9a3f2fca2abe069b950c41fc9dd98ecb84c93007ef2742a2e319c12a9d0b43953bef35cb8ebf1d8ff602f15405eb428758d6ae27d813a41c875e1f3ca3138f7e49eab949b1647f4fa2af63d3aff130dc07be79f35026590c8b317b0d34c1cf82051114d65f868b7ac12877ff7cd5c4812e7bab08a004bb531c8c49c8b8e5093d8c4e746957702d12f9b47393dd8c285e304cb7b3990a8b136cdf52675768c39feb9dbdb9d96f4203642fe7659c5dcf02518e65defe2d0127b001594e5b655e8bc5d00557abba8fb8ba58aa80cb2bd02f01f8c514b31817f938f6d15478656494e703a70fcdad6a9cb1ef4e9e5bb8e24d186724c7901e79ee6e4cbb32eb668ef6264633385b49f51ade23810df2b3b0affbdf264db603abe6a46bd9eef32626f4078ff6d5d1b66020c050cea0bb9eec52327fe1959024e3579ec0137bae314d06a54bbaeb711b6a3e2c466051c29888fb9ce10a88362b1a9506e1470fe8a334e08725405349cbba57082ea54ff02f2f0ff1e8f9efa8116df213fd092360e16765d6f067a02d8f8eed7b99e44975e0a30797e573a4a4032f0b79d82d1e493397d6978a1dea32d3ac54545edebe8d8f8c2300713f243a14328796cd642b63a775348e89667747cd7e0eba20bd6c92d1bfa2dd5a19c36c26427deaaebbc4e633d7afef67943e697167b76f5b9dc74de2d109066218b220094bcbc20289323d417f337195d6a6329e8ef5d1deffc482c0f9fc4426bc742424a5371659bc4207117e4dfb3048807d071d12d742eb5631b05aa49c926026ad0ccabaff8db85861fb337572f5dcdf1f1aa82433e1cdbdf0cdc7da2581bf36280b8f756846adf9935c4137ae81388177eb9821c4eb5d8853b6f4c047256c786828a5ec43f4c68455eac4f40251d59fa138918573da0ad089b8cd8f79de3f6c6216c2e24a14fae9e90949f5e3551800e09a52f3654c24f637f1a0d6b10f3e1368135c9834cba9edaec3ce5124f44ae516bccd1a5292e5cc911ac9caf9668a53be27ceac82d6fd7f7d06731949ab7de2d7518c4e6ed465c2a6afafff3b7124c01913b906f32610248abe029997df9bb2172c2cc8dd40f5ea1ed539ba08e55ac4d12ce89525d726d215a30c36741093ef9fe08bccedd0274b2e4b979ffa0f8aa8f1109fba1f591ea6b601434832e46643769d8a339ba6145d810933ebd9f416978623aa32bde3c70fc64fa0b35b312c95438f6529bbfa8e1bc9a6cd74e2312db4d9195cec6ea017d23034c885a670eb6128fad88498620589552f8f052a02da4e3f02cf6ec23f2aa8d751091a6364aaf3952f4f78eec7187705621c62bf6d9e541e2c3784e888d9ad72b70d738b5253153278eea0aa2852f75aa3d233f1d6c068370215d35483faf4f344286c8a68843a06f235028c7135f780c01c2d629cd1f93f305d6abf996f1f0ccabef9de1dce9be9dcc9cbaaf9aeb228737db9240152b851216ced4444d33ee803f840b8d8351fbd3c296e37cf3b1c63bd57c834323c4a0f1d6939108ffe512ac8c8857e0d5459673f2f42addae9961f014e4bea1ff36fd71e48b6bbb1c9127a69834c9d9bf3c24b97c078925ce07400ac996800b921579b01cca9227a02fd014e10259bad7e444606f0ca6a5c3dac578bf2997e4cac63c11d8e46b7e20d9b3f4a2682759a7a1689d1a978f8f383915a544c90bb62362f11140d354d8b944fd2026923576df57183cf0413c2fb7187d77701cae924b5a2c811014e69c605a07711b05afd1c9b6a8f340b3bcc1606b6b1e0ff00d6fdc23fa7267d094bb935a36ef40a326d05cf65c77795479e2bd85d42bd996a976acf0ac307e6711d8eda24e8c63e145013950b289707f27dfc1e4bd3bacece3057a40e2623b37689fe9fb7f3008a5ff0df1611f27eb590e8d6f1c56870a90d3efd9bd37101d1d9d46e0c828628d9d8ededc79a2cd77d2775998897188c04389a83b9b00928528fd482e80058bd71bed96133232a4a75877263784cc0d6c16bf067e319682077153f417b798ef7e7b24f1921ecc33585ecb2f459face7e53379f7591d2b00fa63de187b8f6732c022c3d98a1856698ffc3cf8557d57647eca7ceb45ca28b0bb22fd8590268ccf5528d6a362993918ebc1c5c9378a1399d8f85be2411cb99287c6f7201beb45168de61bbd4be33ab4cb152d0dcaaaaaa800d3d25a53d2b601c5ae5d9e67e19f736483ed562532fc5569d0f2814e829c08bcac522a907ee84253fd7ab51da2016cb5e5a49206636211aefa3729c4d43c906cc924b05b99aeb0651b24739952370eeb3cd4e8d51f481a8306a63a97d5c5fcddc09c7b41de41a101e71333a5708102593d00dcdcae830e8ea57e77636ffe17805153d1d3be6d91f3fbbab491afe61ef3facbfe59ffe6d18b035fab882d6dfefb59490696b7ab91cfd99838b58eea28e74099b019134904a2f165047713399dd6eca3419e7532902f4f8cdbe1a9bf7bbebb64ad93afa1dd91bb3fa911ed832eeb1520eb1104c5b0b66f20134a28893a237d22db45c93d0cb53a05ab40291cf767c88d664a4943f1d49e1fbb4c06e16a468d79930f67a18b4864ca51f4a9ae540acc46ae7602daa1bce1706660da8b5930d353902f51c148424160c0432c1b941192e37e4792a382a5db42d5200ac643caf5da5cb5c12fdd9eb445ae838efa76d5085927ad61f4d05ce860c31d2bd5153ca45ed6074b514fe704d2b321036251c17cb9943806e5d2d5c38979c0aa859c6839728a444806390b77fae5bba13066ae5ac2983c6cc8a1ce38fa476f5f9887c2ff59c151bae822310ddf0347bc6c40c824c48224f8d36006d34bece85b100590ef92c7d65f8914edb3a87a852e5f2552b36b795e580cc14c28bac7608cc22a29913c481ad2d1dca6b4578159f8021dc744012ea7b02b622f866764b086575755f518249d0d29614debd876abfeae23705ce29b2aee7621b45b8c8bab3c933aab171f9a023c21bf0ec4cd53618005dc340cedb46dd5c661a6b7f01bd2ba8a89c508c425397a5de8663ff42b21640c15687cd41cf2f87610fd9ec5bc0428b67ae3c24ce5d36a9c3870181abc866384cdfba5851fe6aa56809dfdbea2cbef8ee285e03448c1c10b3baa6f28b6bc0fb7e99d611aab8dde447229166ffdb9c3a03afa7cda5fbcc2e5b2f62ec54f123dcba5f770a9789eeb27e0680718c3127eb72d06334d0de0718af829f5373b027f584b2b8c89db423eb7610cb64eb08c317e7f4b326525b3964f1baccb314cb367197bec7ffafe4f601e81ebe6fae2dbe5a02acf8af6080a6b9a4cb5eccf1a8b966ed982c08c13b1d93983029f85055a2dd274e048b509d4838737ff700a05a0e8832d43dc7264b275ff408290a3209e3f9c2cbed8eb282ceba76b15920ace7a0519c17dd6289f4b572c9288595cbeef7efbc700615c3f521e9497a14c1b032293738854b61d8bd0ee04712c5ec2f068a6b90de75432dc283ef567b68e125b9a5bc840443e0ebe5039fa007080745b95199d1fddb13d0a7351397eac64908cac5c63084199277fa742f22000000000000000000000000000000000000000000000000000000000000000024777bb9b635d5dc04d9b81ee9adcea4c57f1e547c277c863074dbb74d75516e19cf57edc9e9b94b3a23f3ec674bf084bac5ab4d6b9f1cf0ef871b6b4552d21c00000000000000000000000000000000000000000000000000000000000000001bc58e07333d1a99d8d76320cca6abdea10546206ee0cce6049211f2ec335c220e4e8bfb0edf9ac9589121e2fcd90bdca781071c0a96ea230291431554b545e006e124bb7efdde04d3d2c5630b1df9d8741d44224ee3159ac259b94a093adf4b00000000000000000000000000000000000000000000000000000000000000001ce4770e71bb0390579a9038fee97f2d40c10c7470835f2628014f1d55bf1a0119cf57edc9e9b94b3a23f3ec674bf084bac5ab4d6b9f1cf0ef871b6b4552d21c000000000000000000000000000000000000000000000000000000000000000029914e8409ebc34e74250d9007b6e7c0394acd4f4d06b8f4f95fdbc2b777b75300000000000000000000000000000000000000000000000000000000000000000000000000000000000000000000000000000000000000000000000000000000000000000000000000000000000000000000000000000000000000000000000000000000000000000000000000000000000000000000000000000000000000001e97984dfccfe4a804e952498590c0ac245b15aa612ba2daecbe0c4d161d3ff310ff5584aa1d953de0576c88d244ce1cdc00c2003f1cad84c8beee88a2bb10440c0d36f4efcf47f0735a41db7451ae37841793b0ecd8193961ed101662e26a251a69ee73fb5f2fe76b2d94eb333e3ae1fa9f38605adafdb07831edd50d7bccdc233af60285260e16898394e356c1624eb337d3d14d378cb6c35a7729c5b2961f277daaeac85a59c3ed8b6c1c97082840b2690d17bda0efda0b46eac3e34516dd1af3100df87a00dfe78a0bd13b9f7847585ccacd320911bf21d0ccfd7c53720d0f11493963b873a42a73a86839c03cd25a2a7346d37d119e86bb0e0ad38bee7a0cab07b3050f89e27805ffbf620069f5270f4a608ba0fff8c89beb807de569440ee32acf687c321fb90118c3094cbbf9bb7b914672f3e63aac63286adaf9e39128efcaef64206c6d41d676942854d7650bf4126011da6d9b8b9158cddc96f6cb24e0159de0dbdd01ceaaf44c2492405640bcf252623d6be1e5cf0e42330069ad1ea1a0070146cf1fe8c8b7c0e5b51ac91608108d6caf2a9f127922ceb68dbb7414504010a0a5201f6414e575933281113541d07e8a67367908e173e702a907fa2c5a5d6f4b8efc38c96941edbf5e2146ded9da34f70d509655bc84a7b9c22b451a84ce2c53ad6b51001201b51f56f17862e275b7161e3a8aa18d33980cc8bf9c0ffb1823b0bea93a4c79c06388035a5bc80df3d9edd6d988dc145ff3d5d3a5a925485c2ac5c86c199c0292fd16d0f37f4d92a6bbb375262d9070a424ee05bf13088cb613b8728d35cac3d33b2d9386dcb345d0a27290afc2d601578d4858037f2df72f9265321bde36adafae84f5061b4d6d874ad2a1a6b746d276949e8136ad2a4ec350ee2415199546cd932ee5ca404ff08d843bc104aa99da9466499da758028158a05502586bbb8d001ecf110166293f45d6bb9e0267ce52ee039159157f1412fa1cd575b939f8ced66a09aa1afa213ab2048cd008eb5ab3a7395d5158e42157c30bb85c299abcda32e1a3bb0801a64102e95bdc8b1910d4e0ab08752c8d29e3f39707385a0751d73cde48f16f5b2337089bd29545b213917724567c049f22b44317dffc35d6e1649a5dceb47c5ba7059fe5d768a23cdd3cedbd28aa68951ab9ba2f85512db4ea9fb583ce846404d83ea712fcafd880734bd03cab71f3eb058dc24247786e81a3e92ed8c1f049850dfa8d399e04dc0dd8a59e68a76436fd223d9c625502fe22f183dbff1fc4da1afa33369c7e6c1d015c5ec867b06f986413f16304053f0b8bc8c6ab1807cdf2bc771db831ea6f74c99ae4c9d55ee5270d249abff6639a1b6f6888bc11f9b4b4360c5e49e9a4201533d4c9c2d6cff7821e2da95441d3efb94d7742535dffb82f7489f743b5f3d0d8b3a8b13c8a0f46c1a7173c293f00dc81779b02086b46b3466465ccf27a90717e254190aeb2edd7ace01848de19bc0a6e56827e8ceae99e782272e8b4f65f4fa0553994a80c3c9efadd1c7096e6af243a2ed0a7421182931caf00fdd1fc016debbb272715b3fc9a2c1a21379ca00af47bf283fd74dba6609f29475c07b4cb9be707e4d0997e6f420d672334714c5aa32732914875325d423e1fe12c2c833ebd68b41ff7ba46a8a438a829b560d587d85f4f300d9531c619e8ef7485fcac689e7ff3382898a4a0f03d201925096e42eda592721237ba93ccf884bcb35db7573277d280303e853b60c4fc0d95bbb46153b708a4c0f692773370de369506d0bf1fbe0a09a19544104b8a751f12e9831d3d09752310a61462fc80f651b479fda2c2e379f82ade5af5b0c67e2fb1f8065f5f03fabccb2cdab78c23bd60692c7e240846c01e78f53f604556c822a5cb7a5cc811e70900fdb1a800c122ce96c07aa532cd1aacb55804b4fda1ba', 'transcript_type': 'EVM'}\n",
      "Time gen prf: 2.2397918701171875 seconds\n"
     ]
    }
   ],
   "source": [
    "# Here verifier & prover can concurrently call setup since all params are public to get pk.\n",
    "# Here write as verifier function to emphasize that verifier must calculate its own vk to be sure\n",
    "setup(verifier_model_path, verifier_compiled_model_path, settings_path,vk_path, pk_path )\n",
    "\n",
    "print(\"=======================================\")\n",
    "# Prover generates proof\n",
    "prover_gen_proof(prover_model_path, sel_data_path, witness_path, prover_compiled_model_path, settings_path, proof_path, pk_path)"
   ]
  },
  {
   "cell_type": "code",
   "execution_count": 9,
   "metadata": {},
   "outputs": [
    {
     "name": "stdout",
     "output_type": "stream",
     "text": [
      "Verifier gets result: [48.75]\n"
     ]
    }
   ],
   "source": [
    "# Verifier verifies\n",
    "res = verifier_verify(proof_path, settings_path, vk_path, selected_columns, data_commitment_path)\n",
    "print(\"Verifier gets result:\", res)"
   ]
  },
  {
   "cell_type": "code",
   "execution_count": null,
   "metadata": {},
   "outputs": [],
   "source": []
  }
 ],
 "metadata": {
  "kernelspec": {
   "display_name": "Python 3",
   "language": "python",
   "name": "python3"
  },
  "language_info": {
   "codemirror_mode": {
    "name": "ipython",
    "version": 3
   },
   "file_extension": ".py",
   "mimetype": "text/x-python",
   "name": "python",
   "nbconvert_exporter": "python",
   "pygments_lexer": "ipython3",
   "version": "3.11.4"
  },
  "orig_nbformat": 4
 },
 "nbformat": 4,
 "nbformat_minor": 2
}
