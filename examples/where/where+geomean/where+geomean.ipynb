{
 "cells": [
  {
   "cell_type": "code",
   "execution_count": 1,
   "metadata": {},
   "outputs": [],
   "source": [
    "import ezkl\n",
    "import torch\n",
    "from torch import nn\n",
    "import json\n",
    "import os\n",
    "import time\n",
    "import scipy\n",
    "import numpy as np\n",
    "import matplotlib.pyplot as plt\n",
    "import statistics\n",
    "import math"
   ]
  },
  {
   "cell_type": "code",
   "execution_count": 2,
   "metadata": {},
   "outputs": [],
   "source": [
    "from zkstats.core import create_dummy, verifier_define_calculation, prover_gen_settings, setup, prover_gen_proof, verifier_verify, generate_data_commitment"
   ]
  },
  {
   "attachments": {},
   "cell_type": "markdown",
   "metadata": {},
   "source": []
  },
  {
   "cell_type": "code",
   "execution_count": 3,
   "metadata": {},
   "outputs": [],
   "source": [
    "# init path\n",
    "os.makedirs(os.path.dirname('shared/'), exist_ok=True)\n",
    "os.makedirs(os.path.dirname('prover/'), exist_ok=True)\n",
    "verifier_model_path = os.path.join('shared/verifier.onnx')\n",
    "prover_model_path = os.path.join('prover/prover.onnx')\n",
    "verifier_compiled_model_path = os.path.join('shared/verifier.compiled')\n",
    "prover_compiled_model_path = os.path.join('prover/prover.compiled')\n",
    "pk_path = os.path.join('shared/test.pk')\n",
    "vk_path = os.path.join('shared/test.vk')\n",
    "proof_path = os.path.join('shared/test.pf')\n",
    "settings_path = os.path.join('shared/settings.json')\n",
    "srs_path = os.path.join('shared/kzg.srs')\n",
    "witness_path = os.path.join('prover/witness.json')\n",
    "# this is private to prover since it contains actual data\n",
    "sel_data_path = os.path.join('prover/sel_data.json')\n",
    "# this is just dummy random value\n",
    "sel_dummy_data_path = os.path.join('shared/sel_dummy_data.json')\n",
    "data_commitment_path = os.path.join('shared/data_commitment.json')\n",
    "precal_witness_path = os.path.join('shared/precal_witness_arr.json')"
   ]
  },
  {
   "attachments": {},
   "cell_type": "markdown",
   "metadata": {},
   "source": [
    "=======================  ZK-STATS FLOW ======================="
   ]
  },
  {
   "cell_type": "code",
   "execution_count": 4,
   "metadata": {},
   "outputs": [],
   "source": [
    "data_path = os.path.join('data.json')\n",
    "dummy_data_path = os.path.join('shared/dummy_data.json')\n",
    "\n",
    "create_dummy(data_path, dummy_data_path)"
   ]
  },
  {
   "cell_type": "code",
   "execution_count": 5,
   "metadata": {},
   "outputs": [],
   "source": [
    "scales = [8]\n",
    "selected_columns = ['col_name']\n",
    "generate_data_commitment(data_path, scales, data_commitment_path)"
   ]
  },
  {
   "cell_type": "code",
   "execution_count": 6,
   "metadata": {},
   "outputs": [
    {
     "name": "stderr",
     "output_type": "stream",
     "text": [
      "/Users/jernkun/Desktop/zk-stats-lib/zkstats/computation.py:254: TracerWarning: torch.tensor results are registered as constants in the trace. You can safely ignore this warning if you use this function to create tensors out of constant variables that would be the same every time you call this function. In any other case, this might cause the trace to be incorrect.\n",
      "  is_precise_aggregated = torch.tensor(1.0)\n",
      "/Users/jernkun/Desktop/zk-stats-lib/zkstats/ops.py:34: TracerWarning: torch.tensor results are registered as constants in the trace. You can safely ignore this warning if you use this function to create tensors out of constant variables that would be the same every time you call this function. In any other case, this might cause the trace to be incorrect.\n",
      "  return torch.tensor(True)\n",
      "/Users/jernkun/Desktop/zk-stats-lib/zkstats/ops.py:150: TracerWarning: torch.tensor results are registered as constants in the trace. You can safely ignore this warning if you use this function to create tensors out of constant variables that would be the same every time you call this function. In any other case, this might cause the trace to be incorrect.\n",
      "  return torch.abs((torch.log(self.result)*size)-torch.sum(torch.log(x)))<=size*torch.log(torch.tensor(1+self.error))\n",
      "/Users/jernkun/Library/Caches/pypoetry/virtualenvs/zkstats-OJpceffF-py3.11/lib/python3.11/site-packages/torch/onnx/symbolic_opset9.py:2174: FutureWarning: 'torch.onnx.symbolic_opset9._cast_Bool' is deprecated in version 2.0 and will be removed in the future. Please Avoid using this function and create a Cast node instead.\n",
      "  return fn(g, to_cast_func(g, input, False), to_cast_func(g, other, False))\n",
      "/Users/jernkun/Library/Caches/pypoetry/virtualenvs/zkstats-OJpceffF-py3.11/lib/python3.11/site-packages/torch/onnx/utils.py:1703: UserWarning: The exported ONNX model failed ONNX shape inference. The model will not be executable by the ONNX Runtime. If this is unintended and you believe there is a bug, please report an issue at https://github.com/pytorch/pytorch/issues. Error reported by strict ONNX shape inference: [ShapeInferenceError] (op_type:Where, node name: /Where_2): Y has inconsistent type tensor(float) (Triggered internally at /Users/runner/work/pytorch/pytorch/pytorch/torch/csrc/jit/serialization/export.cpp:1490.)\n",
      "  _C._check_onnx_proto(proto)\n",
      "Using 3 columns for non-linearity table.\n",
      "Using 3 columns for non-linearity table.\n",
      "Using 3 columns for non-linearity table.\n",
      "Using 3 columns for non-linearity table.\n",
      "Using 5 columns for non-linearity table.\n",
      "Using 5 columns for non-linearity table.\n",
      "Using 5 columns for non-linearity table.\n",
      "Using 5 columns for non-linearity table.\n",
      "Using 5 columns for non-linearity table.\n",
      "Using 5 columns for non-linearity table.\n",
      "Using 5 columns for non-linearity table.\n",
      "Using 5 columns for non-linearity table.\n",
      "\n",
      "\n",
      " <------------- Numerical Fidelity Report (input_scale: 8, param_scale: 8, scale_input_multiplier: 1) ------------->\n",
      "\n",
      "+---------------+---------------+-----------+---------------+----------------+------------------+---------------+---------------+--------------------+--------------------+------------------------+\n",
      "| mean_error    | median_error  | max_error | min_error     | mean_abs_error | median_abs_error | max_abs_error | min_abs_error | mean_squared_error | mean_percent_error | mean_abs_percent_error |\n",
      "+---------------+---------------+-----------+---------------+----------------+------------------+---------------+---------------+--------------------+--------------------+------------------------+\n",
      "| -0.0006465912 | -0.0012931824 | 0         | -0.0012931824 | 0.0006465912   | 0.0012931824     | 0.0012931824  | 0             | 0.0000008361603    | -0.000013434931    | 0.000013434931         |\n",
      "+---------------+---------------+-----------+---------------+----------------+------------------+---------------+---------------+--------------------+--------------------+------------------------+\n",
      "\n",
      "\n"
     ]
    },
    {
     "name": "stdout",
     "output_type": "stream",
     "text": [
      "==== Generate & Calibrate Setting ====\n",
      "scale:  [8]\n",
      "setting:  {\"run_args\":{\"tolerance\":{\"val\":0.0,\"scale\":1.0},\"input_scale\":8,\"param_scale\":8,\"scale_rebase_multiplier\":1,\"lookup_range\":[-2560,45056],\"logrows\":16,\"num_inner_cols\":2,\"variables\":[[\"batch_size\",1]],\"input_visibility\":{\"Hashed\":{\"hash_is_public\":true,\"outlets\":[]}},\"output_visibility\":\"Public\",\"param_visibility\":\"Fixed\",\"div_rebasing\":false,\"rebase_frac_zero_constants\":false,\"check_mode\":\"UNSAFE\"},\"num_rows\":14432,\"total_assignments\":10230,\"total_const_size\":3917,\"model_instance_shapes\":[[1],[1]],\"model_output_scales\":[0,8],\"model_input_scales\":[8],\"module_sizes\":{\"kzg\":[],\"poseidon\":[14432,[1]]},\"required_lookups\":[{\"Ln\":{\"scale\":256.0}},{\"GreaterThan\":{\"a\":0.0}},\"Abs\"],\"required_range_checks\":[[-128,128]],\"check_mode\":\"UNSAFE\",\"version\":\"9.1.0\",\"num_blinding_factors\":null,\"timestamp\":1715153343588}\n"
     ]
    }
   ],
   "source": [
    "# Verifier/ data consumer side: send desired calculation\n",
    "from zkstats.computation import computation_to_model, State\n",
    "\n",
    "\n",
    "def computation(s: State, data: list[torch.Tensor]) -> torch.Tensor:\n",
    "    x = data[0]\n",
    "    filter = (x > 20)\n",
    "    filtered_x = s.where(filter, x)\n",
    "    return s.geometric_mean(filtered_x)\n",
    "\n",
    "error = 0.01\n",
    "\n",
    "_, prover_model = computation_to_model(computation, precal_witness_path, True, selected_columns, error)\n",
    "prover_gen_settings(data_path, selected_columns, sel_data_path, prover_model, prover_model_path, scales, \"resources\", settings_path)\n"
   ]
  },
  {
   "cell_type": "code",
   "execution_count": 7,
   "metadata": {},
   "outputs": [],
   "source": [
    "_, verifier_model = computation_to_model(computation, precal_witness_path, False, selected_columns, error)\n",
    "verifier_define_calculation(dummy_data_path, selected_columns, sel_dummy_data_path,verifier_model, verifier_model_path)"
   ]
  },
  {
   "cell_type": "code",
   "execution_count": 8,
   "metadata": {},
   "outputs": [
    {
     "name": "stdout",
     "output_type": "stream",
     "text": [
      "==== setting up ezkl ====\n",
      "Time setup: 8.080106019973755 seconds\n",
      "=======================================\n",
      "==== Generating Witness ====\n",
      "witness boolean:  1.0\n",
      "witness result 1 : 48.12890625\n",
      "==== Generating Proof ====\n",
      "proof:  {'instances': [['2be46e82e2e0c1e79761a98c6a2d8eae08bc302d2618f256d97907797f4b4219', '0100000000000000000000000000000000000000000000000000000000000000', '2130000000000000000000000000000000000000000000000000000000000000']], 'proof': '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', 'transcript_type': 'EVM'}\n",
      "Time gen prf: 9.626068115234375 seconds\n"
     ]
    }
   ],
   "source": [
    "# Here verifier & prover can concurrently call setup since all params are public to get pk.\n",
    "# Here write as verifier function to emphasize that verifier must calculate its own vk to be sure\n",
    "setup(verifier_model_path, verifier_compiled_model_path, settings_path,vk_path, pk_path )\n",
    "\n",
    "print(\"=======================================\")\n",
    "# Prover generates proof\n",
    "prover_gen_proof(prover_model_path, sel_data_path, witness_path, prover_compiled_model_path, settings_path, proof_path, pk_path)"
   ]
  },
  {
   "attachments": {},
   "cell_type": "markdown",
   "metadata": {},
   "source": []
  },
  {
   "cell_type": "code",
   "execution_count": 9,
   "metadata": {},
   "outputs": [
    {
     "name": "stdout",
     "output_type": "stream",
     "text": [
      "Verifier gets result: [48.12890625]\n"
     ]
    }
   ],
   "source": [
    "# Verifier verifies\n",
    "res = verifier_verify(proof_path, settings_path, vk_path, selected_columns, data_commitment_path)\n",
    "print(\"Verifier gets result:\", res)"
   ]
  },
  {
   "cell_type": "code",
   "execution_count": null,
   "metadata": {},
   "outputs": [],
   "source": []
  }
 ],
 "metadata": {
  "kernelspec": {
   "display_name": "Python 3",
   "language": "python",
   "name": "python3"
  },
  "language_info": {
   "codemirror_mode": {
    "name": "ipython",
    "version": 3
   },
   "file_extension": ".py",
   "mimetype": "text/x-python",
   "name": "python",
   "nbconvert_exporter": "python",
   "pygments_lexer": "ipython3",
   "version": "3.11.4"
  },
  "orig_nbformat": 4
 },
 "nbformat": 4,
 "nbformat_minor": 2
}
