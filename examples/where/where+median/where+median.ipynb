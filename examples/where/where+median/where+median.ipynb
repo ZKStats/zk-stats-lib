{
 "cells": [
  {
   "cell_type": "code",
   "execution_count": 1,
   "metadata": {},
   "outputs": [],
   "source": [
    "import ezkl\n",
    "import torch\n",
    "from torch import nn\n",
    "import json\n",
    "import os\n",
    "import time\n",
    "import scipy\n",
    "import numpy as np\n",
    "import matplotlib.pyplot as plt\n",
    "import statistics\n",
    "import math"
   ]
  },
  {
   "cell_type": "code",
   "execution_count": 2,
   "metadata": {},
   "outputs": [],
   "source": [
    "from zkstats.core import create_dummy, verifier_define_calculation, prover_gen_settings, setup, prover_gen_proof, verifier_verify, generate_data_commitment"
   ]
  },
  {
   "attachments": {},
   "cell_type": "markdown",
   "metadata": {},
   "source": []
  },
  {
   "cell_type": "code",
   "execution_count": 3,
   "metadata": {},
   "outputs": [],
   "source": [
    "# init path\n",
    "os.makedirs(os.path.dirname('shared/'), exist_ok=True)\n",
    "os.makedirs(os.path.dirname('prover/'), exist_ok=True)\n",
    "verifier_model_path = os.path.join('shared/verifier.onnx')\n",
    "prover_model_path = os.path.join('prover/prover.onnx')\n",
    "verifier_compiled_model_path = os.path.join('shared/verifier.compiled')\n",
    "prover_compiled_model_path = os.path.join('prover/prover.compiled')\n",
    "pk_path = os.path.join('shared/test.pk')\n",
    "vk_path = os.path.join('shared/test.vk')\n",
    "proof_path = os.path.join('shared/test.pf')\n",
    "settings_path = os.path.join('shared/settings.json')\n",
    "srs_path = os.path.join('shared/kzg.srs')\n",
    "witness_path = os.path.join('prover/witness.json')\n",
    "# this is private to prover since it contains actual data\n",
    "sel_data_path = os.path.join('prover/sel_data.json')\n",
    "# this is just dummy random value\n",
    "sel_dummy_data_path = os.path.join('shared/sel_dummy_data.json')\n",
    "data_commitment_path = os.path.join('shared/data_commitment.json')\n",
    "precal_witness_path = os.path.join('shared/precal_witness_arr.json')"
   ]
  },
  {
   "attachments": {},
   "cell_type": "markdown",
   "metadata": {},
   "source": [
    "=======================  ZK-STATS FLOW ======================="
   ]
  },
  {
   "cell_type": "code",
   "execution_count": 4,
   "metadata": {},
   "outputs": [],
   "source": [
    "data_path = os.path.join('data.json')\n",
    "dummy_data_path = os.path.join('shared/dummy_data.json')\n",
    "\n",
    "create_dummy(data_path, dummy_data_path)"
   ]
  },
  {
   "cell_type": "code",
   "execution_count": 5,
   "metadata": {},
   "outputs": [],
   "source": [
    "scales = [7]\n",
    "selected_columns = ['col_name']\n",
    "generate_data_commitment(data_path, scales, data_commitment_path)"
   ]
  },
  {
   "cell_type": "code",
   "execution_count": 6,
   "metadata": {},
   "outputs": [
    {
     "name": "stderr",
     "output_type": "stream",
     "text": [
      "/Users/jernkun/Desktop/zk-stats-lib/zkstats/computation.py:254: TracerWarning: torch.tensor results are registered as constants in the trace. You can safely ignore this warning if you use this function to create tensors out of constant variables that would be the same every time you call this function. In any other case, this might cause the trace to be incorrect.\n",
      "  is_precise_aggregated = torch.tensor(1.0)\n",
      "/Users/jernkun/Desktop/zk-stats-lib/zkstats/ops.py:34: TracerWarning: torch.tensor results are registered as constants in the trace. You can safely ignore this warning if you use this function to create tensors out of constant variables that would be the same every time you call this function. In any other case, this might cause the trace to be incorrect.\n",
      "  return torch.tensor(True)\n",
      "/Users/jernkun/Library/Caches/pypoetry/virtualenvs/zkstats-OJpceffF-py3.11/lib/python3.11/site-packages/torch/onnx/symbolic_opset9.py:2174: FutureWarning: 'torch.onnx.symbolic_opset9._cast_Bool' is deprecated in version 2.0 and will be removed in the future. Please Avoid using this function and create a Cast node instead.\n",
      "  return fn(g, to_cast_func(g, input, False), to_cast_func(g, other, False))\n"
     ]
    },
    {
     "name": "stdout",
     "output_type": "stream",
     "text": [
      "==== Generate & Calibrate Setting ====\n"
     ]
    },
    {
     "name": "stderr",
     "output_type": "stream",
     "text": [
      "\n",
      "\n",
      " <------------- Numerical Fidelity Report (input_scale: 7, param_scale: 7, scale_input_multiplier: 1) ------------->\n",
      "\n",
      "+------------+--------------+-----------+-----------+----------------+------------------+---------------+---------------+--------------------+--------------------+------------------------+\n",
      "| mean_error | median_error | max_error | min_error | mean_abs_error | median_abs_error | max_abs_error | min_abs_error | mean_squared_error | mean_percent_error | mean_abs_percent_error |\n",
      "+------------+--------------+-----------+-----------+----------------+------------------+---------------+---------------+--------------------+--------------------+------------------------+\n",
      "| 0          | 0            | 0         | 0         | 0              | 0                | 0             | 0             | 0                  | 0                  | 0                      |\n",
      "+------------+--------------+-----------+-----------+----------------+------------------+---------------+---------------+--------------------+--------------------+------------------------+\n",
      "\n",
      "\n"
     ]
    },
    {
     "name": "stdout",
     "output_type": "stream",
     "text": [
      "scale:  [7]\n",
      "setting:  {\"run_args\":{\"tolerance\":{\"val\":0.0,\"scale\":1.0},\"input_scale\":7,\"param_scale\":7,\"scale_rebase_multiplier\":1,\"lookup_range\":[-21758,19328],\"logrows\":16,\"num_inner_cols\":2,\"variables\":[[\"batch_size\",1]],\"input_visibility\":{\"Hashed\":{\"hash_is_public\":true,\"outlets\":[]}},\"output_visibility\":\"Public\",\"param_visibility\":\"Fixed\",\"div_rebasing\":false,\"rebase_frac_zero_constants\":false,\"check_mode\":\"UNSAFE\"},\"num_rows\":14432,\"total_assignments\":16232,\"total_const_size\":6612,\"model_instance_shapes\":[[1],[1]],\"model_output_scales\":[0,7],\"model_input_scales\":[7],\"module_sizes\":{\"kzg\":[],\"poseidon\":[14432,[1]]},\"required_lookups\":[\"ReLU\",{\"GreaterThan\":{\"a\":0.0}},{\"Floor\":{\"scale\":128.0}}],\"required_range_checks\":[[-1,1],[-64,64]],\"check_mode\":\"UNSAFE\",\"version\":\"9.1.0\",\"num_blinding_factors\":null,\"timestamp\":1715153521160}\n"
     ]
    }
   ],
   "source": [
    "# Verifier/ data consumer side: send desired calculation\n",
    "from zkstats.computation import computation_to_model, State\n",
    "\n",
    "\n",
    "def computation(s: State, data: list[torch.Tensor]) -> torch.Tensor:\n",
    "    x = data[0]\n",
    "    filter = (x < 50)\n",
    "    filtered_x = s.where(filter, x)\n",
    "    return s.median(filtered_x)\n",
    "\n",
    "error = 0.01\n",
    "_, prover_model = computation_to_model(computation, precal_witness_path, True, selected_columns, error)\n",
    "prover_gen_settings(data_path, selected_columns, sel_data_path, prover_model, prover_model_path, scales, \"resources\", settings_path)\n",
    "\n"
   ]
  },
  {
   "cell_type": "code",
   "execution_count": 7,
   "metadata": {},
   "outputs": [],
   "source": [
    "_, verifier_model = computation_to_model(computation, precal_witness_path, False, selected_columns, error)\n",
    "verifier_define_calculation(dummy_data_path, selected_columns, sel_dummy_data_path,verifier_model, verifier_model_path)"
   ]
  },
  {
   "cell_type": "code",
   "execution_count": 8,
   "metadata": {},
   "outputs": [
    {
     "name": "stdout",
     "output_type": "stream",
     "text": [
      "==== setting up ezkl ====\n",
      "Time setup: 8.326037883758545 seconds\n",
      "=======================================\n",
      "==== Generating Witness ====\n",
      "witness boolean:  1.0\n",
      "witness result 1 : 40.0\n",
      "==== Generating Proof ====\n",
      "proof:  {'instances': [['8629d3dd63ed0085ee0b4d4877605e22c075aecd42b138aa05639b98cbb5961c', '0100000000000000000000000000000000000000000000000000000000000000', '0014000000000000000000000000000000000000000000000000000000000000']], 'proof': '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', 'transcript_type': 'EVM'}\n",
      "Time gen prf: 11.369953155517578 seconds\n"
     ]
    }
   ],
   "source": [
    "# Here verifier & prover can concurrently call setup since all params are public to get pk.\n",
    "# Here write as verifier function to emphasize that verifier must calculate its own vk to be sure\n",
    "setup(verifier_model_path, verifier_compiled_model_path, settings_path,vk_path, pk_path )\n",
    "\n",
    "print(\"=======================================\")\n",
    "# Prover generates proof\n",
    "prover_gen_proof(prover_model_path, sel_data_path, witness_path, prover_compiled_model_path, settings_path, proof_path, pk_path)"
   ]
  },
  {
   "cell_type": "code",
   "execution_count": 9,
   "metadata": {},
   "outputs": [
    {
     "name": "stdout",
     "output_type": "stream",
     "text": [
      "Verifier gets result: [40.0]\n"
     ]
    }
   ],
   "source": [
    "# Verifier verifies\n",
    "res = verifier_verify(proof_path, settings_path, vk_path, selected_columns, data_commitment_path)\n",
    "print(\"Verifier gets result:\", res)"
   ]
  },
  {
   "cell_type": "code",
   "execution_count": null,
   "metadata": {},
   "outputs": [],
   "source": []
  }
 ],
 "metadata": {
  "kernelspec": {
   "display_name": "Python 3",
   "language": "python",
   "name": "python3"
  },
  "language_info": {
   "codemirror_mode": {
    "name": "ipython",
    "version": 3
   },
   "file_extension": ".py",
   "mimetype": "text/x-python",
   "name": "python",
   "nbconvert_exporter": "python",
   "pygments_lexer": "ipython3",
   "version": "3.11.4"
  },
  "orig_nbformat": 4
 },
 "nbformat": 4,
 "nbformat_minor": 2
}
