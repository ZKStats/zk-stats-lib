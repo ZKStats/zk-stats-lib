{
 "cells": [
  {
   "cell_type": "code",
   "execution_count": 1,
   "metadata": {},
   "outputs": [],
   "source": [
    "import ezkl\n",
    "import torch\n",
    "from torch import nn\n",
    "import json\n",
    "import os\n",
    "import time\n",
    "import scipy\n",
    "import numpy as np\n",
    "import matplotlib.pyplot as plt\n",
    "import statistics\n",
    "import math"
   ]
  },
  {
   "cell_type": "code",
   "execution_count": 2,
   "metadata": {},
   "outputs": [],
   "source": [
    "from zkstats.core import create_dummy, verifier_define_calculation, prover_gen_settings, setup, prover_gen_proof, verifier_verify, generate_data_commitment"
   ]
  },
  {
   "cell_type": "code",
   "execution_count": 3,
   "metadata": {},
   "outputs": [],
   "source": [
    "# init path\n",
    "os.makedirs(os.path.dirname('shared/'), exist_ok=True)\n",
    "os.makedirs(os.path.dirname('prover/'), exist_ok=True)\n",
    "verifier_model_path = os.path.join('shared/verifier.onnx')\n",
    "prover_model_path = os.path.join('prover/prover.onnx')\n",
    "verifier_compiled_model_path = os.path.join('shared/verifier.compiled')\n",
    "prover_compiled_model_path = os.path.join('prover/prover.compiled')\n",
    "pk_path = os.path.join('shared/test.pk')\n",
    "vk_path = os.path.join('shared/test.vk')\n",
    "proof_path = os.path.join('shared/test.pf')\n",
    "settings_path = os.path.join('shared/settings.json')\n",
    "srs_path = os.path.join('shared/kzg.srs')\n",
    "witness_path = os.path.join('prover/witness.json')\n",
    "# this is private to prover since it contains actual data\n",
    "sel_data_path = os.path.join('prover/sel_data.json')\n",
    "# this is just dummy random value\n",
    "sel_dummy_data_path = os.path.join('shared/sel_dummy_data.json')\n",
    "data_commitment_path = os.path.join('shared/data_commitment.json')\n",
    "precal_witness_path = os.path.join('shared/precal_witness_arr.json')"
   ]
  },
  {
   "attachments": {},
   "cell_type": "markdown",
   "metadata": {},
   "source": [
    "=======================  ZK-STATS FLOW ======================="
   ]
  },
  {
   "cell_type": "code",
   "execution_count": 4,
   "metadata": {},
   "outputs": [],
   "source": [
    "data_path = os.path.join('data.json')\n",
    "dummy_data_path = os.path.join('shared/dummy_data.json')\n",
    "\n",
    "create_dummy(data_path, dummy_data_path)"
   ]
  },
  {
   "cell_type": "code",
   "execution_count": 5,
   "metadata": {},
   "outputs": [],
   "source": [
    "scales = [7]\n",
    "selected_columns = ['col_name']\n",
    "generate_data_commitment(data_path, scales, data_commitment_path)"
   ]
  },
  {
   "cell_type": "code",
   "execution_count": 6,
   "metadata": {},
   "outputs": [
    {
     "name": "stderr",
     "output_type": "stream",
     "text": [
      "/Users/jernkun/Desktop/zk-stats-lib/zkstats/computation.py:254: TracerWarning: torch.tensor results are registered as constants in the trace. You can safely ignore this warning if you use this function to create tensors out of constant variables that would be the same every time you call this function. In any other case, this might cause the trace to be incorrect.\n",
      "  is_precise_aggregated = torch.tensor(1.0)\n",
      "/Users/jernkun/Desktop/zk-stats-lib/zkstats/ops.py:34: TracerWarning: torch.tensor results are registered as constants in the trace. You can safely ignore this warning if you use this function to create tensors out of constant variables that would be the same every time you call this function. In any other case, this might cause the trace to be incorrect.\n",
      "  return torch.tensor(True)\n",
      "/Users/jernkun/Library/Caches/pypoetry/virtualenvs/zkstats-OJpceffF-py3.11/lib/python3.11/site-packages/torch/onnx/symbolic_opset9.py:2174: FutureWarning: 'torch.onnx.symbolic_opset9._cast_Bool' is deprecated in version 2.0 and will be removed in the future. Please Avoid using this function and create a Cast node instead.\n",
      "  return fn(g, to_cast_func(g, input, False), to_cast_func(g, other, False))\n",
      "/Users/jernkun/Library/Caches/pypoetry/virtualenvs/zkstats-OJpceffF-py3.11/lib/python3.11/site-packages/torch/onnx/utils.py:1703: UserWarning: The exported ONNX model failed ONNX shape inference. The model will not be executable by the ONNX Runtime. If this is unintended and you believe there is a bug, please report an issue at https://github.com/pytorch/pytorch/issues. Error reported by strict ONNX shape inference: [ShapeInferenceError] (op_type:Where, node name: /Where_2): Y has inconsistent type tensor(float) (Triggered internally at /Users/runner/work/pytorch/pytorch/pytorch/torch/csrc/jit/serialization/export.cpp:1490.)\n",
      "  _C._check_onnx_proto(proto)\n"
     ]
    },
    {
     "name": "stdout",
     "output_type": "stream",
     "text": [
      "==== Generate & Calibrate Setting ====\n"
     ]
    },
    {
     "name": "stderr",
     "output_type": "stream",
     "text": [
      "\n",
      "\n",
      " <------------- Numerical Fidelity Report (input_scale: 7, param_scale: 7, scale_input_multiplier: 1) ------------->\n",
      "\n",
      "+---------------+---------------+-----------+---------------+----------------+------------------+---------------+---------------+--------------------+--------------------+------------------------+\n",
      "| mean_error    | median_error  | max_error | min_error     | mean_abs_error | median_abs_error | max_abs_error | min_abs_error | mean_squared_error | mean_percent_error | mean_abs_percent_error |\n",
      "+---------------+---------------+-----------+---------------+----------------+------------------+---------------+---------------+--------------------+--------------------+------------------------+\n",
      "| -0.0010948181 | -0.0021896362 | 0         | -0.0021896362 | 0.0010948181   | 0.0021896362     | 0.0021896362  | 0             | 0.0000023972534    | -0.00002650731     | 0.00002650731          |\n",
      "+---------------+---------------+-----------+---------------+----------------+------------------+---------------+---------------+--------------------+--------------------+------------------------+\n",
      "\n",
      "\n"
     ]
    },
    {
     "name": "stdout",
     "output_type": "stream",
     "text": [
      "scale:  [7]\n",
      "setting:  {\"run_args\":{\"tolerance\":{\"val\":0.0,\"scale\":1.0},\"input_scale\":7,\"param_scale\":7,\"scale_rebase_multiplier\":1,\"lookup_range\":[-7168,17408],\"logrows\":15,\"num_inner_cols\":2,\"variables\":[[\"batch_size\",1]],\"input_visibility\":{\"Hashed\":{\"hash_is_public\":true,\"outlets\":[]}},\"output_visibility\":\"Public\",\"param_visibility\":\"Fixed\",\"div_rebasing\":false,\"rebase_frac_zero_constants\":false,\"check_mode\":\"UNSAFE\"},\"num_rows\":14432,\"total_assignments\":15331,\"total_const_size\":5418,\"model_instance_shapes\":[[1],[1]],\"model_output_scales\":[0,7],\"model_input_scales\":[7],\"module_sizes\":{\"kzg\":[],\"poseidon\":[14432,[1]]},\"required_lookups\":[{\"GreaterThan\":{\"a\":0.0}},\"Abs\"],\"required_range_checks\":[[-64,64],[64,192]],\"check_mode\":\"UNSAFE\",\"version\":\"9.1.0\",\"num_blinding_factors\":null,\"timestamp\":1715153384764}\n"
     ]
    }
   ],
   "source": [
    "# Verifier/ data consumer side:\n",
    "# since have division, scale must be very LARGE, cant use just 0\n",
    "# So, we allow error rate to be 10% instead of 1%\n",
    "from zkstats.computation import computation_to_model, State\n",
    "\n",
    "\n",
    "def computation(s: State, data: list[torch.Tensor]) -> torch.Tensor:\n",
    "    x = data[0]\n",
    "    filter = torch.logical_and(x>20, x<60)\n",
    "    filtered_x = s.where(filter, x)\n",
    "    return s.harmonic_mean(filtered_x)\n",
    "\n",
    "error = 0.1\n",
    "\n",
    "_, prover_model = computation_to_model(computation, precal_witness_path, True, selected_columns, error)\n",
    "prover_gen_settings(data_path, selected_columns, sel_data_path, prover_model, prover_model_path, scales, \"resources\", settings_path)\n"
   ]
  },
  {
   "cell_type": "code",
   "execution_count": 7,
   "metadata": {},
   "outputs": [],
   "source": [
    "_, verifier_model = computation_to_model(computation, precal_witness_path, False, selected_columns, error)\n",
    "verifier_define_calculation(dummy_data_path, selected_columns, sel_dummy_data_path,verifier_model, verifier_model_path)"
   ]
  },
  {
   "cell_type": "code",
   "execution_count": 8,
   "metadata": {},
   "outputs": [
    {
     "name": "stdout",
     "output_type": "stream",
     "text": [
      "==== setting up ezkl ====\n",
      "Time setup: 3.7415249347686768 seconds\n",
      "=======================================\n",
      "==== Generating Witness ====\n",
      "witness boolean:  1.0\n",
      "witness result 1 : 41.3046875\n",
      "==== Generating Proof ====\n",
      "proof:  {'instances': [['b3fbe4e7fbfe1e847f816b6156995c7d4bb640b4687064937bfafe65f0167d0f', '0100000000000000000000000000000000000000000000000000000000000000', 'a714000000000000000000000000000000000000000000000000000000000000']], 'proof': '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', 'transcript_type': 'EVM'}\n",
      "Time gen prf: 5.060537815093994 seconds\n"
     ]
    }
   ],
   "source": [
    "# Here verifier & prover can concurrently call setup since all params are public to get pk.\n",
    "# Here write as verifier function to emphasize that verifier must calculate its own vk to be sure\n",
    "setup(verifier_model_path, verifier_compiled_model_path, settings_path,vk_path, pk_path )\n",
    "\n",
    "print(\"=======================================\")\n",
    "# Prover generates proof\n",
    "prover_gen_proof(prover_model_path, sel_data_path, witness_path, prover_compiled_model_path, settings_path, proof_path, pk_path)"
   ]
  },
  {
   "cell_type": "code",
   "execution_count": 9,
   "metadata": {},
   "outputs": [
    {
     "name": "stdout",
     "output_type": "stream",
     "text": [
      "Verifier gets result: [41.3046875]\n"
     ]
    }
   ],
   "source": [
    "# Verifier verifies\n",
    "res = verifier_verify(proof_path, settings_path, vk_path, selected_columns, data_commitment_path)\n",
    "print(\"Verifier gets result:\", res)"
   ]
  },
  {
   "cell_type": "code",
   "execution_count": null,
   "metadata": {},
   "outputs": [],
   "source": []
  }
 ],
 "metadata": {
  "kernelspec": {
   "display_name": "Python 3",
   "language": "python",
   "name": "python3"
  },
  "language_info": {
   "codemirror_mode": {
    "name": "ipython",
    "version": 3
   },
   "file_extension": ".py",
   "mimetype": "text/x-python",
   "name": "python",
   "nbconvert_exporter": "python",
   "pygments_lexer": "ipython3",
   "version": "3.11.4"
  },
  "orig_nbformat": 4
 },
 "nbformat": 4,
 "nbformat_minor": 2
}
