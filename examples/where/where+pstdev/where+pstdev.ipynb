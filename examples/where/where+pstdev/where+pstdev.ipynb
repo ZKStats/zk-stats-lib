{
 "cells": [
  {
   "cell_type": "code",
   "execution_count": 1,
   "metadata": {},
   "outputs": [],
   "source": [
    "import ezkl\n",
    "import torch\n",
    "from torch import nn\n",
    "import json\n",
    "import os\n",
    "import time\n",
    "import scipy\n",
    "import numpy as np\n",
    "import matplotlib.pyplot as plt\n",
    "import statistics\n",
    "import math"
   ]
  },
  {
   "cell_type": "code",
   "execution_count": 2,
   "metadata": {},
   "outputs": [],
   "source": [
    "from zkstats.core import create_dummy, verifier_define_calculation, prover_gen_settings, setup, prover_gen_proof, verifier_verify, generate_data_commitment"
   ]
  },
  {
   "cell_type": "code",
   "execution_count": 3,
   "metadata": {},
   "outputs": [],
   "source": [
    "# init path\n",
    "os.makedirs(os.path.dirname('shared/'), exist_ok=True)\n",
    "os.makedirs(os.path.dirname('prover/'), exist_ok=True)\n",
    "verifier_model_path = os.path.join('shared/verifier.onnx')\n",
    "prover_model_path = os.path.join('prover/prover.onnx')\n",
    "verifier_compiled_model_path = os.path.join('shared/verifier.compiled')\n",
    "prover_compiled_model_path = os.path.join('prover/prover.compiled')\n",
    "pk_path = os.path.join('shared/test.pk')\n",
    "vk_path = os.path.join('shared/test.vk')\n",
    "proof_path = os.path.join('shared/test.pf')\n",
    "settings_path = os.path.join('shared/settings.json')\n",
    "srs_path = os.path.join('shared/kzg.srs')\n",
    "witness_path = os.path.join('prover/witness.json')\n",
    "# this is private to prover since it contains actual data\n",
    "sel_data_path = os.path.join('prover/sel_data.json')\n",
    "# this is just dummy random value\n",
    "sel_dummy_data_path = os.path.join('shared/sel_dummy_data.json')\n",
    "data_commitment_path = os.path.join('shared/data_commitment.json')\n",
    "precal_witness_path = os.path.join('shared/precal_witness_arr.json')"
   ]
  },
  {
   "attachments": {},
   "cell_type": "markdown",
   "metadata": {},
   "source": [
    "=======================  ZK-STATS FLOW ======================="
   ]
  },
  {
   "cell_type": "code",
   "execution_count": 4,
   "metadata": {},
   "outputs": [],
   "source": [
    "data_path = os.path.join('data.json')\n",
    "dummy_data_path = os.path.join('shared/dummy_data.json')\n",
    "create_dummy(data_path, dummy_data_path)"
   ]
  },
  {
   "cell_type": "code",
   "execution_count": 5,
   "metadata": {},
   "outputs": [],
   "source": [
    "scales = [3]\n",
    "selected_columns = ['col_name']\n",
    "generate_data_commitment(data_path, scales, data_commitment_path)"
   ]
  },
  {
   "cell_type": "code",
   "execution_count": 6,
   "metadata": {},
   "outputs": [
    {
     "name": "stderr",
     "output_type": "stream",
     "text": [
      "/Users/jernkun/Desktop/zk-stats-lib/zkstats/computation.py:254: TracerWarning: torch.tensor results are registered as constants in the trace. You can safely ignore this warning if you use this function to create tensors out of constant variables that would be the same every time you call this function. In any other case, this might cause the trace to be incorrect.\n",
      "  is_precise_aggregated = torch.tensor(1.0)\n",
      "/Users/jernkun/Desktop/zk-stats-lib/zkstats/ops.py:34: TracerWarning: torch.tensor results are registered as constants in the trace. You can safely ignore this warning if you use this function to create tensors out of constant variables that would be the same every time you call this function. In any other case, this might cause the trace to be incorrect.\n",
      "  return torch.tensor(True)\n",
      "/Users/jernkun/Library/Caches/pypoetry/virtualenvs/zkstats-OJpceffF-py3.11/lib/python3.11/site-packages/torch/onnx/symbolic_opset9.py:2174: FutureWarning: 'torch.onnx.symbolic_opset9._cast_Bool' is deprecated in version 2.0 and will be removed in the future. Please Avoid using this function and create a Cast node instead.\n",
      "  return fn(g, to_cast_func(g, input, False), to_cast_func(g, other, False))\n",
      "/Users/jernkun/Library/Caches/pypoetry/virtualenvs/zkstats-OJpceffF-py3.11/lib/python3.11/site-packages/torch/onnx/utils.py:1703: UserWarning: The exported ONNX model failed ONNX shape inference. The model will not be executable by the ONNX Runtime. If this is unintended and you believe there is a bug, please report an issue at https://github.com/pytorch/pytorch/issues. Error reported by strict ONNX shape inference: [ShapeInferenceError] (op_type:Where, node name: /Where_1): Y has inconsistent type tensor(float) (Triggered internally at /Users/runner/work/pytorch/pytorch/pytorch/torch/csrc/jit/serialization/export.cpp:1490.)\n",
      "  _C._check_onnx_proto(proto)\n"
     ]
    },
    {
     "name": "stdout",
     "output_type": "stream",
     "text": [
      "==== Generate & Calibrate Setting ====\n"
     ]
    },
    {
     "name": "stderr",
     "output_type": "stream",
     "text": [
      "\n",
      "\n",
      " <------------- Numerical Fidelity Report (input_scale: 3, param_scale: 3, scale_input_multiplier: 1) ------------->\n",
      "\n",
      "+-------------+--------------+-------------+-----------+----------------+------------------+---------------+---------------+--------------------+--------------------+------------------------+\n",
      "| mean_error  | median_error | max_error   | min_error | mean_abs_error | median_abs_error | max_abs_error | min_abs_error | mean_squared_error | mean_percent_error | mean_abs_percent_error |\n",
      "+-------------+--------------+-------------+-----------+----------------+------------------+---------------+---------------+--------------------+--------------------+------------------------+\n",
      "| 0.028796673 | 0.057593346  | 0.057593346 | 0         | 0.028796673    | 0.057593346      | 0.057593346   | 0             | 0.0016584967       | 0.0018074065       | 0.0018074065           |\n",
      "+-------------+--------------+-------------+-----------+----------------+------------------+---------------+---------------+--------------------+--------------------+------------------------+\n",
      "\n",
      "\n"
     ]
    },
    {
     "name": "stdout",
     "output_type": "stream",
     "text": [
      "scale:  [3]\n",
      "setting:  {\"run_args\":{\"tolerance\":{\"val\":0.0,\"scale\":1.0},\"input_scale\":3,\"param_scale\":3,\"scale_rebase_multiplier\":1,\"lookup_range\":[-13376,13448],\"logrows\":15,\"num_inner_cols\":2,\"variables\":[[\"batch_size\",1]],\"input_visibility\":{\"Hashed\":{\"hash_is_public\":true,\"outlets\":[]}},\"output_visibility\":\"Public\",\"param_visibility\":\"Fixed\",\"div_rebasing\":false,\"rebase_frac_zero_constants\":false,\"check_mode\":\"UNSAFE\"},\"num_rows\":14432,\"total_assignments\":14757,\"total_const_size\":5130,\"model_instance_shapes\":[[1],[1]],\"model_output_scales\":[0,3],\"model_input_scales\":[3],\"module_sizes\":{\"kzg\":[],\"poseidon\":[14432,[1]]},\"required_lookups\":[\"Abs\",{\"GreaterThan\":{\"a\":0.0}}],\"required_range_checks\":[[-4,4]],\"check_mode\":\"UNSAFE\",\"version\":\"9.1.0\",\"num_blinding_factors\":null,\"timestamp\":1715153603898}\n"
     ]
    }
   ],
   "source": [
    "# Verifier/ data consumer side: send desired calculation\n",
    "from zkstats.computation import computation_to_model, State\n",
    "\n",
    "\n",
    "def computation(s: State, data: list[torch.Tensor]) -> torch.Tensor:\n",
    "    x = data[0]\n",
    "    filter = torch.logical_or(x<30, x>50)\n",
    "    filtered_x = s.where(filter, x)\n",
    "    return s.pstdev(filtered_x)\n",
    "\n",
    "error = 0.01\n",
    "_, prover_model = computation_to_model(computation, precal_witness_path, True, selected_columns, error)\n",
    "prover_gen_settings(data_path, selected_columns, sel_data_path, prover_model, prover_model_path, scales, \"resources\", settings_path)\n",
    "\n"
   ]
  },
  {
   "cell_type": "code",
   "execution_count": 7,
   "metadata": {},
   "outputs": [],
   "source": [
    "_, verifier_model = computation_to_model(computation, precal_witness_path, False, selected_columns,error)\n",
    "verifier_define_calculation(dummy_data_path, selected_columns, sel_dummy_data_path,verifier_model, verifier_model_path)"
   ]
  },
  {
   "cell_type": "code",
   "execution_count": 8,
   "metadata": {},
   "outputs": [
    {
     "name": "stdout",
     "output_type": "stream",
     "text": [
      "==== setting up ezkl ====\n",
      "Time setup: 3.6159000396728516 seconds\n",
      "=======================================\n",
      "==== Generating Witness ====\n",
      "witness boolean:  1.0\n",
      "witness result 1 : 15.875\n",
      "==== Generating Proof ====\n",
      "proof:  {'instances': [['d57f47950cdabf2cb79306e0f33e75726a2c2960806e902b0fc88d3ff949a108', '0100000000000000000000000000000000000000000000000000000000000000', '7f00000000000000000000000000000000000000000000000000000000000000']], 'proof': '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', 'transcript_type': 'EVM'}\n",
      "Time gen prf: 4.518754959106445 seconds\n"
     ]
    }
   ],
   "source": [
    "# Here verifier & prover can concurrently call setup since all params are public to get pk.\n",
    "# Here write as verifier function to emphasize that verifier must calculate its own vk to be sure\n",
    "setup(verifier_model_path, verifier_compiled_model_path, settings_path,vk_path, pk_path )\n",
    "\n",
    "print(\"=======================================\")\n",
    "# Prover generates proof\n",
    "prover_gen_proof(prover_model_path, sel_data_path, witness_path, prover_compiled_model_path, settings_path, proof_path, pk_path)"
   ]
  },
  {
   "cell_type": "code",
   "execution_count": 9,
   "metadata": {},
   "outputs": [
    {
     "name": "stdout",
     "output_type": "stream",
     "text": [
      "Verifier gets result: [15.875]\n"
     ]
    }
   ],
   "source": [
    "# Verifier verifies\n",
    "res = verifier_verify(proof_path, settings_path, vk_path, selected_columns, data_commitment_path)\n",
    "print(\"Verifier gets result:\", res)"
   ]
  },
  {
   "cell_type": "code",
   "execution_count": null,
   "metadata": {},
   "outputs": [],
   "source": []
  }
 ],
 "metadata": {
  "kernelspec": {
   "display_name": "Python 3",
   "language": "python",
   "name": "python3"
  },
  "language_info": {
   "codemirror_mode": {
    "name": "ipython",
    "version": 3
   },
   "file_extension": ".py",
   "mimetype": "text/x-python",
   "name": "python",
   "nbconvert_exporter": "python",
   "pygments_lexer": "ipython3",
   "version": "3.11.4"
  },
  "orig_nbformat": 4
 },
 "nbformat": 4,
 "nbformat_minor": 2
}
