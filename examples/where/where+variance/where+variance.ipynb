{
 "cells": [
  {
   "cell_type": "code",
   "execution_count": 1,
   "metadata": {},
   "outputs": [],
   "source": [
    "import ezkl\n",
    "import torch\n",
    "from torch import nn\n",
    "import json\n",
    "import os\n",
    "import time\n",
    "import scipy\n",
    "import numpy as np\n",
    "import matplotlib.pyplot as plt\n",
    "import statistics\n",
    "import math"
   ]
  },
  {
   "cell_type": "code",
   "execution_count": 2,
   "metadata": {},
   "outputs": [],
   "source": [
    "from zkstats.core import create_dummy, verifier_define_calculation, prover_gen_settings, setup, prover_gen_proof, verifier_verify, generate_data_commitment"
   ]
  },
  {
   "cell_type": "code",
   "execution_count": 3,
   "metadata": {},
   "outputs": [],
   "source": [
    "# init path\n",
    "os.makedirs(os.path.dirname('shared/'), exist_ok=True)\n",
    "os.makedirs(os.path.dirname('prover/'), exist_ok=True)\n",
    "verifier_model_path = os.path.join('shared/verifier.onnx')\n",
    "prover_model_path = os.path.join('prover/prover.onnx')\n",
    "verifier_compiled_model_path = os.path.join('shared/verifier.compiled')\n",
    "prover_compiled_model_path = os.path.join('prover/prover.compiled')\n",
    "pk_path = os.path.join('shared/test.pk')\n",
    "vk_path = os.path.join('shared/test.vk')\n",
    "proof_path = os.path.join('shared/test.pf')\n",
    "settings_path = os.path.join('shared/settings.json')\n",
    "srs_path = os.path.join('shared/kzg.srs')\n",
    "witness_path = os.path.join('prover/witness.json')\n",
    "# this is private to prover since it contains actual data\n",
    "sel_data_path = os.path.join('prover/sel_data.json')\n",
    "# this is just dummy random value\n",
    "sel_dummy_data_path = os.path.join('shared/sel_dummy_data.json')\n",
    "data_commitment_path = os.path.join('shared/data_commitment.json')\n",
    "precal_witness_path = os.path.join('shared/precal_witness_arr.json')"
   ]
  },
  {
   "attachments": {},
   "cell_type": "markdown",
   "metadata": {},
   "source": [
    "=======================  ZK-STATS FLOW ======================="
   ]
  },
  {
   "cell_type": "code",
   "execution_count": 4,
   "metadata": {},
   "outputs": [],
   "source": [
    "data_path = os.path.join('data.json')\n",
    "dummy_data_path = os.path.join('shared/dummy_data.json')\n",
    "create_dummy(data_path, dummy_data_path)"
   ]
  },
  {
   "cell_type": "code",
   "execution_count": 5,
   "metadata": {},
   "outputs": [],
   "source": [
    "scales = [2]\n",
    "selected_columns = ['col_name']\n",
    "generate_data_commitment(data_path, scales, data_commitment_path)"
   ]
  },
  {
   "cell_type": "code",
   "execution_count": 6,
   "metadata": {},
   "outputs": [
    {
     "name": "stderr",
     "output_type": "stream",
     "text": [
      "/Users/jernkun/Desktop/zk-stats-lib/zkstats/computation.py:254: TracerWarning: torch.tensor results are registered as constants in the trace. You can safely ignore this warning if you use this function to create tensors out of constant variables that would be the same every time you call this function. In any other case, this might cause the trace to be incorrect.\n",
      "  is_precise_aggregated = torch.tensor(1.0)\n",
      "/Users/jernkun/Desktop/zk-stats-lib/zkstats/ops.py:34: TracerWarning: torch.tensor results are registered as constants in the trace. You can safely ignore this warning if you use this function to create tensors out of constant variables that would be the same every time you call this function. In any other case, this might cause the trace to be incorrect.\n",
      "  return torch.tensor(True)\n",
      "/Users/jernkun/Library/Caches/pypoetry/virtualenvs/zkstats-OJpceffF-py3.11/lib/python3.11/site-packages/torch/onnx/symbolic_opset9.py:2174: FutureWarning: 'torch.onnx.symbolic_opset9._cast_Bool' is deprecated in version 2.0 and will be removed in the future. Please Avoid using this function and create a Cast node instead.\n",
      "  return fn(g, to_cast_func(g, input, False), to_cast_func(g, other, False))\n",
      "/Users/jernkun/Library/Caches/pypoetry/virtualenvs/zkstats-OJpceffF-py3.11/lib/python3.11/site-packages/torch/onnx/utils.py:1703: UserWarning: The exported ONNX model failed ONNX shape inference. The model will not be executable by the ONNX Runtime. If this is unintended and you believe there is a bug, please report an issue at https://github.com/pytorch/pytorch/issues. Error reported by strict ONNX shape inference: [ShapeInferenceError] (op_type:Where, node name: /Where_1): Y has inconsistent type tensor(float) (Triggered internally at /Users/runner/work/pytorch/pytorch/pytorch/torch/csrc/jit/serialization/export.cpp:1490.)\n",
      "  _C._check_onnx_proto(proto)\n"
     ]
    },
    {
     "name": "stdout",
     "output_type": "stream",
     "text": [
      "==== Generate & Calibrate Setting ====\n"
     ]
    },
    {
     "name": "stderr",
     "output_type": "stream",
     "text": [
      "\n",
      "\n",
      " <------------- Numerical Fidelity Report (input_scale: 2, param_scale: 2, scale_input_multiplier: 10) ------------->\n",
      "\n",
      "+--------------+--------------+-----------+--------------+----------------+------------------+---------------+---------------+--------------------+--------------------+------------------------+\n",
      "| mean_error   | median_error | max_error | min_error    | mean_abs_error | median_abs_error | max_abs_error | min_abs_error | mean_squared_error | mean_percent_error | mean_abs_percent_error |\n",
      "+--------------+--------------+-----------+--------------+----------------+------------------+---------------+---------------+--------------------+--------------------+------------------------+\n",
      "| -0.057937622 | -0.115875244 | 0         | -0.115875244 | 0.057937622    | 0.115875244      | 0.115875244   | 0             | 0.006713536        | -0.0007207595      | 0.0007207595           |\n",
      "+--------------+--------------+-----------+--------------+----------------+------------------+---------------+---------------+--------------------+--------------------+------------------------+\n",
      "\n",
      "\n"
     ]
    },
    {
     "name": "stdout",
     "output_type": "stream",
     "text": [
      "scale:  [2]\n",
      "setting:  {\"run_args\":{\"tolerance\":{\"val\":0.0,\"scale\":1.0},\"input_scale\":2,\"param_scale\":2,\"scale_rebase_multiplier\":10,\"lookup_range\":[-2880,3360],\"logrows\":14,\"num_inner_cols\":2,\"variables\":[[\"batch_size\",1]],\"input_visibility\":{\"Hashed\":{\"hash_is_public\":true,\"outlets\":[]}},\"output_visibility\":\"Public\",\"param_visibility\":\"Fixed\",\"div_rebasing\":false,\"rebase_frac_zero_constants\":false,\"check_mode\":\"UNSAFE\"},\"num_rows\":14432,\"total_assignments\":11436,\"total_const_size\":4222,\"model_instance_shapes\":[[1],[1]],\"model_output_scales\":[0,2],\"model_input_scales\":[2],\"module_sizes\":{\"kzg\":[],\"poseidon\":[14432,[1]]},\"required_lookups\":[{\"GreaterThan\":{\"a\":0.0}},\"Abs\"],\"required_range_checks\":[],\"check_mode\":\"UNSAFE\",\"version\":\"9.1.0\",\"num_blinding_factors\":null,\"timestamp\":1715153839734}\n"
     ]
    }
   ],
   "source": [
    "# Verifier/ data consumer side: send desired calculation\n",
    "from zkstats.computation import computation_to_model, State\n",
    "\n",
    "\n",
    "def computation(s: State, data: list[torch.Tensor]) -> torch.Tensor:\n",
    "    x = data[0]\n",
    "    filter = (x>50)\n",
    "    filtered_x = s.where(filter, x)\n",
    "    return s.variance(filtered_x)\n",
    "\n",
    "error = 0.01\n",
    "_, prover_model = computation_to_model(computation,precal_witness_path, True, selected_columns, error)\n",
    "\n",
    "prover_gen_settings(data_path, selected_columns, sel_data_path, prover_model,prover_model_path, scales, \"resources\", settings_path)"
   ]
  },
  {
   "cell_type": "code",
   "execution_count": 7,
   "metadata": {},
   "outputs": [],
   "source": [
    "_, verifier_model = computation_to_model(computation, precal_witness_path, False, selected_columns, error)\n",
    "\n",
    "verifier_define_calculation(dummy_data_path, selected_columns, sel_dummy_data_path, verifier_model, verifier_model_path)"
   ]
  },
  {
   "cell_type": "code",
   "execution_count": 8,
   "metadata": {},
   "outputs": [
    {
     "name": "stdout",
     "output_type": "stream",
     "text": [
      "==== setting up ezkl ====\n",
      "Time setup: 1.756706953048706 seconds\n",
      "=======================================\n",
      "==== Generating Witness ====\n",
      "witness boolean:  1.0\n",
      "witness result 1 : 80.5\n",
      "==== Generating Proof ====\n",
      "proof:  {'instances': [['31220e5513f6e9b7d0f59d8f019cd197642a431b2136f0311abf6046c9006227', '0100000000000000000000000000000000000000000000000000000000000000', '4201000000000000000000000000000000000000000000000000000000000000']], 'proof': '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', 'transcript_type': 'EVM'}\n",
      "Time gen prf: 2.0645062923431396 seconds\n"
     ]
    }
   ],
   "source": [
    "# Here verifier & prover can concurrently call setup since all params are public to get pk.\n",
    "# Here write as verifier function to emphasize that verifier must calculate its own vk to be sure\n",
    "setup(verifier_model_path, verifier_compiled_model_path, settings_path,vk_path, pk_path )\n",
    "\n",
    "print(\"=======================================\")\n",
    "# Prover generates proof\n",
    "prover_gen_proof(prover_model_path, sel_data_path, witness_path, prover_compiled_model_path, settings_path, proof_path, pk_path)"
   ]
  },
  {
   "cell_type": "code",
   "execution_count": 9,
   "metadata": {},
   "outputs": [
    {
     "name": "stdout",
     "output_type": "stream",
     "text": [
      "Verifier gets result: [80.5]\n"
     ]
    }
   ],
   "source": [
    "# Verifier verifies\n",
    "res = verifier_verify(proof_path, settings_path, vk_path, selected_columns, data_commitment_path)\n",
    "print(\"Verifier gets result:\", res)"
   ]
  },
  {
   "cell_type": "code",
   "execution_count": null,
   "metadata": {},
   "outputs": [],
   "source": []
  }
 ],
 "metadata": {
  "kernelspec": {
   "display_name": "Python 3",
   "language": "python",
   "name": "python3"
  },
  "language_info": {
   "codemirror_mode": {
    "name": "ipython",
    "version": 3
   },
   "file_extension": ".py",
   "mimetype": "text/x-python",
   "name": "python",
   "nbconvert_exporter": "python",
   "pygments_lexer": "ipython3",
   "version": "3.11.4"
  },
  "orig_nbformat": 4
 },
 "nbformat": 4,
 "nbformat_minor": 2
}
