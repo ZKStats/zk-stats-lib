{
 "cells": [
  {
   "attachments": {},
   "cell_type": "markdown",
   "metadata": {},
   "source": [
    "Note that it might make more sense to just request cov(x,y), std(x), std(y) and compute correlation on requester's end instead of requesting the whole HUGE circuit of correlation. "
   ]
  },
  {
   "cell_type": "code",
   "execution_count": 1,
   "metadata": {},
   "outputs": [],
   "source": [
    "import ezkl\n",
    "import torch\n",
    "from torch import nn\n",
    "import json\n",
    "import os\n",
    "import time\n",
    "import scipy\n",
    "import numpy as np\n",
    "import matplotlib.pyplot as plt\n",
    "import statistics\n",
    "import math"
   ]
  },
  {
   "cell_type": "code",
   "execution_count": 2,
   "metadata": {},
   "outputs": [],
   "source": [
    "from zkstats.core import create_dummy, verifier_define_calculation, prover_gen_settings, setup, prover_gen_proof, verifier_verify, generate_data_commitment"
   ]
  },
  {
   "cell_type": "code",
   "execution_count": 3,
   "metadata": {},
   "outputs": [],
   "source": [
    "# init path\n",
    "os.makedirs(os.path.dirname('shared/'), exist_ok=True)\n",
    "os.makedirs(os.path.dirname('prover/'), exist_ok=True)\n",
    "verifier_model_path = os.path.join('shared/verifier.onnx')\n",
    "prover_model_path = os.path.join('prover/prover.onnx')\n",
    "verifier_compiled_model_path = os.path.join('shared/verifier.compiled')\n",
    "prover_compiled_model_path = os.path.join('prover/prover.compiled')\n",
    "pk_path = os.path.join('shared/test.pk')\n",
    "vk_path = os.path.join('shared/test.vk')\n",
    "proof_path = os.path.join('shared/test.pf')\n",
    "settings_path = os.path.join('shared/settings.json')\n",
    "srs_path = os.path.join('shared/kzg.srs')\n",
    "witness_path = os.path.join('prover/witness.json')\n",
    "# this is private to prover since it contains actual data\n",
    "sel_data_path = os.path.join('prover/sel_data.json')\n",
    "# this is just dummy random value\n",
    "sel_dummy_data_path = os.path.join('shared/sel_dummy_data.json')\n",
    "data_commitment_path = os.path.join('shared/data_commitment.json')\n",
    "precal_witness_path = os.path.join('shared/precal_witness_arr.json')"
   ]
  },
  {
   "attachments": {},
   "cell_type": "markdown",
   "metadata": {},
   "source": [
    "=======================  ZK-STATS FLOW ======================="
   ]
  },
  {
   "attachments": {},
   "cell_type": "markdown",
   "metadata": {},
   "source": [
    "This example is not necessary. In fact, a person can just request cov(x,y), std(x), and std(y). Then just compute correlation on his own as well, but here we show that the code is composable enough to do all at once. "
   ]
  },
  {
   "cell_type": "code",
   "execution_count": 4,
   "metadata": {},
   "outputs": [],
   "source": [
    "data_path = os.path.join('data.json')\n",
    "dummy_data_path = os.path.join('shared/dummy_data.json')\n",
    "\n",
    "create_dummy(data_path, dummy_data_path)"
   ]
  },
  {
   "cell_type": "code",
   "execution_count": 5,
   "metadata": {},
   "outputs": [],
   "source": [
    "scales = [5]\n",
    "selected_columns = ['x', 'y']\n",
    "generate_data_commitment(data_path, scales, data_commitment_path)"
   ]
  },
  {
   "cell_type": "code",
   "execution_count": 6,
   "metadata": {},
   "outputs": [
    {
     "name": "stderr",
     "output_type": "stream",
     "text": [
      "/Users/jernkun/Desktop/zk-stats-lib/zkstats/computation.py:254: TracerWarning: torch.tensor results are registered as constants in the trace. You can safely ignore this warning if you use this function to create tensors out of constant variables that would be the same every time you call this function. In any other case, this might cause the trace to be incorrect.\n",
      "  is_precise_aggregated = torch.tensor(1.0)\n",
      "/Users/jernkun/Desktop/zk-stats-lib/zkstats/ops.py:34: TracerWarning: torch.tensor results are registered as constants in the trace. You can safely ignore this warning if you use this function to create tensors out of constant variables that would be the same every time you call this function. In any other case, this might cause the trace to be incorrect.\n",
      "  return torch.tensor(True)\n",
      "/Users/jernkun/Library/Caches/pypoetry/virtualenvs/zkstats-OJpceffF-py3.11/lib/python3.11/site-packages/torch/onnx/symbolic_opset9.py:2174: FutureWarning: 'torch.onnx.symbolic_opset9._cast_Bool' is deprecated in version 2.0 and will be removed in the future. Please Avoid using this function and create a Cast node instead.\n",
      "  return fn(g, to_cast_func(g, input, False), to_cast_func(g, other, False))\n",
      "/Users/jernkun/Library/Caches/pypoetry/virtualenvs/zkstats-OJpceffF-py3.11/lib/python3.11/site-packages/torch/onnx/utils.py:1703: UserWarning: The exported ONNX model failed ONNX shape inference. The model will not be executable by the ONNX Runtime. If this is unintended and you believe there is a bug, please report an issue at https://github.com/pytorch/pytorch/issues. Error reported by strict ONNX shape inference: [ShapeInferenceError] (op_type:Where, node name: /Where_2): Y has inconsistent type tensor(float) (Triggered internally at /Users/runner/work/pytorch/pytorch/pytorch/torch/csrc/jit/serialization/export.cpp:1490.)\n",
      "  _C._check_onnx_proto(proto)\n"
     ]
    },
    {
     "name": "stdout",
     "output_type": "stream",
     "text": [
      "==== Generate & Calibrate Setting ====\n"
     ]
    },
    {
     "name": "stderr",
     "output_type": "stream",
     "text": [
      "\n",
      "\n",
      " <------------- Numerical Fidelity Report (input_scale: 5, param_scale: 5, scale_input_multiplier: 1) ------------->\n",
      "\n",
      "+---------------+---------------+-----------+---------------+----------------+------------------+---------------+---------------+--------------------+--------------------+------------------------+\n",
      "| mean_error    | median_error  | max_error | min_error     | mean_abs_error | median_abs_error | max_abs_error | min_abs_error | mean_squared_error | mean_percent_error | mean_abs_percent_error |\n",
      "+---------------+---------------+-----------+---------------+----------------+------------------+---------------+---------------+--------------------+--------------------+------------------------+\n",
      "| -0.0014694929 | -0.0029389858 | 0         | -0.0029389858 | 0.0014694929   | 0.0029389858     | 0.0029389858  | 0             | 0.000004318819     | -0.0027814922      | 0.0027814922           |\n",
      "+---------------+---------------+-----------+---------------+----------------+------------------+---------------+---------------+--------------------+--------------------+------------------------+\n",
      "\n",
      "\n"
     ]
    },
    {
     "name": "stdout",
     "output_type": "stream",
     "text": [
      "scale:  [5]\n",
      "setting:  {\"run_args\":{\"tolerance\":{\"val\":0.0,\"scale\":1.0},\"input_scale\":5,\"param_scale\":5,\"scale_rebase_multiplier\":1,\"lookup_range\":[-8548,8632],\"logrows\":15,\"num_inner_cols\":2,\"variables\":[[\"batch_size\",1]],\"input_visibility\":{\"Hashed\":{\"hash_is_public\":true,\"outlets\":[]}},\"output_visibility\":\"Public\",\"param_visibility\":\"Fixed\",\"div_rebasing\":false,\"rebase_frac_zero_constants\":false,\"check_mode\":\"UNSAFE\"},\"num_rows\":7872,\"total_assignments\":4491,\"total_const_size\":1571,\"model_instance_shapes\":[[1],[1]],\"model_output_scales\":[0,5],\"model_input_scales\":[5,5],\"module_sizes\":{\"kzg\":[],\"poseidon\":[7872,[2]]},\"required_lookups\":[{\"GreaterThan\":{\"a\":0.0}},\"Abs\"],\"required_range_checks\":[[-16,16]],\"check_mode\":\"UNSAFE\",\"version\":\"9.1.0\",\"num_blinding_factors\":null,\"timestamp\":1715153294863}\n"
     ]
    }
   ],
   "source": [
    "# Verifier/ data consumer side: send desired calculation\n",
    "from zkstats.computation import computation_to_model, State\n",
    "\n",
    "\n",
    "def computation(s: State, data: list[torch.Tensor]) -> torch.Tensor:\n",
    "    x, y = data[0], data[1]\n",
    "    filter =(y<60)\n",
    "    filtered_x = s.where(filter, x)\n",
    "    filtered_y = s.where(filter, y)\n",
    "    return s.correlation(filtered_x, filtered_y)\n",
    "\n",
    "error = 0.01\n",
    "_, prover_model = computation_to_model(computation, precal_witness_path, True, selected_columns, error)\n",
    "prover_gen_settings(data_path, selected_columns, sel_data_path, prover_model, prover_model_path, scales, \"resources\", settings_path)\n"
   ]
  },
  {
   "cell_type": "code",
   "execution_count": 7,
   "metadata": {},
   "outputs": [],
   "source": [
    "_, verifier_model = computation_to_model(computation, precal_witness_path, False, selected_columns, error)\n",
    "verifier_define_calculation(dummy_data_path, selected_columns, sel_dummy_data_path,verifier_model, verifier_model_path)"
   ]
  },
  {
   "cell_type": "code",
   "execution_count": 8,
   "metadata": {},
   "outputs": [
    {
     "name": "stdout",
     "output_type": "stream",
     "text": [
      "==== setting up ezkl ====\n",
      "Time setup: 3.921678066253662 seconds\n",
      "=======================================\n",
      "==== Generating Witness ====\n",
      "witness boolean:  1.0\n",
      "witness result 1 : 0.53125\n",
      "==== Generating Proof ====\n",
      "proof:  {'instances': [['7469705c7b45875730aac31b009e8f9e9f9e57031bba148110877f78e4518c22', 'c1f946e3fd2b2229bfcc2dc9ff7f4dfc1fddad53635becb58d130bcae5504712', '0100000000000000000000000000000000000000000000000000000000000000', '1100000000000000000000000000000000000000000000000000000000000000']], 'proof': '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', 'transcript_type': 'EVM'}\n",
      "Time gen prf: 4.666776895523071 seconds\n"
     ]
    }
   ],
   "source": [
    "# Here verifier & prover can concurrently call setup since all params are public to get pk.\n",
    "# Here write as verifier function to emphasize that verifier must calculate its own vk to be sure\n",
    "setup(verifier_model_path, verifier_compiled_model_path, settings_path,vk_path, pk_path )\n",
    "\n",
    "print(\"=======================================\")\n",
    "# Prover generates proof\n",
    "prover_gen_proof(prover_model_path, sel_data_path, witness_path, prover_compiled_model_path, settings_path, proof_path, pk_path)"
   ]
  },
  {
   "cell_type": "code",
   "execution_count": 9,
   "metadata": {},
   "outputs": [
    {
     "name": "stdout",
     "output_type": "stream",
     "text": [
      "Verifier gets result: [0.53125]\n"
     ]
    }
   ],
   "source": [
    "# Verifier verifies\n",
    "res = verifier_verify(proof_path, settings_path, vk_path, selected_columns, data_commitment_path)\n",
    "print(\"Verifier gets result:\", res)"
   ]
  },
  {
   "cell_type": "code",
   "execution_count": null,
   "metadata": {},
   "outputs": [],
   "source": []
  }
 ],
 "metadata": {
  "kernelspec": {
   "display_name": "Python 3",
   "language": "python",
   "name": "python3"
  },
  "language_info": {
   "codemirror_mode": {
    "name": "ipython",
    "version": 3
   },
   "file_extension": ".py",
   "mimetype": "text/x-python",
   "name": "python",
   "nbconvert_exporter": "python",
   "pygments_lexer": "ipython3",
   "version": "3.11.4"
  },
  "orig_nbformat": 4
 },
 "nbformat": 4,
 "nbformat_minor": 2
}
