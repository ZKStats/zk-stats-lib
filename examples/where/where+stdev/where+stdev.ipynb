{
 "cells": [
  {
   "cell_type": "code",
   "execution_count": 1,
   "metadata": {},
   "outputs": [],
   "source": [
    "import ezkl\n",
    "import torch\n",
    "from torch import nn\n",
    "import json\n",
    "import os\n",
    "import time\n",
    "import scipy\n",
    "import numpy as np\n",
    "import matplotlib.pyplot as plt\n",
    "import statistics\n",
    "import math"
   ]
  },
  {
   "cell_type": "code",
   "execution_count": 2,
   "metadata": {},
   "outputs": [],
   "source": [
    "from zkstats.core import create_dummy, verifier_define_calculation, prover_gen_settings, setup, prover_gen_proof, verifier_verify, generate_data_commitment"
   ]
  },
  {
   "cell_type": "code",
   "execution_count": 3,
   "metadata": {},
   "outputs": [],
   "source": [
    "# init path\n",
    "os.makedirs(os.path.dirname('shared/'), exist_ok=True)\n",
    "os.makedirs(os.path.dirname('prover/'), exist_ok=True)\n",
    "verifier_model_path = os.path.join('shared/verifier.onnx')\n",
    "prover_model_path = os.path.join('prover/prover.onnx')\n",
    "verifier_compiled_model_path = os.path.join('shared/verifier.compiled')\n",
    "prover_compiled_model_path = os.path.join('prover/prover.compiled')\n",
    "pk_path = os.path.join('shared/test.pk')\n",
    "vk_path = os.path.join('shared/test.vk')\n",
    "proof_path = os.path.join('shared/test.pf')\n",
    "settings_path = os.path.join('shared/settings.json')\n",
    "srs_path = os.path.join('shared/kzg.srs')\n",
    "witness_path = os.path.join('prover/witness.json')\n",
    "# this is private to prover since it contains actual data\n",
    "sel_data_path = os.path.join('prover/sel_data.json')\n",
    "# this is just dummy random value\n",
    "sel_dummy_data_path = os.path.join('shared/sel_dummy_data.json')\n",
    "data_commitment_path = os.path.join('shared/data_commitment.json')\n",
    "precal_witness_path = os.path.join('shared/precal_witness_arr.json')"
   ]
  },
  {
   "attachments": {},
   "cell_type": "markdown",
   "metadata": {},
   "source": [
    "=======================  ZK-STATS FLOW ======================="
   ]
  },
  {
   "cell_type": "code",
   "execution_count": 4,
   "metadata": {},
   "outputs": [],
   "source": [
    "data_path = os.path.join('data.json')\n",
    "dummy_data_path = os.path.join('shared/dummy_data.json')\n",
    "create_dummy(data_path, dummy_data_path)"
   ]
  },
  {
   "cell_type": "code",
   "execution_count": 5,
   "metadata": {},
   "outputs": [],
   "source": [
    "scales = [4]\n",
    "selected_columns = ['col_name']\n",
    "generate_data_commitment(data_path, scales, data_commitment_path)"
   ]
  },
  {
   "cell_type": "code",
   "execution_count": 6,
   "metadata": {},
   "outputs": [
    {
     "name": "stderr",
     "output_type": "stream",
     "text": [
      "/Users/jernkun/Desktop/zk-stats-lib/zkstats/computation.py:254: TracerWarning: torch.tensor results are registered as constants in the trace. You can safely ignore this warning if you use this function to create tensors out of constant variables that would be the same every time you call this function. In any other case, this might cause the trace to be incorrect.\n",
      "  is_precise_aggregated = torch.tensor(1.0)\n",
      "/Users/jernkun/Desktop/zk-stats-lib/zkstats/ops.py:34: TracerWarning: torch.tensor results are registered as constants in the trace. You can safely ignore this warning if you use this function to create tensors out of constant variables that would be the same every time you call this function. In any other case, this might cause the trace to be incorrect.\n",
      "  return torch.tensor(True)\n",
      "/Users/jernkun/Library/Caches/pypoetry/virtualenvs/zkstats-OJpceffF-py3.11/lib/python3.11/site-packages/torch/onnx/symbolic_opset9.py:2174: FutureWarning: 'torch.onnx.symbolic_opset9._cast_Bool' is deprecated in version 2.0 and will be removed in the future. Please Avoid using this function and create a Cast node instead.\n",
      "  return fn(g, to_cast_func(g, input, False), to_cast_func(g, other, False))\n",
      "/Users/jernkun/Library/Caches/pypoetry/virtualenvs/zkstats-OJpceffF-py3.11/lib/python3.11/site-packages/torch/onnx/utils.py:1703: UserWarning: The exported ONNX model failed ONNX shape inference. The model will not be executable by the ONNX Runtime. If this is unintended and you believe there is a bug, please report an issue at https://github.com/pytorch/pytorch/issues. Error reported by strict ONNX shape inference: [ShapeInferenceError] (op_type:Where, node name: /Where_1): Y has inconsistent type tensor(float) (Triggered internally at /Users/runner/work/pytorch/pytorch/pytorch/torch/csrc/jit/serialization/export.cpp:1490.)\n",
      "  _C._check_onnx_proto(proto)\n"
     ]
    },
    {
     "name": "stdout",
     "output_type": "stream",
     "text": [
      "==== Generate & Calibrate Setting ====\n"
     ]
    },
    {
     "name": "stderr",
     "output_type": "stream",
     "text": [
      "\n",
      "\n",
      " <------------- Numerical Fidelity Report (input_scale: 4, param_scale: 4, scale_input_multiplier: 1) ------------->\n",
      "\n",
      "+-------------+--------------+-------------+-----------+----------------+------------------+---------------+---------------+--------------------+--------------------+------------------------+\n",
      "| mean_error  | median_error | max_error   | min_error | mean_abs_error | median_abs_error | max_abs_error | min_abs_error | mean_squared_error | mean_percent_error | mean_abs_percent_error |\n",
      "+-------------+--------------+-------------+-----------+----------------+------------------+---------------+---------------+--------------------+--------------------+------------------------+\n",
      "| 0.004298687 | 0.008597374  | 0.008597374 | 0         | 0.004298687    | 0.008597374      | 0.008597374   | 0             | 0.00003695742      | 0.00033692474      | 0.00033692474          |\n",
      "+-------------+--------------+-------------+-----------+----------------+------------------+---------------+---------------+--------------------+--------------------+------------------------+\n",
      "\n",
      "\n"
     ]
    },
    {
     "name": "stdout",
     "output_type": "stream",
     "text": [
      "scale:  [4]\n",
      "setting:  {\"run_args\":{\"tolerance\":{\"val\":0.0,\"scale\":1.0},\"input_scale\":4,\"param_scale\":4,\"scale_rebase_multiplier\":1,\"lookup_range\":[-140658,140920],\"logrows\":19,\"num_inner_cols\":2,\"variables\":[[\"batch_size\",1]],\"input_visibility\":{\"Hashed\":{\"hash_is_public\":true,\"outlets\":[]}},\"output_visibility\":\"Public\",\"param_visibility\":\"Fixed\",\"div_rebasing\":false,\"rebase_frac_zero_constants\":false,\"check_mode\":\"UNSAFE\"},\"num_rows\":14432,\"total_assignments\":12657,\"total_const_size\":4530,\"model_instance_shapes\":[[1],[1]],\"model_output_scales\":[0,4],\"model_input_scales\":[4],\"module_sizes\":{\"kzg\":[],\"poseidon\":[14432,[1]]},\"required_lookups\":[\"Abs\",{\"GreaterThan\":{\"a\":0.0}}],\"required_range_checks\":[[-8,8]],\"check_mode\":\"UNSAFE\",\"version\":\"9.1.0\",\"num_blinding_factors\":null,\"timestamp\":1715153670916}\n"
     ]
    }
   ],
   "source": [
    "# Verifier/ data consumer side: send desired calculation\n",
    "from zkstats.computation import computation_to_model, State\n",
    "\n",
    "\n",
    "def computation(s: State, data: list[torch.Tensor]) -> torch.Tensor:\n",
    "    x = data[0]\n",
    "    # FIXME: should be replaced by `s.where` when it's available. Now the result may be incorrect\n",
    "    filter = (x > 30)\n",
    "    filtered_x = s.where(filter, x)\n",
    "    return s.stdev(filtered_x)\n",
    "\n",
    "error = 0.05\n",
    "_, prover_model = computation_to_model(computation,precal_witness_path, True, selected_columns, error)\n",
    "\n",
    "prover_gen_settings(data_path, selected_columns, sel_data_path, prover_model,prover_model_path, scales, \"resources\", settings_path)"
   ]
  },
  {
   "cell_type": "code",
   "execution_count": 7,
   "metadata": {},
   "outputs": [],
   "source": [
    "_, verifier_model = computation_to_model(computation, precal_witness_path, False, selected_columns, error)\n",
    "\n",
    "verifier_define_calculation(dummy_data_path, selected_columns, sel_dummy_data_path, verifier_model, verifier_model_path)"
   ]
  },
  {
   "cell_type": "code",
   "execution_count": 8,
   "metadata": {},
   "outputs": [
    {
     "name": "stdout",
     "output_type": "stream",
     "text": [
      "==== setting up ezkl ====\n",
      "Time setup: 60.84906888008118 seconds\n",
      "=======================================\n",
      "==== Generating Witness ====\n",
      "witness boolean:  1.0\n",
      "witness result 1 : 12.75\n",
      "==== Generating Proof ====\n",
      "proof:  {'instances': [['d1c9d1d20a90c893c336feef1eab835aefd88d5a68f68881423b9ce4635f520f', '0100000000000000000000000000000000000000000000000000000000000000', 'cc00000000000000000000000000000000000000000000000000000000000000']], 'proof': '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', 'transcript_type': 'EVM'}\n",
      "Time gen prf: 74.04097104072571 seconds\n"
     ]
    }
   ],
   "source": [
    "# Here verifier & prover can concurrently call setup since all params are public to get pk.\n",
    "# Here write as verifier function to emphasize that verifier must calculate its own vk to be sure\n",
    "setup(verifier_model_path, verifier_compiled_model_path, settings_path,vk_path, pk_path )\n",
    "\n",
    "print(\"=======================================\")\n",
    "# Prover generates proof\n",
    "prover_gen_proof(prover_model_path, sel_data_path, witness_path, prover_compiled_model_path, settings_path, proof_path, pk_path)"
   ]
  },
  {
   "cell_type": "code",
   "execution_count": 9,
   "metadata": {},
   "outputs": [
    {
     "name": "stdout",
     "output_type": "stream",
     "text": [
      "Verifier gets result: [12.75]\n"
     ]
    }
   ],
   "source": [
    "# Verifier verifies\n",
    "res = verifier_verify(proof_path, settings_path, vk_path, selected_columns, data_commitment_path)\n",
    "print(\"Verifier gets result:\", res)"
   ]
  },
  {
   "cell_type": "code",
   "execution_count": null,
   "metadata": {},
   "outputs": [],
   "source": []
  }
 ],
 "metadata": {
  "kernelspec": {
   "display_name": "Python 3",
   "language": "python",
   "name": "python3"
  },
  "language_info": {
   "codemirror_mode": {
    "name": "ipython",
    "version": 3
   },
   "file_extension": ".py",
   "mimetype": "text/x-python",
   "name": "python",
   "nbconvert_exporter": "python",
   "pygments_lexer": "ipython3",
   "version": "3.11.4"
  },
  "orig_nbformat": 4
 },
 "nbformat": 4,
 "nbformat_minor": 2
}
