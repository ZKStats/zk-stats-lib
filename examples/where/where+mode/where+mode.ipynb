{
 "cells": [
  {
   "cell_type": "code",
   "execution_count": 1,
   "metadata": {},
   "outputs": [],
   "source": [
    "import ezkl\n",
    "import torch\n",
    "from torch import nn\n",
    "import json\n",
    "import os\n",
    "import time\n",
    "import scipy\n",
    "import numpy as np\n",
    "import matplotlib.pyplot as plt\n",
    "import statistics\n",
    "import math"
   ]
  },
  {
   "cell_type": "code",
   "execution_count": 2,
   "metadata": {},
   "outputs": [],
   "source": [
    "from zkstats.core import create_dummy, verifier_define_calculation, prover_gen_settings, setup, prover_gen_proof, verifier_verify, generate_data_commitment"
   ]
  },
  {
   "attachments": {},
   "cell_type": "markdown",
   "metadata": {},
   "source": []
  },
  {
   "cell_type": "code",
   "execution_count": 3,
   "metadata": {},
   "outputs": [],
   "source": [
    "# init path\n",
    "os.makedirs(os.path.dirname('shared/'), exist_ok=True)\n",
    "os.makedirs(os.path.dirname('prover/'), exist_ok=True)\n",
    "verifier_model_path = os.path.join('shared/verifier.onnx')\n",
    "prover_model_path = os.path.join('prover/prover.onnx')\n",
    "verifier_compiled_model_path = os.path.join('shared/verifier.compiled')\n",
    "prover_compiled_model_path = os.path.join('prover/prover.compiled')\n",
    "pk_path = os.path.join('shared/test.pk')\n",
    "vk_path = os.path.join('shared/test.vk')\n",
    "proof_path = os.path.join('shared/test.pf')\n",
    "settings_path = os.path.join('shared/settings.json')\n",
    "srs_path = os.path.join('shared/kzg.srs')\n",
    "witness_path = os.path.join('prover/witness.json')\n",
    "# this is private to prover since it contains actual data\n",
    "sel_data_path = os.path.join('prover/sel_data.json')\n",
    "# this is just dummy random value\n",
    "sel_dummy_data_path = os.path.join('shared/sel_dummy_data.json')\n",
    "data_commitment_path = os.path.join('shared/data_commitment.json')\n",
    "precal_witness_path = os.path.join('shared/precal_witness_arr.json')"
   ]
  },
  {
   "attachments": {},
   "cell_type": "markdown",
   "metadata": {},
   "source": [
    "=======================  ZK-STATS FLOW ======================="
   ]
  },
  {
   "cell_type": "code",
   "execution_count": 4,
   "metadata": {},
   "outputs": [],
   "source": [
    "def mode_within(data_array, percent):\n",
    "    max_sum_freq = 0\n",
    "    mode = data_array[0]\n",
    "\n",
    "    for check_val in set(data_array):\n",
    "        sum_freq = sum(1 for ele in data_array if abs(ele - check_val) <= abs(percent * check_val / 100))\n",
    "\n",
    "        if sum_freq > max_sum_freq:\n",
    "            mode = check_val\n",
    "            max_sum_freq = sum_freq\n",
    "\n",
    "    return mode"
   ]
  },
  {
   "cell_type": "code",
   "execution_count": 5,
   "metadata": {},
   "outputs": [],
   "source": [
    "data_path = os.path.join('data.json')\n",
    "dummy_data_path = os.path.join('shared/dummy_data.json')\n",
    "\n",
    "data = np.array(json.loads(open(data_path, \"r\").read())['col_name'])\n",
    "\n",
    "create_dummy(data_path, dummy_data_path)\n",
    "dummy_data = np.array(json.loads(open(dummy_data_path, \"r\").read())['col_name'])\n",
    "\n",
    "dummy_theory_output = torch.tensor(mode_within(dummy_data[dummy_data>20],1))"
   ]
  },
  {
   "cell_type": "code",
   "execution_count": 6,
   "metadata": {},
   "outputs": [],
   "source": [
    "scales = [2]\n",
    "selected_columns = ['col_name']\n",
    "generate_data_commitment(data_path, scales, data_commitment_path)"
   ]
  },
  {
   "cell_type": "code",
   "execution_count": 7,
   "metadata": {},
   "outputs": [
    {
     "name": "stderr",
     "output_type": "stream",
     "text": [
      "/Users/jernkun/Desktop/zk-stats-lib/zkstats/ops.py:228: UserWarning: To copy construct from a tensor, it is recommended to use sourceTensor.clone().detach() or sourceTensor.clone().detach().requires_grad_(True), rather than torch.tensor(sourceTensor).\n",
      "  result = torch.tensor(mode_within(x_1d, 0))\n",
      "/Users/jernkun/Desktop/zk-stats-lib/zkstats/computation.py:254: TracerWarning: torch.tensor results are registered as constants in the trace. You can safely ignore this warning if you use this function to create tensors out of constant variables that would be the same every time you call this function. In any other case, this might cause the trace to be incorrect.\n",
      "  is_precise_aggregated = torch.tensor(1.0)\n",
      "/Users/jernkun/Desktop/zk-stats-lib/zkstats/ops.py:34: TracerWarning: torch.tensor results are registered as constants in the trace. You can safely ignore this warning if you use this function to create tensors out of constant variables that would be the same every time you call this function. In any other case, this might cause the trace to be incorrect.\n",
      "  return torch.tensor(True)\n",
      "/Users/jernkun/Desktop/zk-stats-lib/zkstats/ops.py:246: TracerWarning: Iterating over a tensor might cause the trace to be incorrect. Passing a tensor of different shape won't change the number of iterations executed (and might lead to errors or silently give incorrect results).\n",
      "  for ele in x[0]:\n",
      "/Users/jernkun/Library/Caches/pypoetry/virtualenvs/zkstats-OJpceffF-py3.11/lib/python3.11/site-packages/torch/onnx/symbolic_opset9.py:2174: FutureWarning: 'torch.onnx.symbolic_opset9._cast_Bool' is deprecated in version 2.0 and will be removed in the future. Please Avoid using this function and create a Cast node instead.\n",
      "  return fn(g, to_cast_func(g, input, False), to_cast_func(g, other, False))\n"
     ]
    },
    {
     "name": "stdout",
     "output_type": "stream",
     "text": [
      "==== Generate & Calibrate Setting ====\n"
     ]
    },
    {
     "name": "stderr",
     "output_type": "stream",
     "text": [
      "\n",
      "\n",
      " <------------- Numerical Fidelity Report (input_scale: 2, param_scale: 2, scale_input_multiplier: 10) ------------->\n",
      "\n",
      "+-------------+--------------+-------------+-----------+----------------+------------------+---------------+---------------+--------------------+--------------------+------------------------+\n",
      "| mean_error  | median_error | max_error   | min_error | mean_abs_error | median_abs_error | max_abs_error | min_abs_error | mean_squared_error | mean_percent_error | mean_abs_percent_error |\n",
      "+-------------+--------------+-------------+-----------+----------------+------------------+---------------+---------------+--------------------+--------------------+------------------------+\n",
      "| 0.024999619 | 0.049999237  | 0.049999237 | 0         | 0.024999619    | 0.049999237      | 0.049999237   | 0             | 0.0012499619       | 0.0005580272       | 0.0005580272           |\n",
      "+-------------+--------------+-------------+-----------+----------------+------------------+---------------+---------------+--------------------+--------------------+------------------------+\n",
      "\n",
      "\n"
     ]
    },
    {
     "name": "stdout",
     "output_type": "stream",
     "text": [
      "scale:  [2]\n",
      "setting:  {\"run_args\":{\"tolerance\":{\"val\":0.0,\"scale\":1.0},\"input_scale\":2,\"param_scale\":2,\"scale_rebase_multiplier\":10,\"lookup_range\":[-636,640],\"logrows\":14,\"num_inner_cols\":2,\"variables\":[[\"batch_size\",1]],\"input_visibility\":{\"Hashed\":{\"hash_is_public\":true,\"outlets\":[]}},\"output_visibility\":\"Public\",\"param_visibility\":\"Fixed\",\"div_rebasing\":false,\"rebase_frac_zero_constants\":false,\"check_mode\":\"UNSAFE\"},\"num_rows\":12534,\"total_assignments\":25069,\"total_const_size\":8414,\"model_instance_shapes\":[[1],[1]],\"model_output_scales\":[0,2],\"model_input_scales\":[2],\"module_sizes\":{\"kzg\":[],\"poseidon\":[3936,[1]]},\"required_lookups\":[\"ReLU\",{\"GreaterThan\":{\"a\":0.0}},{\"Cast\":{\"scale\":4.0}}],\"required_range_checks\":[],\"check_mode\":\"UNSAFE\",\"version\":\"9.1.0\",\"num_blinding_factors\":null,\"timestamp\":1715324338361}\n"
     ]
    }
   ],
   "source": [
    "# Verifier/ data consumer side: send desired calculation\n",
    "from zkstats.computation import computation_to_model, State\n",
    "\n",
    "\n",
    "def computation(s: State, data: list[torch.Tensor]) -> torch.Tensor:\n",
    "    x = data[0]\n",
    "    filter = (x > 20)\n",
    "    filtered_x = s.where(filter, x)\n",
    "    return s.mode(filtered_x)\n",
    "\n",
    "error = 0.01\n",
    "_, prover_model = computation_to_model(computation, precal_witness_path, True, selected_columns, error)\n",
    "prover_gen_settings(data_path, selected_columns, sel_data_path, prover_model, prover_model_path, scales, \"resources\", settings_path)\n",
    "\n"
   ]
  },
  {
   "cell_type": "code",
   "execution_count": 8,
   "metadata": {},
   "outputs": [],
   "source": [
    "_, verifier_model = computation_to_model(computation, precal_witness_path, False, selected_columns, error)\n",
    "verifier_define_calculation(dummy_data_path, selected_columns, sel_dummy_data_path,verifier_model, verifier_model_path)"
   ]
  },
  {
   "cell_type": "code",
   "execution_count": 9,
   "metadata": {},
   "outputs": [
    {
     "name": "stdout",
     "output_type": "stream",
     "text": [
      "==== setting up ezkl ====\n",
      "Time setup: 1.7117280960083008 seconds\n",
      "=======================================\n",
      "==== Generating Witness ====\n",
      "witness boolean:  1.0\n",
      "witness result 1 : 44.75\n",
      "==== Generating Proof ====\n",
      "proof:  {'instances': [['f660de1c93e554bceb59df902e1abc5c5e332e2541da829619b3974ff2efbe21', '0100000000000000000000000000000000000000000000000000000000000000', 'b300000000000000000000000000000000000000000000000000000000000000']], 'proof': '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', 'transcript_type': 'EVM'}\n",
      "Time gen prf: 2.2899088859558105 seconds\n"
     ]
    }
   ],
   "source": [
    "# Here verifier & prover can concurrently call setup since all params are public to get pk.\n",
    "# Here write as verifier function to emphasize that verifier must calculate its own vk to be sure\n",
    "setup(verifier_model_path, verifier_compiled_model_path, settings_path,vk_path, pk_path )\n",
    "\n",
    "print(\"=======================================\")\n",
    "# Prover generates proof\n",
    "prover_gen_proof(prover_model_path, sel_data_path, witness_path, prover_compiled_model_path, settings_path, proof_path, pk_path)"
   ]
  },
  {
   "cell_type": "code",
   "execution_count": 10,
   "metadata": {},
   "outputs": [
    {
     "name": "stdout",
     "output_type": "stream",
     "text": [
      "Verifier gets result: [44.75]\n"
     ]
    }
   ],
   "source": [
    "# Verifier verifies\n",
    "res = verifier_verify(proof_path, settings_path, vk_path, selected_columns, data_commitment_path)\n",
    "print(\"Verifier gets result:\", res)"
   ]
  },
  {
   "cell_type": "code",
   "execution_count": null,
   "metadata": {},
   "outputs": [],
   "source": []
  }
 ],
 "metadata": {
  "kernelspec": {
   "display_name": "Python 3",
   "language": "python",
   "name": "python3"
  },
  "language_info": {
   "codemirror_mode": {
    "name": "ipython",
    "version": 3
   },
   "file_extension": ".py",
   "mimetype": "text/x-python",
   "name": "python",
   "nbconvert_exporter": "python",
   "pygments_lexer": "ipython3",
   "version": "3.11.4"
  },
  "orig_nbformat": 4
 },
 "nbformat": 4,
 "nbformat_minor": 2
}
