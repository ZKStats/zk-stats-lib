{
 "cells": [
  {
   "cell_type": "code",
   "execution_count": 1,
   "metadata": {},
   "outputs": [],
   "source": [
    "import ezkl\n",
    "import torch\n",
    "from torch import nn\n",
    "import json\n",
    "import os\n",
    "import time\n",
    "import scipy\n",
    "import numpy as np\n",
    "import matplotlib.pyplot as plt\n",
    "import statistics\n",
    "import math"
   ]
  },
  {
   "cell_type": "code",
   "execution_count": 2,
   "metadata": {},
   "outputs": [],
   "source": [
    "from zkstats.core import create_dummy, verifier_define_calculation,prover_gen_settings, setup, prover_gen_proof, verifier_verify, generate_data_commitment"
   ]
  },
  {
   "attachments": {},
   "cell_type": "markdown",
   "metadata": {},
   "source": []
  },
  {
   "cell_type": "code",
   "execution_count": 3,
   "metadata": {},
   "outputs": [],
   "source": [
    "# init path\n",
    "os.makedirs(os.path.dirname('shared/'), exist_ok=True)\n",
    "os.makedirs(os.path.dirname('prover/'), exist_ok=True)\n",
    "verifier_model_path = os.path.join('shared/verifier.onnx')\n",
    "prover_model_path = os.path.join('prover/prover.onnx')\n",
    "verifier_compiled_model_path = os.path.join('shared/verifier.compiled')\n",
    "prover_compiled_model_path = os.path.join('prover/prover.compiled')\n",
    "pk_path = os.path.join('shared/test.pk')\n",
    "vk_path = os.path.join('shared/test.vk')\n",
    "proof_path = os.path.join('shared/test.pf')\n",
    "settings_path = os.path.join('shared/settings.json')\n",
    "srs_path = os.path.join('shared/kzg.srs')\n",
    "witness_path = os.path.join('prover/witness.json')\n",
    "# this is private to prover since it contains actual data\n",
    "sel_data_path = os.path.join('prover/sel_data.json')\n",
    "# this is just dummy random value\n",
    "sel_dummy_data_path = os.path.join('shared/sel_dummy_data.json')\n",
    "data_commitment_path = os.path.join('shared/data_commitment.json')\n",
    "precal_witness_path = os.path.join('shared/precal_witness_arr.json')"
   ]
  },
  {
   "attachments": {},
   "cell_type": "markdown",
   "metadata": {},
   "source": [
    "=======================  ZK-STATS FLOW ======================="
   ]
  },
  {
   "attachments": {},
   "cell_type": "markdown",
   "metadata": {},
   "source": [
    "## Step 1\n",
    "Here're just a preparatory phase for prover\n",
    "- Create dummy data associated with their dataset for verifier to use for generating onnx model.\n",
    "- Generate data commitment for their dataset."
   ]
  },
  {
   "cell_type": "code",
   "execution_count": 4,
   "metadata": {},
   "outputs": [],
   "source": [
    "data_path = os.path.join('data.json')\n",
    "dummy_data_path = os.path.join('shared/dummy_data.json')\n",
    "\n",
    "create_dummy(data_path, dummy_data_path)"
   ]
  },
  {
   "cell_type": "code",
   "execution_count": 5,
   "metadata": {},
   "outputs": [],
   "source": [
    "scales = [4]\n",
    "selected_columns = ['x', 'y']\n",
    "generate_data_commitment(data_path, scales, data_commitment_path)"
   ]
  },
  {
   "attachments": {},
   "cell_type": "markdown",
   "metadata": {},
   "source": [
    "## Step 2\n",
    "- User (Verifier) defines their computation in a function with signature `computation(state: State, x: list[torch.Tensor])`.\n",
    "- Prover calls `computation_to_model()` to derive the actual model.\n",
    "- Prover calls `prover_gen_settings`: export onnx file and compute the settings required by `ezkl.calibrate_settings`, while also export `precal_witness_arr.json` which is the constant witness needed for verifier to generate the same onnx."
   ]
  },
  {
   "cell_type": "code",
   "execution_count": 6,
   "metadata": {},
   "outputs": [
    {
     "name": "stderr",
     "output_type": "stream",
     "text": [
      "/Users/jernkun/Desktop/zk-stats-lib/zkstats/computation.py:305: TracerWarning: torch.tensor results are registered as constants in the trace. You can safely ignore this warning if you use this function to create tensors out of constant variables that would be the same every time you call this function. In any other case, this might cause the trace to be incorrect.\n",
      "  return x[0][0][0][0]-x[0][0][0][0]+torch.tensor(1.0), result\n",
      "/Users/jernkun/Library/Caches/pypoetry/virtualenvs/zkstats-OJpceffF-py3.11/lib/python3.11/site-packages/torch/onnx/utils.py:1703: UserWarning: The exported ONNX model failed ONNX shape inference. The model will not be executable by the ONNX Runtime. If this is unintended and you believe there is a bug, please report an issue at https://github.com/pytorch/pytorch/issues. Error reported by strict ONNX shape inference: [ShapeInferenceError] (op_type:Where, node name: /Where): Y has inconsistent type tensor(double) (Triggered internally at /Users/runner/work/pytorch/pytorch/pytorch/torch/csrc/jit/serialization/export.cpp:1490.)\n",
      "  _C._check_onnx_proto(proto)\n",
      "\n",
      "\n",
      " <------------- Numerical Fidelity Report (input_scale: 4, param_scale: 4, scale_input_multiplier: 10) ------------->\n",
      "\n",
      "+------------+--------------+-----------+-----------+----------------+------------------+---------------+---------------+--------------------+--------------------+------------------------+\n",
      "| mean_error | median_error | max_error | min_error | mean_abs_error | median_abs_error | max_abs_error | min_abs_error | mean_squared_error | mean_percent_error | mean_abs_percent_error |\n",
      "+------------+--------------+-----------+-----------+----------------+------------------+---------------+---------------+--------------------+--------------------+------------------------+\n",
      "| 0          | 0            | 0         | 0         | 0              | 0                | 0             | 0             | 0                  | 0                  | 0                      |\n",
      "+------------+--------------+-----------+-----------+----------------+------------------+---------------+---------------+--------------------+--------------------+------------------------+\n",
      "\n",
      "\n"
     ]
    },
    {
     "name": "stdout",
     "output_type": "stream",
     "text": [
      "==== Generate & Calibrate Setting ====\n",
      "scale:  [4]\n",
      "setting:  {\"run_args\":{\"tolerance\":{\"val\":0.0,\"scale\":1.0},\"input_scale\":4,\"param_scale\":4,\"scale_rebase_multiplier\":10,\"lookup_range\":[-60,166],\"logrows\":12,\"num_inner_cols\":2,\"variables\":[[\"batch_size\",1]],\"input_visibility\":{\"Hashed\":{\"hash_is_public\":true,\"outlets\":[]}},\"output_visibility\":\"Public\",\"param_visibility\":\"Private\",\"div_rebasing\":false,\"rebase_frac_zero_constants\":false,\"check_mode\":\"UNSAFE\"},\"num_rows\":2624,\"total_assignments\":92,\"total_const_size\":9,\"model_instance_shapes\":[[1],[1]],\"model_output_scales\":[4,4],\"model_input_scales\":[4,4],\"module_sizes\":{\"kzg\":[],\"poseidon\":[2624,[2]]},\"required_lookups\":[{\"GreaterThan\":{\"a\":0.0}}],\"required_range_checks\":[],\"check_mode\":\"UNSAFE\",\"version\":\"9.1.0\",\"num_blinding_factors\":null,\"timestamp\":1715672081408}\n"
     ]
    }
   ],
   "source": [
    "from zkstats.computation import State, computation_to_model\n",
    "\n",
    "\n",
    "def computation(state: State, x: list[torch.Tensor]):\n",
    "    filter = x[1]>3\n",
    "    filtered_x = torch.where(filter, x[0], 2.0)\n",
    "    return [torch.sum(filtered_x)]\n",
    "\n",
    "\n",
    "error = 0.01\n",
    "\n",
    "_, prover_model = computation_to_model(computation,precal_witness_path, True, error )\n",
    "prover_gen_settings(data_path, selected_columns, sel_data_path, prover_model, prover_model_path, scales, \"resources\", settings_path)\n"
   ]
  },
  {
   "attachments": {},
   "cell_type": "markdown",
   "metadata": {},
   "source": [
    "## Step 3\n",
    "- User (Verifier) gets `precal_witness_arr.json`, and generate the same onnx format with same parameter."
   ]
  },
  {
   "cell_type": "code",
   "execution_count": 7,
   "metadata": {},
   "outputs": [],
   "source": [
    "_, verifier_model = computation_to_model(computation, precal_witness_path, False, selected_columns, error)\n",
    "verifier_define_calculation(dummy_data_path, selected_columns, sel_dummy_data_path,verifier_model, verifier_model_path)"
   ]
  },
  {
   "attachments": {},
   "cell_type": "markdown",
   "metadata": {},
   "source": [
    "## Step 4\n",
    "- Verifier sets up vk, pk.\n",
    "- Prover generates proof with `prover_gen_proof`\n"
   ]
  },
  {
   "cell_type": "code",
   "execution_count": 8,
   "metadata": {},
   "outputs": [
    {
     "name": "stdout",
     "output_type": "stream",
     "text": [
      "==== setting up ezkl ====\n",
      "Time setup: 0.6420130729675293 seconds\n",
      "=======================================\n",
      "==== Generating Witness ====\n",
      "witness boolean:  1.0\n",
      "witness result 1 : 29.0\n",
      "==== Generating Proof ====\n",
      "proof:  {'instances': [['eb0bb15179f97ca814dc819c4913827b8756888b2796ecee8371bec8aa1ed21d', '234d9836ef5dab23b8e75e1048d5dbfbbaa3bc888b6d1387e4b8b8b607e97d08', '1000000000000000000000000000000000000000000000000000000000000000', 'd001000000000000000000000000000000000000000000000000000000000000']], 'proof': '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', 'transcript_type': 'EVM'}\n",
      "Time gen prf: 0.49289703369140625 seconds\n"
     ]
    }
   ],
   "source": [
    "# Here verifier & prover can concurrently call setup since all params are public to get pk.\n",
    "# Here write as verifier function to emphasize that verifier must calculate its own vk to be sure\n",
    "setup(verifier_model_path, verifier_compiled_model_path, settings_path, vk_path, pk_path )\n",
    "\n",
    "print(\"=======================================\")\n",
    "# Prover generates proof\n",
    "# print(\"Theory output: \", theory_output)\n",
    "prover_gen_proof(prover_model_path, sel_data_path, witness_path, prover_compiled_model_path, settings_path, proof_path, pk_path)"
   ]
  },
  {
   "cell_type": "code",
   "execution_count": 9,
   "metadata": {},
   "outputs": [
    {
     "data": {
      "text/plain": [
       "[29.0]"
      ]
     },
     "execution_count": 9,
     "metadata": {},
     "output_type": "execute_result"
    }
   ],
   "source": [
    "# Verifier verifies\n",
    "verifier_verify(proof_path, settings_path, vk_path, selected_columns, data_commitment_path)"
   ]
  },
  {
   "cell_type": "code",
   "execution_count": null,
   "metadata": {},
   "outputs": [],
   "source": []
  }
 ],
 "metadata": {
  "kernelspec": {
   "display_name": "Python 3",
   "language": "python",
   "name": "python3"
  },
  "language_info": {
   "codemirror_mode": {
    "name": "ipython",
    "version": 3
   },
   "file_extension": ".py",
   "mimetype": "text/x-python",
   "name": "python",
   "nbconvert_exporter": "python",
   "pygments_lexer": "ipython3",
   "version": "3.11.4"
  },
  "orig_nbformat": 4
 },
 "nbformat": 4,
 "nbformat_minor": 2
}
