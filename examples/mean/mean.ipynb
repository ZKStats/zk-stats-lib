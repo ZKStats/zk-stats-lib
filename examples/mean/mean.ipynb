{
 "cells": [
  {
   "cell_type": "code",
   "execution_count": 1,
   "metadata": {},
   "outputs": [],
   "source": [
    "import ezkl\n",
    "import torch\n",
    "from torch import nn\n",
    "import json\n",
    "import os\n",
    "import time\n",
    "import scipy\n",
    "import numpy as np\n",
    "import matplotlib.pyplot as plt\n",
    "import statistics\n",
    "import math"
   ]
  },
  {
   "cell_type": "code",
   "execution_count": 2,
   "metadata": {},
   "outputs": [],
   "source": [
    "from zkstats.core import create_dummy, verifier_define_calculation,prover_gen_settings, setup, prover_gen_proof, verifier_verify, generate_data_commitment"
   ]
  },
  {
   "attachments": {},
   "cell_type": "markdown",
   "metadata": {},
   "source": []
  },
  {
   "cell_type": "code",
   "execution_count": 3,
   "metadata": {},
   "outputs": [],
   "source": [
    "# init path\n",
    "os.makedirs(os.path.dirname('shared/'), exist_ok=True)\n",
    "os.makedirs(os.path.dirname('prover/'), exist_ok=True)\n",
    "verifier_model_path = os.path.join('shared/verifier.onnx')\n",
    "prover_model_path = os.path.join('prover/prover.onnx')\n",
    "verifier_compiled_model_path = os.path.join('shared/verifier.compiled')\n",
    "prover_compiled_model_path = os.path.join('prover/prover.compiled')\n",
    "pk_path = os.path.join('shared/test.pk')\n",
    "vk_path = os.path.join('shared/test.vk')\n",
    "proof_path = os.path.join('shared/test.pf')\n",
    "settings_path = os.path.join('shared/settings.json')\n",
    "srs_path = os.path.join('shared/kzg.srs')\n",
    "witness_path = os.path.join('prover/witness.json')\n",
    "# this is private to prover since it contains actual data\n",
    "sel_data_path = os.path.join('prover/sel_data.json')\n",
    "# this is just dummy random value\n",
    "sel_dummy_data_path = os.path.join('shared/sel_dummy_data.json')\n",
    "data_commitment_path = os.path.join('shared/data_commitment.json')\n",
    "precal_witness_path = os.path.join('shared/precal_witness_arr.json')"
   ]
  },
  {
   "attachments": {},
   "cell_type": "markdown",
   "metadata": {},
   "source": [
    "=======================  ZK-STATS FLOW ======================="
   ]
  },
  {
   "attachments": {},
   "cell_type": "markdown",
   "metadata": {},
   "source": [
    "## Step 1\n",
    "Here're just a preparatory phase for prover\n",
    "- Create dummy data associated with their dataset for verifier to use for generating onnx model.\n",
    "- Generate data commitment for their dataset."
   ]
  },
  {
   "cell_type": "code",
   "execution_count": 4,
   "metadata": {},
   "outputs": [],
   "source": [
    "data_path = os.path.join('data.json')\n",
    "dummy_data_path = os.path.join('shared/dummy_data.json')\n",
    "\n",
    "create_dummy(data_path, dummy_data_path)"
   ]
  },
  {
   "cell_type": "code",
   "execution_count": 5,
   "metadata": {},
   "outputs": [],
   "source": [
    "scales = [3]\n",
    "selected_columns = ['col_name']\n",
    "generate_data_commitment(data_path, scales, data_commitment_path)"
   ]
  },
  {
   "attachments": {},
   "cell_type": "markdown",
   "metadata": {},
   "source": [
    "## Step 2\n",
    "- User (Verifier) defines their computation in a function with signature `computation(state: State, x: list[torch.Tensor])`.\n",
    "- Prover calls `computation_to_model()` to derive the actual model.\n",
    "- Prover calls `prover_gen_settings`: export onnx file and compute the settings required by `ezkl.calibrate_settings`, while also export `precal_witness_arr.json` which is the constant witness needed for verifier to generate the same onnx."
   ]
  },
  {
   "cell_type": "code",
   "execution_count": 6,
   "metadata": {},
   "outputs": [
    {
     "name": "stderr",
     "output_type": "stream",
     "text": [
      "/Users/jernkun/Desktop/zk-stats-lib/zkstats/computation.py:254: TracerWarning: torch.tensor results are registered as constants in the trace. You can safely ignore this warning if you use this function to create tensors out of constant variables that would be the same every time you call this function. In any other case, this might cause the trace to be incorrect.\n",
      "  is_precise_aggregated = torch.tensor(1.0)\n",
      "/Users/jernkun/Library/Caches/pypoetry/virtualenvs/zkstats-OJpceffF-py3.11/lib/python3.11/site-packages/torch/onnx/symbolic_opset9.py:2174: FutureWarning: 'torch.onnx.symbolic_opset9._cast_Bool' is deprecated in version 2.0 and will be removed in the future. Please Avoid using this function and create a Cast node instead.\n",
      "  return fn(g, to_cast_func(g, input, False), to_cast_func(g, other, False))\n",
      "/Users/jernkun/Library/Caches/pypoetry/virtualenvs/zkstats-OJpceffF-py3.11/lib/python3.11/site-packages/torch/onnx/utils.py:1703: UserWarning: The exported ONNX model failed ONNX shape inference. The model will not be executable by the ONNX Runtime. If this is unintended and you believe there is a bug, please report an issue at https://github.com/pytorch/pytorch/issues. Error reported by strict ONNX shape inference: [ShapeInferenceError] (op_type:Where, node name: /Where_1): Y has inconsistent type tensor(float) (Triggered internally at /Users/runner/work/pytorch/pytorch/pytorch/torch/csrc/jit/serialization/export.cpp:1490.)\n",
      "  _C._check_onnx_proto(proto)\n",
      "\n",
      "\n",
      " <------------- Numerical Fidelity Report (input_scale: 3, param_scale: 3, scale_input_multiplier: 1) ------------->\n",
      "\n",
      "+--------------+--------------+-------------+-----------+----------------+------------------+---------------+---------------+--------------------+--------------------+------------------------+\n",
      "| mean_error   | median_error | max_error   | min_error | mean_abs_error | median_abs_error | max_abs_error | min_abs_error | mean_squared_error | mean_percent_error | mean_abs_percent_error |\n",
      "+--------------+--------------+-------------+-----------+----------------+------------------+---------------+---------------+--------------------+--------------------+------------------------+\n",
      "| 0.0044994354 | 0.008998871  | 0.008998871 | 0         | 0.0044994354   | 0.008998871      | 0.008998871   | 0             | 0.00004048984      | 0.00010678871      | 0.00010678871          |\n",
      "+--------------+--------------+-------------+-----------+----------------+------------------+---------------+---------------+--------------------+--------------------+------------------------+\n",
      "\n",
      "\n"
     ]
    },
    {
     "name": "stdout",
     "output_type": "stream",
     "text": [
      "==== Generate & Calibrate Setting ====\n",
      "scale:  [3]\n",
      "setting:  {\"run_args\":{\"tolerance\":{\"val\":0.0,\"scale\":1.0},\"input_scale\":3,\"param_scale\":3,\"scale_rebase_multiplier\":1,\"lookup_range\":[-288,300],\"logrows\":12,\"num_inner_cols\":2,\"variables\":[[\"batch_size\",1]],\"input_visibility\":{\"Hashed\":{\"hash_is_public\":true,\"outlets\":[]}},\"output_visibility\":\"Public\",\"param_visibility\":\"Fixed\",\"div_rebasing\":false,\"rebase_frac_zero_constants\":false,\"check_mode\":\"UNSAFE\"},\"num_rows\":3936,\"total_assignments\":1129,\"total_const_size\":466,\"model_instance_shapes\":[[1],[1]],\"model_output_scales\":[0,3],\"model_input_scales\":[3],\"module_sizes\":{\"kzg\":[],\"poseidon\":[3936,[1]]},\"required_lookups\":[\"Abs\",{\"GreaterThan\":{\"a\":0.0}}],\"required_range_checks\":[[-4,4]],\"check_mode\":\"UNSAFE\",\"version\":\"9.1.0\",\"num_blinding_factors\":null,\"timestamp\":1715154595000}\n"
     ]
    }
   ],
   "source": [
    "# Verifier/ data consumer side: send desired calculation\n",
    "from zkstats.computation import computation_to_model, State\n",
    "\n",
    "\n",
    "def computation(s: State, data: list[torch.Tensor]) -> torch.Tensor:\n",
    "    x = data[0]\n",
    "    # print('x comm: ', x)\n",
    "    return s.mean(x)\n",
    "\n",
    "error = 0.01\n",
    "\n",
    "\n",
    "# Prover/ data owner side\n",
    "_, prover_model = computation_to_model(computation, precal_witness_path, True, selected_columns, error)\n",
    "prover_gen_settings(data_path, selected_columns, sel_data_path, prover_model, prover_model_path, scales, \"resources\", settings_path)\n",
    "\n"
   ]
  },
  {
   "attachments": {},
   "cell_type": "markdown",
   "metadata": {},
   "source": [
    "## Step 3\n",
    "- User (Verifier) gets `precal_witness_arr.json`, and generate the same onnx format with same parameter."
   ]
  },
  {
   "cell_type": "code",
   "execution_count": 7,
   "metadata": {},
   "outputs": [],
   "source": [
    "_, verifier_model = computation_to_model(computation, precal_witness_path, False, selected_columns, error)\n",
    "verifier_define_calculation(dummy_data_path, selected_columns, sel_dummy_data_path,verifier_model, verifier_model_path)"
   ]
  },
  {
   "attachments": {},
   "cell_type": "markdown",
   "metadata": {},
   "source": [
    "## Step 4\n",
    "- Verifier sets up vk, pk.\n",
    "- Prover generates proof with `prover_gen_proof`\n"
   ]
  },
  {
   "cell_type": "code",
   "execution_count": 8,
   "metadata": {},
   "outputs": [
    {
     "name": "stdout",
     "output_type": "stream",
     "text": [
      "==== setting up ezkl ====\n",
      "Time setup: 0.5352780818939209 seconds\n",
      "=======================================\n",
      "==== Generating Witness ====\n",
      "witness boolean:  1.0\n",
      "witness result 1 : 42.125\n",
      "==== Generating Proof ====\n",
      "proof:  {'instances': [['11e5950d0c875140b38d8b4bc0997697b7b183cfdbc19e767d87caf0020da12a', '0100000000000000000000000000000000000000000000000000000000000000', '5101000000000000000000000000000000000000000000000000000000000000']], 'proof': '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', 'transcript_type': 'EVM'}\n",
      "Time gen prf: 0.7028419971466064 seconds\n"
     ]
    }
   ],
   "source": [
    "# Here verifier & prover can concurrently call setup since all params are public to get pk.\n",
    "# Here write as verifier function to emphasize that verifier must calculate its own vk to be sure\n",
    "setup(verifier_model_path, verifier_compiled_model_path, settings_path,vk_path, pk_path )\n",
    "\n",
    "print(\"=======================================\")\n",
    "# Prover generates proof\n",
    "prover_gen_proof(prover_model_path, sel_data_path, witness_path, prover_compiled_model_path, settings_path, proof_path, pk_path)"
   ]
  },
  {
   "cell_type": "code",
   "execution_count": 9,
   "metadata": {},
   "outputs": [
    {
     "name": "stdout",
     "output_type": "stream",
     "text": [
      "Verifier gets result: [42.125]\n"
     ]
    }
   ],
   "source": [
    "# Verifier verifies\n",
    "res = verifier_verify(proof_path, settings_path, vk_path, selected_columns, data_commitment_path)\n",
    "print(\"Verifier gets result:\", res)"
   ]
  },
  {
   "cell_type": "code",
   "execution_count": null,
   "metadata": {},
   "outputs": [],
   "source": []
  }
 ],
 "metadata": {
  "kernelspec": {
   "display_name": "Python 3",
   "language": "python",
   "name": "python3"
  },
  "language_info": {
   "codemirror_mode": {
    "name": "ipython",
    "version": 3
   },
   "file_extension": ".py",
   "mimetype": "text/x-python",
   "name": "python",
   "nbconvert_exporter": "python",
   "pygments_lexer": "ipython3",
   "version": "3.11.4"
  },
  "orig_nbformat": 4
 },
 "nbformat": 4,
 "nbformat_minor": 2
}
