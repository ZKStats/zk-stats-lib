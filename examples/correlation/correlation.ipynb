{
 "cells": [
  {
   "attachments": {},
   "cell_type": "markdown",
   "metadata": {},
   "source": [
    "Note that it might make more sense to just request cov(x,y), std(x), std(y) and compute correlation on requester's end instead of requesting the whole HUGE circuit of correlation. "
   ]
  },
  {
   "cell_type": "code",
   "execution_count": 1,
   "metadata": {},
   "outputs": [],
   "source": [
    "import ezkl\n",
    "import torch\n",
    "from torch import nn\n",
    "import json\n",
    "import os\n",
    "import time\n",
    "import scipy\n",
    "import numpy as np\n",
    "import matplotlib.pyplot as plt\n",
    "import statistics\n",
    "import math"
   ]
  },
  {
   "cell_type": "code",
   "execution_count": 2,
   "metadata": {},
   "outputs": [],
   "source": [
    "from zkstats.core import create_dummy, verifier_define_calculation, prover_gen_settings, setup, prover_gen_proof, verifier_verify, generate_data_commitment"
   ]
  },
  {
   "cell_type": "code",
   "execution_count": 3,
   "metadata": {},
   "outputs": [],
   "source": [
    "# init path\n",
    "os.makedirs(os.path.dirname('shared/'), exist_ok=True)\n",
    "os.makedirs(os.path.dirname('prover/'), exist_ok=True)\n",
    "verifier_model_path = os.path.join('shared/verifier.onnx')\n",
    "prover_model_path = os.path.join('prover/prover.onnx')\n",
    "verifier_compiled_model_path = os.path.join('shared/verifier.compiled')\n",
    "prover_compiled_model_path = os.path.join('prover/prover.compiled')\n",
    "pk_path = os.path.join('shared/test.pk')\n",
    "vk_path = os.path.join('shared/test.vk')\n",
    "proof_path = os.path.join('shared/test.pf')\n",
    "settings_path = os.path.join('shared/settings.json')\n",
    "srs_path = os.path.join('shared/kzg.srs')\n",
    "witness_path = os.path.join('prover/witness.json')\n",
    "# this is private to prover since it contains actual data\n",
    "sel_data_path = os.path.join('prover/sel_data.json')\n",
    "# this is just dummy random value\n",
    "sel_dummy_data_path = os.path.join('shared/sel_dummy_data.json')\n",
    "data_commitment_path = os.path.join('shared/data_commitment.json')\n",
    "precal_witness_path = os.path.join('shared/precal_witness_arr.json')"
   ]
  },
  {
   "attachments": {},
   "cell_type": "markdown",
   "metadata": {},
   "source": [
    "=======================  ZK-STATS FLOW ======================="
   ]
  },
  {
   "attachments": {},
   "cell_type": "markdown",
   "metadata": {},
   "source": [
    "This example is not necessary. In fact, a person can just request cov(x,y), std(x), and std(y). Then just compute correlation on his own as well, but here we show that the code is composable enough to do all at once. "
   ]
  },
  {
   "cell_type": "code",
   "execution_count": 4,
   "metadata": {},
   "outputs": [],
   "source": [
    "data_path = os.path.join('data.json')\n",
    "dummy_data_path = os.path.join('shared/dummy_data.json')\n",
    "\n",
    "create_dummy(data_path, dummy_data_path)"
   ]
  },
  {
   "cell_type": "code",
   "execution_count": 5,
   "metadata": {},
   "outputs": [],
   "source": [
    "scales = [5]\n",
    "selected_columns = ['x', 'y']\n",
    "generate_data_commitment(data_path, scales, data_commitment_path)"
   ]
  },
  {
   "cell_type": "code",
   "execution_count": 6,
   "metadata": {},
   "outputs": [
    {
     "name": "stderr",
     "output_type": "stream",
     "text": [
      "/Users/jernkun/Desktop/zk-stats-lib/zkstats/computation.py:254: TracerWarning: torch.tensor results are registered as constants in the trace. You can safely ignore this warning if you use this function to create tensors out of constant variables that would be the same every time you call this function. In any other case, this might cause the trace to be incorrect.\n",
      "  is_precise_aggregated = torch.tensor(1.0)\n",
      "/Users/jernkun/Library/Caches/pypoetry/virtualenvs/zkstats-OJpceffF-py3.11/lib/python3.11/site-packages/torch/onnx/symbolic_opset9.py:2174: FutureWarning: 'torch.onnx.symbolic_opset9._cast_Bool' is deprecated in version 2.0 and will be removed in the future. Please Avoid using this function and create a Cast node instead.\n",
      "  return fn(g, to_cast_func(g, input, False), to_cast_func(g, other, False))\n",
      "/Users/jernkun/Library/Caches/pypoetry/virtualenvs/zkstats-OJpceffF-py3.11/lib/python3.11/site-packages/torch/onnx/utils.py:1703: UserWarning: The exported ONNX model failed ONNX shape inference. The model will not be executable by the ONNX Runtime. If this is unintended and you believe there is a bug, please report an issue at https://github.com/pytorch/pytorch/issues. Error reported by strict ONNX shape inference: [ShapeInferenceError] (op_type:Where, node name: /Where): Y has inconsistent type tensor(float) (Triggered internally at /Users/runner/work/pytorch/pytorch/pytorch/torch/csrc/jit/serialization/export.cpp:1490.)\n",
      "  _C._check_onnx_proto(proto)\n",
      "Using 2 columns for non-linearity table.\n",
      "Using 2 columns for non-linearity table.\n",
      "Using 2 columns for non-linearity table.\n",
      "Using 2 columns for non-linearity table.\n",
      "Using 2 columns for non-linearity table.\n",
      "Using 2 columns for non-linearity table.\n",
      "\n",
      "\n",
      " <------------- Numerical Fidelity Report (input_scale: 5, param_scale: 5, scale_input_multiplier: 1) ------------->\n",
      "\n",
      "+------------+--------------+------------+-----------+----------------+------------------+---------------+---------------+--------------------+--------------------+------------------------+\n",
      "| mean_error | median_error | max_error  | min_error | mean_abs_error | median_abs_error | max_abs_error | min_abs_error | mean_squared_error | mean_percent_error | mean_abs_percent_error |\n",
      "+------------+--------------+------------+-----------+----------------+------------------+---------------+---------------+--------------------+--------------------+------------------------+\n",
      "| 0.00537169 | 0.01074338   | 0.01074338 | 0         | 0.00537169     | 0.01074338       | 0.01074338    | 0             | 0.000057710102     | 0.0073635895       | 0.0073635895           |\n",
      "+------------+--------------+------------+-----------+----------------+------------------+---------------+---------------+--------------------+--------------------+------------------------+\n",
      "\n",
      "\n"
     ]
    },
    {
     "name": "stdout",
     "output_type": "stream",
     "text": [
      "==== Generate & Calibrate Setting ====\n",
      "scale:  [5]\n",
      "setting:  {\"run_args\":{\"tolerance\":{\"val\":0.0,\"scale\":1.0},\"input_scale\":5,\"param_scale\":5,\"scale_rebase_multiplier\":1,\"lookup_range\":[-32360,32536],\"logrows\":16,\"num_inner_cols\":2,\"variables\":[[\"batch_size\",1]],\"input_visibility\":{\"Hashed\":{\"hash_is_public\":true,\"outlets\":[]}},\"output_visibility\":\"Public\",\"param_visibility\":\"Fixed\",\"div_rebasing\":false,\"rebase_frac_zero_constants\":false,\"check_mode\":\"UNSAFE\"},\"num_rows\":7872,\"total_assignments\":3691,\"total_const_size\":1319,\"model_instance_shapes\":[[1],[1]],\"model_output_scales\":[0,5],\"model_input_scales\":[5,5],\"module_sizes\":{\"kzg\":[],\"poseidon\":[7872,[2]]},\"required_lookups\":[{\"GreaterThan\":{\"a\":0.0}},\"Abs\"],\"required_range_checks\":[[-16,16]],\"check_mode\":\"UNSAFE\",\"version\":\"9.1.0\",\"num_blinding_factors\":null,\"timestamp\":1715154399878}\n"
     ]
    }
   ],
   "source": [
    "# Verifier/ data consumer side: send desired calculation\n",
    "from zkstats.computation import computation_to_model, State\n",
    "\n",
    "\n",
    "def computation(s: State, data: list[torch.Tensor]) -> torch.Tensor:\n",
    "    x, y = data[0], data[1]\n",
    "    return s.correlation(x, y)\n",
    "\n",
    "error = 0.01\n",
    "# Prover/ data owner side\n",
    "_, prover_model = computation_to_model(computation, precal_witness_path, True, selected_columns, error)\n",
    "prover_gen_settings(data_path, selected_columns, sel_data_path, prover_model, prover_model_path, scales, \"resources\", settings_path)\n"
   ]
  },
  {
   "cell_type": "code",
   "execution_count": 7,
   "metadata": {},
   "outputs": [],
   "source": [
    "_, verifier_model = computation_to_model(computation, precal_witness_path, False, selected_columns, error)\n",
    "verifier_define_calculation(dummy_data_path, selected_columns, sel_dummy_data_path,verifier_model, verifier_model_path)"
   ]
  },
  {
   "cell_type": "code",
   "execution_count": 8,
   "metadata": {},
   "outputs": [
    {
     "name": "stdout",
     "output_type": "stream",
     "text": [
      "==== setting up ezkl ====\n",
      "Time setup: 7.0670530796051025 seconds\n",
      "=======================================\n",
      "==== Generating Witness ====\n",
      "witness boolean:  1.0\n",
      "witness result 1 : 0.71875\n",
      "==== Generating Proof ====\n",
      "proof:  {'instances': [['7469705c7b45875730aac31b009e8f9e9f9e57031bba148110877f78e4518c22', 'c1f946e3fd2b2229bfcc2dc9ff7f4dfc1fddad53635becb58d130bcae5504712', '0100000000000000000000000000000000000000000000000000000000000000', '1700000000000000000000000000000000000000000000000000000000000000']], 'proof': '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', 'transcript_type': 'EVM'}\n",
      "Time gen prf: 8.27672004699707 seconds\n"
     ]
    }
   ],
   "source": [
    "# Here verifier & prover can concurrently call setup since all params are public to get pk.\n",
    "# Here write as verifier function to emphasize that verifier must calculate its own vk to be sure\n",
    "setup(verifier_model_path, verifier_compiled_model_path, settings_path,vk_path, pk_path )\n",
    "\n",
    "print(\"=======================================\")\n",
    "# Prover generates proof\n",
    "prover_gen_proof(prover_model_path, sel_data_path, witness_path, prover_compiled_model_path, settings_path, proof_path, pk_path)"
   ]
  },
  {
   "cell_type": "code",
   "execution_count": 9,
   "metadata": {},
   "outputs": [
    {
     "name": "stdout",
     "output_type": "stream",
     "text": [
      "Verifier gets result: [0.71875]\n"
     ]
    }
   ],
   "source": [
    "# Verifier verifies\n",
    "res = verifier_verify(proof_path, settings_path, vk_path, selected_columns, data_commitment_path)\n",
    "print(\"Verifier gets result:\", res)"
   ]
  },
  {
   "cell_type": "code",
   "execution_count": null,
   "metadata": {},
   "outputs": [],
   "source": []
  }
 ],
 "metadata": {
  "kernelspec": {
   "display_name": "Python 3",
   "language": "python",
   "name": "python3"
  },
  "language_info": {
   "codemirror_mode": {
    "name": "ipython",
    "version": 3
   },
   "file_extension": ".py",
   "mimetype": "text/x-python",
   "name": "python",
   "nbconvert_exporter": "python",
   "pygments_lexer": "ipython3",
   "version": "3.11.4"
  },
  "orig_nbformat": 4
 },
 "nbformat": 4,
 "nbformat_minor": 2
}
