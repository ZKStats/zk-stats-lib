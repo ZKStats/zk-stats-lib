{
 "cells": [
  {
   "cell_type": "code",
   "execution_count": 1,
   "metadata": {},
   "outputs": [],
   "source": [
    "import ezkl\n",
    "import torch\n",
    "from torch import nn\n",
    "import json\n",
    "import os\n",
    "import time\n",
    "import scipy\n",
    "import numpy as np\n",
    "import matplotlib.pyplot as plt\n",
    "import statistics\n",
    "import math"
   ]
  },
  {
   "cell_type": "code",
   "execution_count": 2,
   "metadata": {},
   "outputs": [],
   "source": [
    "from zkstats.core import create_dummy, verifier_define_calculation, prover_gen_settings, setup, prover_gen_proof, verifier_verify, generate_data_commitment"
   ]
  },
  {
   "cell_type": "code",
   "execution_count": 3,
   "metadata": {},
   "outputs": [],
   "source": [
    "# init path\n",
    "os.makedirs(os.path.dirname('shared/'), exist_ok=True)\n",
    "os.makedirs(os.path.dirname('prover/'), exist_ok=True)\n",
    "verifier_model_path = os.path.join('shared/verifier.onnx')\n",
    "prover_model_path = os.path.join('prover/prover.onnx')\n",
    "verifier_compiled_model_path = os.path.join('shared/verifier.compiled')\n",
    "prover_compiled_model_path = os.path.join('prover/prover.compiled')\n",
    "pk_path = os.path.join('shared/test.pk')\n",
    "vk_path = os.path.join('shared/test.vk')\n",
    "proof_path = os.path.join('shared/test.pf')\n",
    "settings_path = os.path.join('shared/settings.json')\n",
    "srs_path = os.path.join('shared/kzg.srs')\n",
    "witness_path = os.path.join('prover/witness.json')\n",
    "# this is private to prover since it contains actual data\n",
    "sel_data_path = os.path.join('prover/sel_data.json')\n",
    "# this is just dummy random value\n",
    "sel_dummy_data_path = os.path.join('shared/sel_dummy_data.json')\n",
    "data_commitment_path = os.path.join('shared/data_commitment.json')\n",
    "precal_witness_path = os.path.join('shared/precal_witness_arr.json')"
   ]
  },
  {
   "attachments": {},
   "cell_type": "markdown",
   "metadata": {},
   "source": [
    "=======================  ZK-STATS FLOW ======================="
   ]
  },
  {
   "cell_type": "code",
   "execution_count": 4,
   "metadata": {},
   "outputs": [],
   "source": [
    "data_path = os.path.join('data.json')\n",
    "dummy_data_path = os.path.join('shared/dummy_data.json')\n",
    "create_dummy(data_path, dummy_data_path)"
   ]
  },
  {
   "cell_type": "code",
   "execution_count": 5,
   "metadata": {},
   "outputs": [],
   "source": [
    "scales = [2]\n",
    "selected_columns = ['col_name']\n",
    "generate_data_commitment(data_path, scales, data_commitment_path)"
   ]
  },
  {
   "cell_type": "code",
   "execution_count": 6,
   "metadata": {},
   "outputs": [
    {
     "name": "stderr",
     "output_type": "stream",
     "text": [
      "/Users/jernkun/Desktop/zk-stats-lib/zkstats/computation.py:254: TracerWarning: torch.tensor results are registered as constants in the trace. You can safely ignore this warning if you use this function to create tensors out of constant variables that would be the same every time you call this function. In any other case, this might cause the trace to be incorrect.\n",
      "  is_precise_aggregated = torch.tensor(1.0)\n",
      "/Users/jernkun/Library/Caches/pypoetry/virtualenvs/zkstats-OJpceffF-py3.11/lib/python3.11/site-packages/torch/onnx/symbolic_opset9.py:2174: FutureWarning: 'torch.onnx.symbolic_opset9._cast_Bool' is deprecated in version 2.0 and will be removed in the future. Please Avoid using this function and create a Cast node instead.\n",
      "  return fn(g, to_cast_func(g, input, False), to_cast_func(g, other, False))\n",
      "/Users/jernkun/Library/Caches/pypoetry/virtualenvs/zkstats-OJpceffF-py3.11/lib/python3.11/site-packages/torch/onnx/utils.py:1703: UserWarning: The exported ONNX model failed ONNX shape inference. The model will not be executable by the ONNX Runtime. If this is unintended and you believe there is a bug, please report an issue at https://github.com/pytorch/pytorch/issues. Error reported by strict ONNX shape inference: [ShapeInferenceError] (op_type:Where, node name: /Where): Y has inconsistent type tensor(float) (Triggered internally at /Users/runner/work/pytorch/pytorch/pytorch/torch/csrc/jit/serialization/export.cpp:1490.)\n",
      "  _C._check_onnx_proto(proto)\n",
      "\n",
      "\n",
      " <------------- Numerical Fidelity Report (input_scale: 2, param_scale: 2, scale_input_multiplier: 1) ------------->\n",
      "\n",
      "+-------------+--------------+------------+-----------+----------------+------------------+---------------+---------------+--------------------+--------------------+------------------------+\n",
      "| mean_error  | median_error | max_error  | min_error | mean_abs_error | median_abs_error | max_abs_error | min_abs_error | mean_squared_error | mean_percent_error | mean_abs_percent_error |\n",
      "+-------------+--------------+------------+-----------+----------------+------------------+---------------+---------------+--------------------+--------------------+------------------------+\n",
      "| 0.059547424 | 0.11909485   | 0.11909485 | 0         | 0.059547424    | 0.11909485       | 0.11909485    | 0             | 0.0070917914       | 0.0002810576       | 0.0002810576           |\n",
      "+-------------+--------------+------------+-----------+----------------+------------------+---------------+---------------+--------------------+--------------------+------------------------+\n",
      "\n",
      "\n"
     ]
    },
    {
     "name": "stdout",
     "output_type": "stream",
     "text": [
      "==== Generate & Calibrate Setting ====\n",
      "scale:  [2]\n",
      "setting:  {\"run_args\":{\"tolerance\":{\"val\":0.0,\"scale\":1.0},\"input_scale\":2,\"param_scale\":2,\"scale_rebase_multiplier\":1,\"lookup_range\":[-4512,4800],\"logrows\":14,\"num_inner_cols\":2,\"variables\":[[\"batch_size\",1]],\"input_visibility\":{\"Hashed\":{\"hash_is_public\":true,\"outlets\":[]}},\"output_visibility\":\"Public\",\"param_visibility\":\"Fixed\",\"div_rebasing\":false,\"rebase_frac_zero_constants\":false,\"check_mode\":\"UNSAFE\"},\"num_rows\":14432,\"total_assignments\":9957,\"total_const_size\":3628,\"model_instance_shapes\":[[1],[1]],\"model_output_scales\":[0,2],\"model_input_scales\":[2],\"module_sizes\":{\"kzg\":[],\"poseidon\":[14432,[1]]},\"required_lookups\":[\"Abs\",{\"GreaterThan\":{\"a\":0.0}}],\"required_range_checks\":[[-2,2]],\"check_mode\":\"UNSAFE\",\"version\":\"9.1.0\",\"num_blinding_factors\":null,\"timestamp\":1715154745619}\n"
     ]
    }
   ],
   "source": [
    "# Verifier/ data consumer side: send desired calculation\n",
    "from zkstats.computation import computation_to_model, State\n",
    "\n",
    "\n",
    "def computation(s: State, data: list[torch.Tensor]) -> torch.Tensor:\n",
    "    x = data[0]\n",
    "    return s.pvariance(x)\n",
    "\n",
    "error = 0.01\n",
    "\n",
    "# Prover/ data owner side\n",
    "_, prover_model = computation_to_model(computation, precal_witness_path, True, selected_columns, error)\n",
    "prover_gen_settings(data_path, selected_columns, sel_data_path, prover_model, prover_model_path, scales, \"resources\", settings_path)\n",
    "\n"
   ]
  },
  {
   "cell_type": "code",
   "execution_count": 7,
   "metadata": {},
   "outputs": [],
   "source": [
    "# Prover/ data owner side\n",
    "_, verifier_model = computation_to_model(computation, precal_witness_path, False, selected_columns, error)\n",
    "verifier_define_calculation(dummy_data_path, selected_columns, sel_dummy_data_path,verifier_model, verifier_model_path)"
   ]
  },
  {
   "cell_type": "code",
   "execution_count": 8,
   "metadata": {},
   "outputs": [
    {
     "name": "stdout",
     "output_type": "stream",
     "text": [
      "==== setting up ezkl ====\n",
      "Time setup: 1.7300560474395752 seconds\n",
      "=======================================\n",
      "==== Generating Witness ====\n",
      "witness boolean:  1.0\n",
      "witness result 1 : 211.75\n",
      "==== Generating Proof ====\n",
      "proof:  {'instances': [['31220e5513f6e9b7d0f59d8f019cd197642a431b2136f0311abf6046c9006227', '0100000000000000000000000000000000000000000000000000000000000000', '4f03000000000000000000000000000000000000000000000000000000000000']], 'proof': '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', 'transcript_type': 'EVM'}\n",
      "Time gen prf: 2.449465036392212 seconds\n"
     ]
    }
   ],
   "source": [
    "# Here verifier & prover can concurrently call setup since all params are public to get pk.\n",
    "# Here write as verifier function to emphasize that verifier must calculate its own vk to be sure\n",
    "setup(verifier_model_path, verifier_compiled_model_path, settings_path,vk_path, pk_path )\n",
    "\n",
    "print(\"=======================================\")\n",
    "# Prover generates proof\n",
    "prover_gen_proof(prover_model_path, sel_data_path, witness_path, prover_compiled_model_path, settings_path, proof_path, pk_path)"
   ]
  },
  {
   "cell_type": "code",
   "execution_count": 9,
   "metadata": {},
   "outputs": [
    {
     "name": "stdout",
     "output_type": "stream",
     "text": [
      "Verifier gets result: [211.75]\n"
     ]
    }
   ],
   "source": [
    "# Verifier verifies\n",
    "res = verifier_verify(proof_path, settings_path, vk_path, selected_columns, data_commitment_path)\n",
    "print(\"Verifier gets result:\", res)"
   ]
  },
  {
   "cell_type": "code",
   "execution_count": null,
   "metadata": {},
   "outputs": [],
   "source": []
  }
 ],
 "metadata": {
  "kernelspec": {
   "display_name": "Python 3",
   "language": "python",
   "name": "python3"
  },
  "language_info": {
   "codemirror_mode": {
    "name": "ipython",
    "version": 3
   },
   "file_extension": ".py",
   "mimetype": "text/x-python",
   "name": "python",
   "nbconvert_exporter": "python",
   "pygments_lexer": "ipython3",
   "version": "3.11.4"
  },
  "orig_nbformat": 4
 },
 "nbformat": 4,
 "nbformat_minor": 2
}
