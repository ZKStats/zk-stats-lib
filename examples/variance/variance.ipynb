{
 "cells": [
  {
   "cell_type": "code",
   "execution_count": 1,
   "metadata": {},
   "outputs": [],
   "source": [
    "import ezkl\n",
    "import torch\n",
    "from torch import nn\n",
    "import json\n",
    "import os\n",
    "import time\n",
    "import scipy\n",
    "import numpy as np\n",
    "import matplotlib.pyplot as plt\n",
    "import statistics\n",
    "import math"
   ]
  },
  {
   "cell_type": "code",
   "execution_count": 2,
   "metadata": {},
   "outputs": [],
   "source": [
    "from zkstats.core import create_dummy, verifier_define_calculation, prover_gen_settings, setup, prover_gen_proof, verifier_verify, generate_data_commitment"
   ]
  },
  {
   "cell_type": "code",
   "execution_count": 3,
   "metadata": {},
   "outputs": [],
   "source": [
    "# init path\n",
    "os.makedirs(os.path.dirname('shared/'), exist_ok=True)\n",
    "os.makedirs(os.path.dirname('prover/'), exist_ok=True)\n",
    "verifier_model_path = os.path.join('shared/verifier.onnx')\n",
    "prover_model_path = os.path.join('prover/prover.onnx')\n",
    "verifier_compiled_model_path = os.path.join('shared/verifier.compiled')\n",
    "prover_compiled_model_path = os.path.join('prover/prover.compiled')\n",
    "pk_path = os.path.join('shared/test.pk')\n",
    "vk_path = os.path.join('shared/test.vk')\n",
    "proof_path = os.path.join('shared/test.pf')\n",
    "settings_path = os.path.join('shared/settings.json')\n",
    "srs_path = os.path.join('shared/kzg.srs')\n",
    "witness_path = os.path.join('prover/witness.json')\n",
    "# this is private to prover since it contains actual data\n",
    "sel_data_path = os.path.join('prover/sel_data.json')\n",
    "# this is just dummy random value\n",
    "sel_dummy_data_path = os.path.join('shared/sel_dummy_data.json')\n",
    "data_commitment_path = os.path.join('shared/data_commitment.json')\n",
    "precal_witness_path = os.path.join('shared/precal_witness_arr.json')"
   ]
  },
  {
   "attachments": {},
   "cell_type": "markdown",
   "metadata": {},
   "source": [
    "=======================  ZK-STATS FLOW ======================="
   ]
  },
  {
   "cell_type": "code",
   "execution_count": 4,
   "metadata": {},
   "outputs": [],
   "source": [
    "data_path = os.path.join('data.json')\n",
    "dummy_data_path = os.path.join('shared/dummy_data.json')\n",
    "create_dummy(data_path, dummy_data_path)"
   ]
  },
  {
   "cell_type": "code",
   "execution_count": 5,
   "metadata": {},
   "outputs": [],
   "source": [
    "scales = [2]\n",
    "selected_columns = ['col_name']\n",
    "generate_data_commitment(data_path, scales, data_commitment_path)"
   ]
  },
  {
   "cell_type": "code",
   "execution_count": 6,
   "metadata": {},
   "outputs": [
    {
     "name": "stderr",
     "output_type": "stream",
     "text": [
      "/Users/jernkun/Desktop/zk-stats-lib/zkstats/computation.py:254: TracerWarning: torch.tensor results are registered as constants in the trace. You can safely ignore this warning if you use this function to create tensors out of constant variables that would be the same every time you call this function. In any other case, this might cause the trace to be incorrect.\n",
      "  is_precise_aggregated = torch.tensor(1.0)\n",
      "/Users/jernkun/Library/Caches/pypoetry/virtualenvs/zkstats-OJpceffF-py3.11/lib/python3.11/site-packages/torch/onnx/symbolic_opset9.py:2174: FutureWarning: 'torch.onnx.symbolic_opset9._cast_Bool' is deprecated in version 2.0 and will be removed in the future. Please Avoid using this function and create a Cast node instead.\n",
      "  return fn(g, to_cast_func(g, input, False), to_cast_func(g, other, False))\n",
      "/Users/jernkun/Library/Caches/pypoetry/virtualenvs/zkstats-OJpceffF-py3.11/lib/python3.11/site-packages/torch/onnx/utils.py:1703: UserWarning: The exported ONNX model failed ONNX shape inference. The model will not be executable by the ONNX Runtime. If this is unintended and you believe there is a bug, please report an issue at https://github.com/pytorch/pytorch/issues. Error reported by strict ONNX shape inference: [ShapeInferenceError] (op_type:Where, node name: /Where): Y has inconsistent type tensor(float) (Triggered internally at /Users/runner/work/pytorch/pytorch/pytorch/torch/csrc/jit/serialization/export.cpp:1490.)\n",
      "  _C._check_onnx_proto(proto)\n",
      "\n",
      "\n",
      " <------------- Numerical Fidelity Report (input_scale: 2, param_scale: 2, scale_input_multiplier: 1) ------------->\n",
      "\n",
      "+-------------+--------------+-------------+-----------+----------------+------------------+---------------+---------------+--------------------+--------------------+------------------------+\n",
      "| mean_error  | median_error | max_error   | min_error | mean_abs_error | median_abs_error | max_abs_error | min_abs_error | mean_squared_error | mean_percent_error | mean_abs_percent_error |\n",
      "+-------------+--------------+-------------+-----------+----------------+------------------+---------------+---------------+--------------------+--------------------+------------------------+\n",
      "| 0.038848877 | 0.077697754  | 0.077697754 | 0         | 0.038848877    | 0.077697754      | 0.077697754   | 0             | 0.0030184705       | 0.00018275142      | 0.00018275142          |\n",
      "+-------------+--------------+-------------+-----------+----------------+------------------+---------------+---------------+--------------------+--------------------+------------------------+\n",
      "\n",
      "\n"
     ]
    },
    {
     "name": "stdout",
     "output_type": "stream",
     "text": [
      "==== Generate & Calibrate Setting ====\n",
      "scale:  [2]\n",
      "setting:  {\"run_args\":{\"tolerance\":{\"val\":0.0,\"scale\":1.0},\"input_scale\":2,\"param_scale\":2,\"scale_rebase_multiplier\":1,\"lookup_range\":[-5194,5382],\"logrows\":14,\"num_inner_cols\":2,\"variables\":[[\"batch_size\",1]],\"input_visibility\":{\"Hashed\":{\"hash_is_public\":true,\"outlets\":[]}},\"output_visibility\":\"Public\",\"param_visibility\":\"Fixed\",\"div_rebasing\":false,\"rebase_frac_zero_constants\":false,\"check_mode\":\"UNSAFE\"},\"num_rows\":14432,\"total_assignments\":9957,\"total_const_size\":3629,\"model_instance_shapes\":[[1],[1]],\"model_output_scales\":[0,2],\"model_input_scales\":[2],\"module_sizes\":{\"kzg\":[],\"poseidon\":[14432,[1]]},\"required_lookups\":[\"Abs\",{\"GreaterThan\":{\"a\":0.0}}],\"required_range_checks\":[[-2,2]],\"check_mode\":\"UNSAFE\",\"version\":\"9.1.0\",\"num_blinding_factors\":null,\"timestamp\":1715154801749}\n"
     ]
    }
   ],
   "source": [
    "# Verifier/ data consumer side: send desired calculation\n",
    "from zkstats.computation import computation_to_model, State\n",
    "\n",
    "\n",
    "def computation(s: State, data: list[torch.Tensor]) -> torch.Tensor:\n",
    "    x = data[0]\n",
    "    return s.variance(x)\n",
    "\n",
    "error = 0.01\n",
    "# Prover/ data owner side\n",
    "_, prover_model = computation_to_model(computation, precal_witness_path, True, selected_columns, error)\n",
    "prover_gen_settings(data_path, selected_columns, sel_data_path, prover_model, prover_model_path, scales, \"resources\", settings_path)\n",
    "\n"
   ]
  },
  {
   "cell_type": "code",
   "execution_count": 7,
   "metadata": {},
   "outputs": [],
   "source": [
    "_, verifier_model = computation_to_model(computation, precal_witness_path, False, selected_columns, error)\n",
    "verifier_define_calculation(dummy_data_path, selected_columns, sel_dummy_data_path,verifier_model, verifier_model_path)"
   ]
  },
  {
   "cell_type": "code",
   "execution_count": 8,
   "metadata": {},
   "outputs": [
    {
     "name": "stdout",
     "output_type": "stream",
     "text": [
      "==== setting up ezkl ====\n",
      "Time setup: 1.801286220550537 seconds\n",
      "=======================================\n",
      "==== Generating Witness ====\n",
      "witness boolean:  1.0\n",
      "witness result 1 : 212.5\n",
      "==== Generating Proof ====\n",
      "proof:  {'instances': [['31220e5513f6e9b7d0f59d8f019cd197642a431b2136f0311abf6046c9006227', '0100000000000000000000000000000000000000000000000000000000000000', '5203000000000000000000000000000000000000000000000000000000000000']], 'proof': '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', 'transcript_type': 'EVM'}\n",
      "Time gen prf: 2.4284591674804688 seconds\n"
     ]
    }
   ],
   "source": [
    "# Here verifier & prover can concurrently call setup since all params are public to get pk.\n",
    "# Here write as verifier function to emphasize that verifier must calculate its own vk to be sure\n",
    "setup(verifier_model_path, verifier_compiled_model_path, settings_path,vk_path, pk_path )\n",
    "\n",
    "print(\"=======================================\")\n",
    "# Prover generates proof\n",
    "prover_gen_proof(prover_model_path, sel_data_path, witness_path, prover_compiled_model_path, settings_path, proof_path, pk_path)"
   ]
  },
  {
   "cell_type": "code",
   "execution_count": 9,
   "metadata": {},
   "outputs": [
    {
     "name": "stdout",
     "output_type": "stream",
     "text": [
      "Verifier gets result: [212.5]\n"
     ]
    }
   ],
   "source": [
    "# Verifier verifies\n",
    "res = verifier_verify(proof_path, settings_path, vk_path, selected_columns, data_commitment_path)\n",
    "print(\"Verifier gets result:\", res)"
   ]
  },
  {
   "cell_type": "code",
   "execution_count": null,
   "metadata": {},
   "outputs": [],
   "source": []
  }
 ],
 "metadata": {
  "kernelspec": {
   "display_name": "Python 3",
   "language": "python",
   "name": "python3"
  },
  "language_info": {
   "codemirror_mode": {
    "name": "ipython",
    "version": 3
   },
   "file_extension": ".py",
   "mimetype": "text/x-python",
   "name": "python",
   "nbconvert_exporter": "python",
   "pygments_lexer": "ipython3",
   "version": "3.11.4"
  },
  "orig_nbformat": 4
 },
 "nbformat": 4,
 "nbformat_minor": 2
}
