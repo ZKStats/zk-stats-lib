{
 "cells": [
  {
   "cell_type": "code",
   "execution_count": 1,
   "metadata": {},
   "outputs": [],
   "source": [
    "import ezkl\n",
    "import torch\n",
    "from torch import nn\n",
    "import json\n",
    "import os\n",
    "import time\n",
    "import scipy\n",
    "import numpy as np\n",
    "import matplotlib.pyplot as plt\n",
    "import statistics\n",
    "import math"
   ]
  },
  {
   "cell_type": "code",
   "execution_count": 2,
   "metadata": {},
   "outputs": [],
   "source": [
    "from zkstats.core import create_dummy, verifier_define_calculation, prover_gen_settings, setup, prover_gen_proof, verifier_verify, generate_data_commitment"
   ]
  },
  {
   "attachments": {},
   "cell_type": "markdown",
   "metadata": {},
   "source": []
  },
  {
   "cell_type": "code",
   "execution_count": 3,
   "metadata": {},
   "outputs": [],
   "source": [
    "# init path\n",
    "os.makedirs(os.path.dirname('shared/'), exist_ok=True)\n",
    "os.makedirs(os.path.dirname('prover/'), exist_ok=True)\n",
    "verifier_model_path = os.path.join('shared/verifier.onnx')\n",
    "prover_model_path = os.path.join('prover/prover.onnx')\n",
    "verifier_compiled_model_path = os.path.join('shared/verifier.compiled')\n",
    "prover_compiled_model_path = os.path.join('prover/prover.compiled')\n",
    "pk_path = os.path.join('shared/test.pk')\n",
    "vk_path = os.path.join('shared/test.vk')\n",
    "proof_path = os.path.join('shared/test.pf')\n",
    "settings_path = os.path.join('shared/settings.json')\n",
    "srs_path = os.path.join('shared/kzg.srs')\n",
    "witness_path = os.path.join('prover/witness.json')\n",
    "# this is private to prover since it contains actual data\n",
    "sel_data_path = os.path.join('prover/sel_data.json')\n",
    "# this is just dummy random value\n",
    "sel_dummy_data_path = os.path.join('shared/sel_dummy_data.json')\n",
    "data_commitment_path = os.path.join('shared/data_commitment.json')\n",
    "precal_witness_path = os.path.join('shared/precal_witness_arr.json')"
   ]
  },
  {
   "attachments": {},
   "cell_type": "markdown",
   "metadata": {},
   "source": [
    "=======================  ZK-STATS FLOW ======================="
   ]
  },
  {
   "cell_type": "code",
   "execution_count": 4,
   "metadata": {},
   "outputs": [],
   "source": [
    "data_path = os.path.join('data.json')\n",
    "dummy_data_path = os.path.join('shared/dummy_data.json')\n",
    "\n",
    "create_dummy(data_path, dummy_data_path)"
   ]
  },
  {
   "cell_type": "code",
   "execution_count": 5,
   "metadata": {},
   "outputs": [],
   "source": [
    "scales = [8]\n",
    "selected_columns = ['col_name']\n",
    "generate_data_commitment(data_path, scales, data_commitment_path)"
   ]
  },
  {
   "cell_type": "code",
   "execution_count": 6,
   "metadata": {},
   "outputs": [
    {
     "name": "stderr",
     "output_type": "stream",
     "text": [
      "/Users/jernkun/Desktop/zk-stats-lib/zkstats/computation.py:254: TracerWarning: torch.tensor results are registered as constants in the trace. You can safely ignore this warning if you use this function to create tensors out of constant variables that would be the same every time you call this function. In any other case, this might cause the trace to be incorrect.\n",
      "  is_precise_aggregated = torch.tensor(1.0)\n",
      "/Users/jernkun/Desktop/zk-stats-lib/zkstats/ops.py:150: TracerWarning: torch.tensor results are registered as constants in the trace. You can safely ignore this warning if you use this function to create tensors out of constant variables that would be the same every time you call this function. In any other case, this might cause the trace to be incorrect.\n",
      "  return torch.abs((torch.log(self.result)*size)-torch.sum(torch.log(x)))<=size*torch.log(torch.tensor(1+self.error))\n",
      "/Users/jernkun/Library/Caches/pypoetry/virtualenvs/zkstats-OJpceffF-py3.11/lib/python3.11/site-packages/torch/onnx/symbolic_opset9.py:2174: FutureWarning: 'torch.onnx.symbolic_opset9._cast_Bool' is deprecated in version 2.0 and will be removed in the future. Please Avoid using this function and create a Cast node instead.\n",
      "  return fn(g, to_cast_func(g, input, False), to_cast_func(g, other, False))\n",
      "/Users/jernkun/Library/Caches/pypoetry/virtualenvs/zkstats-OJpceffF-py3.11/lib/python3.11/site-packages/torch/onnx/utils.py:1703: UserWarning: The exported ONNX model failed ONNX shape inference. The model will not be executable by the ONNX Runtime. If this is unintended and you believe there is a bug, please report an issue at https://github.com/pytorch/pytorch/issues. Error reported by strict ONNX shape inference: [ShapeInferenceError] (op_type:Where, node name: /Where_1): Y has inconsistent type tensor(float) (Triggered internally at /Users/runner/work/pytorch/pytorch/pytorch/torch/csrc/jit/serialization/export.cpp:1490.)\n",
      "  _C._check_onnx_proto(proto)\n",
      "Using 3 columns for non-linearity table.\n",
      "Using 3 columns for non-linearity table.\n",
      "Using 3 columns for non-linearity table.\n",
      "Using 3 columns for non-linearity table.\n",
      "Using 5 columns for non-linearity table.\n",
      "Using 5 columns for non-linearity table.\n",
      "Using 5 columns for non-linearity table.\n",
      "Using 5 columns for non-linearity table.\n",
      "Using 5 columns for non-linearity table.\n",
      "Using 5 columns for non-linearity table.\n",
      "Using 5 columns for non-linearity table.\n",
      "Using 5 columns for non-linearity table.\n",
      "\n",
      "\n",
      " <------------- Numerical Fidelity Report (input_scale: 8, param_scale: 8, scale_input_multiplier: 1) ------------->\n",
      "\n",
      "+----------------+---------------+-----------+---------------+----------------+------------------+---------------+---------------+--------------------+--------------------+------------------------+\n",
      "| mean_error     | median_error  | max_error | min_error     | mean_abs_error | median_abs_error | max_abs_error | min_abs_error | mean_squared_error | mean_percent_error | mean_abs_percent_error |\n",
      "+----------------+---------------+-----------+---------------+----------------+------------------+---------------+---------------+--------------------+--------------------+------------------------+\n",
      "| -0.00054359436 | -0.0010871887 | 0         | -0.0010871887 | 0.00054359436  | 0.0010871887     | 0.0010871887  | 0             | 0.00000059098966   | -0.000011396554    | 0.000011396554         |\n",
      "+----------------+---------------+-----------+---------------+----------------+------------------+---------------+---------------+--------------------+--------------------+------------------------+\n",
      "\n",
      "\n"
     ]
    },
    {
     "name": "stdout",
     "output_type": "stream",
     "text": [
      "==== Generate & Calibrate Setting ====\n",
      "scale:  [8]\n",
      "setting:  {\"run_args\":{\"tolerance\":{\"val\":0.0,\"scale\":1.0},\"input_scale\":8,\"param_scale\":8,\"scale_rebase_multiplier\":1,\"lookup_range\":[-1546,45056],\"logrows\":16,\"num_inner_cols\":2,\"variables\":[[\"batch_size\",1]],\"input_visibility\":{\"Hashed\":{\"hash_is_public\":true,\"outlets\":[]}},\"output_visibility\":\"Public\",\"param_visibility\":\"Fixed\",\"div_rebasing\":false,\"rebase_frac_zero_constants\":false,\"check_mode\":\"UNSAFE\"},\"num_rows\":14432,\"total_assignments\":7530,\"total_const_size\":3016,\"model_instance_shapes\":[[1],[1]],\"model_output_scales\":[0,8],\"model_input_scales\":[8],\"module_sizes\":{\"kzg\":[],\"poseidon\":[14432,[1]]},\"required_lookups\":[\"Abs\",{\"GreaterThan\":{\"a\":0.0}},{\"Ln\":{\"scale\":256.0}}],\"required_range_checks\":[[-128,128]],\"check_mode\":\"UNSAFE\",\"version\":\"9.1.0\",\"num_blinding_factors\":null,\"timestamp\":1715154509215}\n"
     ]
    }
   ],
   "source": [
    "# Verifier/ data consumer side:\n",
    "from zkstats.computation import computation_to_model, State\n",
    "\n",
    "\n",
    "def computation(s: State, data: list[torch.Tensor]) -> torch.Tensor:\n",
    "    x = data[0]\n",
    "    return s.geometric_mean(x)\n",
    "\n",
    "error = 0.01\n",
    "_, prover_model = computation_to_model(computation, precal_witness_path, True, selected_columns, error)\n",
    "prover_gen_settings(data_path, selected_columns, sel_data_path, prover_model, prover_model_path, scales, \"resources\", settings_path)"
   ]
  },
  {
   "cell_type": "code",
   "execution_count": 7,
   "metadata": {},
   "outputs": [],
   "source": [
    "_, verifier_model = computation_to_model(computation, precal_witness_path, False, selected_columns, error)\n",
    "verifier_define_calculation(dummy_data_path, selected_columns, sel_dummy_data_path,verifier_model, verifier_model_path)"
   ]
  },
  {
   "cell_type": "code",
   "execution_count": 8,
   "metadata": {},
   "outputs": [
    {
     "name": "stdout",
     "output_type": "stream",
     "text": [
      "==== setting up ezkl ====\n",
      "Time setup: 7.829792022705078 seconds\n",
      "=======================================\n",
      "==== Generating Witness ====\n",
      "witness boolean:  1.0\n",
      "witness result 1 : 47.69921875\n",
      "==== Generating Proof ====\n",
      "proof:  {'instances': [['ad297b8184503f0131009e1b94795f879c4560a1c673ff814dc0228dafd72103', '0100000000000000000000000000000000000000000000000000000000000000', 'b32f000000000000000000000000000000000000000000000000000000000000']], 'proof': '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', 'transcript_type': 'EVM'}\n",
      "Time gen prf: 9.387281894683838 seconds\n"
     ]
    }
   ],
   "source": [
    "# Here verifier & prover can concurrently call setup since all params are public to get pk.\n",
    "# Here write as verifier function to emphasize that verifier must calculate its own vk to be sure\n",
    "setup(verifier_model_path, verifier_compiled_model_path, settings_path,vk_path, pk_path )\n",
    "\n",
    "print(\"=======================================\")\n",
    "# Prover generates proof\n",
    "prover_gen_proof(prover_model_path, sel_data_path, witness_path, prover_compiled_model_path, settings_path, proof_path, pk_path)"
   ]
  },
  {
   "cell_type": "code",
   "execution_count": 10,
   "metadata": {},
   "outputs": [
    {
     "name": "stdout",
     "output_type": "stream",
     "text": [
      "Verifier gets result: [47.69921875]\n"
     ]
    }
   ],
   "source": [
    "# Verifier verifies\n",
    "res = verifier_verify(proof_path, settings_path, vk_path, selected_columns, data_commitment_path)\n",
    "print(\"Verifier gets result:\", res)"
   ]
  },
  {
   "cell_type": "code",
   "execution_count": null,
   "metadata": {},
   "outputs": [],
   "source": []
  }
 ],
 "metadata": {
  "kernelspec": {
   "display_name": "Python 3",
   "language": "python",
   "name": "python3"
  },
  "language_info": {
   "codemirror_mode": {
    "name": "ipython",
    "version": 3
   },
   "file_extension": ".py",
   "mimetype": "text/x-python",
   "name": "python",
   "nbconvert_exporter": "python",
   "pygments_lexer": "ipython3",
   "version": "3.11.4"
  },
  "orig_nbformat": 4
 },
 "nbformat": 4,
 "nbformat_minor": 2
}
