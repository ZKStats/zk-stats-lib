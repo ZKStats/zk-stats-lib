{
 "cells": [
  {
   "cell_type": "code",
   "execution_count": 1,
   "metadata": {},
   "outputs": [],
   "source": [
    "import ezkl\n",
    "import torch\n",
    "from torch import nn\n",
    "import json\n",
    "import os\n",
    "import time\n",
    "import scipy\n",
    "import numpy as np\n",
    "import matplotlib.pyplot as plt\n",
    "import statistics\n",
    "import math"
   ]
  },
  {
   "cell_type": "code",
   "execution_count": 2,
   "metadata": {},
   "outputs": [],
   "source": [
    "from zkstats.core import create_dummy, verifier_define_calculation, prover_gen_settings, setup, prover_gen_proof, verifier_verify, generate_data_commitment"
   ]
  },
  {
   "attachments": {},
   "cell_type": "markdown",
   "metadata": {},
   "source": []
  },
  {
   "cell_type": "code",
   "execution_count": 3,
   "metadata": {},
   "outputs": [],
   "source": [
    "# init path\n",
    "os.makedirs(os.path.dirname('shared/'), exist_ok=True)\n",
    "os.makedirs(os.path.dirname('prover/'), exist_ok=True)\n",
    "verifier_model_path = os.path.join('shared/verifier.onnx')\n",
    "prover_model_path = os.path.join('prover/prover.onnx')\n",
    "verifier_compiled_model_path = os.path.join('shared/verifier.compiled')\n",
    "prover_compiled_model_path = os.path.join('prover/prover.compiled')\n",
    "pk_path = os.path.join('shared/test.pk')\n",
    "vk_path = os.path.join('shared/test.vk')\n",
    "proof_path = os.path.join('shared/test.pf')\n",
    "settings_path = os.path.join('shared/settings.json')\n",
    "srs_path = os.path.join('shared/kzg.srs')\n",
    "witness_path = os.path.join('prover/witness.json')\n",
    "# this is private to prover since it contains actual data\n",
    "sel_data_path = os.path.join('prover/sel_data.json')\n",
    "# this is just dummy random value\n",
    "sel_dummy_data_path = os.path.join('shared/sel_dummy_data.json')\n",
    "data_commitment_path = os.path.join('shared/data_commitment.json')\n",
    "precal_witness_path = os.path.join('shared/precal_witness_arr.json')"
   ]
  },
  {
   "attachments": {},
   "cell_type": "markdown",
   "metadata": {},
   "source": [
    "=======================  ZK-STATS FLOW ======================="
   ]
  },
  {
   "cell_type": "code",
   "execution_count": 4,
   "metadata": {},
   "outputs": [],
   "source": [
    "data_path = os.path.join('data.json')\n",
    "dummy_data_path = os.path.join('shared/dummy_data.json')\n",
    "create_dummy(data_path, dummy_data_path)"
   ]
  },
  {
   "cell_type": "code",
   "execution_count": 5,
   "metadata": {},
   "outputs": [],
   "source": [
    "# use large scale here to get the output really close to the value in dataset, which is important to Median.\n",
    "# Be careful, since we may need to calculate average of 2 values in case of no middle value in dataset,\n",
    "# this means larger scale can still blow up circuit size, unlike Mode func that scale doesnt affect circuit size much.\n",
    "scales = [6]\n",
    "selected_columns = ['col_name']\n",
    "generate_data_commitment(data_path, scales, data_commitment_path)"
   ]
  },
  {
   "cell_type": "code",
   "execution_count": 6,
   "metadata": {},
   "outputs": [
    {
     "name": "stderr",
     "output_type": "stream",
     "text": [
      "/Users/jernkun/Desktop/zk-stats-lib/zkstats/computation.py:254: TracerWarning: torch.tensor results are registered as constants in the trace. You can safely ignore this warning if you use this function to create tensors out of constant variables that would be the same every time you call this function. In any other case, this might cause the trace to be incorrect.\n",
      "  is_precise_aggregated = torch.tensor(1.0)\n",
      "/Users/jernkun/Library/Caches/pypoetry/virtualenvs/zkstats-OJpceffF-py3.11/lib/python3.11/site-packages/torch/onnx/symbolic_opset9.py:2174: FutureWarning: 'torch.onnx.symbolic_opset9._cast_Bool' is deprecated in version 2.0 and will be removed in the future. Please Avoid using this function and create a Cast node instead.\n",
      "  return fn(g, to_cast_func(g, input, False), to_cast_func(g, other, False))\n"
     ]
    },
    {
     "name": "stdout",
     "output_type": "stream",
     "text": [
      "==== Generate & Calibrate Setting ====\n"
     ]
    },
    {
     "name": "stderr",
     "output_type": "stream",
     "text": [
      "\n",
      "\n",
      " <------------- Numerical Fidelity Report (input_scale: 6, param_scale: 6, scale_input_multiplier: 1) ------------->\n",
      "\n",
      "+--------------+--------------+-------------+-----------+----------------+------------------+---------------+---------------+--------------------+--------------------+------------------------+\n",
      "| mean_error   | median_error | max_error   | min_error | mean_abs_error | median_abs_error | max_abs_error | min_abs_error | mean_squared_error | mean_percent_error | mean_abs_percent_error |\n",
      "+--------------+--------------+-------------+-----------+----------------+------------------+---------------+---------------+--------------------+--------------------+------------------------+\n",
      "| 0.0015621185 | 0.003124237  | 0.003124237 | 0         | 0.0015621185   | 0.003124237      | 0.003124237   | 0             | 0.0000048804286    | 0.000031526106     | 0.000031526106         |\n",
      "+--------------+--------------+-------------+-----------+----------------+------------------+---------------+---------------+--------------------+--------------------+------------------------+\n",
      "\n",
      "\n"
     ]
    },
    {
     "name": "stdout",
     "output_type": "stream",
     "text": [
      "scale:  [6]\n",
      "setting:  {\"run_args\":{\"tolerance\":{\"val\":0.0,\"scale\":1.0},\"input_scale\":6,\"param_scale\":6,\"scale_rebase_multiplier\":1,\"lookup_range\":[-12400,19200],\"logrows\":15,\"num_inner_cols\":2,\"variables\":[[\"batch_size\",1]],\"input_visibility\":{\"Hashed\":{\"hash_is_public\":true,\"outlets\":[]}},\"output_visibility\":\"Public\",\"param_visibility\":\"Fixed\",\"div_rebasing\":false,\"rebase_frac_zero_constants\":false,\"check_mode\":\"UNSAFE\"},\"num_rows\":14432,\"total_assignments\":20182,\"total_const_size\":9031,\"model_instance_shapes\":[[1],[1]],\"model_output_scales\":[0,6],\"model_input_scales\":[6],\"module_sizes\":{\"kzg\":[],\"poseidon\":[14432,[1]]},\"required_lookups\":[{\"GreaterThan\":{\"a\":0.0}},\"ReLU\",{\"Floor\":{\"scale\":64.0}}],\"required_range_checks\":[[-32,32],[-1,1]],\"check_mode\":\"UNSAFE\",\"version\":\"9.1.0\",\"num_blinding_factors\":null,\"timestamp\":1715310676130}\n"
     ]
    }
   ],
   "source": [
    "# Verifier/ data consumer side: send desired calculation\n",
    "from zkstats.computation import computation_to_model, State\n",
    "\n",
    "\n",
    "def computation(s: State, data: list[torch.Tensor]) -> torch.Tensor:\n",
    "    x = data[0]\n",
    "    return s.median(x)\n",
    "\n",
    "# error here in Median only matters in determining the median value in case it doesnt exist in dataset. (Avg of 2 middle values)\n",
    "error = 0.01\n",
    "# Prover/ data owner side\n",
    "_, prover_model = computation_to_model(computation, precal_witness_path, True, selected_columns, error)\n",
    "\n",
    "prover_gen_settings(data_path, selected_columns, sel_data_path, prover_model,prover_model_path, scales, \"resources\", settings_path)"
   ]
  },
  {
   "cell_type": "code",
   "execution_count": 7,
   "metadata": {},
   "outputs": [],
   "source": [
    "_, verifier_model = computation_to_model(computation, precal_witness_path, False, selected_columns, error)\n",
    "\n",
    "verifier_define_calculation(dummy_data_path, selected_columns, sel_dummy_data_path, verifier_model, verifier_model_path)"
   ]
  },
  {
   "cell_type": "code",
   "execution_count": 8,
   "metadata": {},
   "outputs": [
    {
     "name": "stdout",
     "output_type": "stream",
     "text": [
      "==== setting up ezkl ====\n",
      "Time setup: 3.9898521900177 seconds\n",
      "=======================================\n",
      "==== Generating Witness ====\n",
      "witness boolean:  1.0\n",
      "witness result 1 : 49.546875\n",
      "==== Generating Proof ====\n",
      "proof:  {'instances': [['2363efbe326292a2c2e7954acfd2ce00d744f0ebeda83508d86a90913457461a', '0100000000000000000000000000000000000000000000000000000000000000', '630c000000000000000000000000000000000000000000000000000000000000']], 'proof': '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', 'transcript_type': 'EVM'}\n",
      "Time gen prf: 6.058133363723755 seconds\n"
     ]
    }
   ],
   "source": [
    "# Here verifier & prover can concurrently call setup since all params are public to get pk.\n",
    "# Here write as verifier function to emphasize that verifier must calculate its own vk to be sure\n",
    "setup(verifier_model_path, verifier_compiled_model_path, settings_path,vk_path, pk_path )\n",
    "\n",
    "print(\"=======================================\")\n",
    "# Prover generates proof\n",
    "prover_gen_proof(prover_model_path, sel_data_path, witness_path, prover_compiled_model_path, settings_path, proof_path, pk_path)"
   ]
  },
  {
   "cell_type": "code",
   "execution_count": 9,
   "metadata": {},
   "outputs": [
    {
     "name": "stdout",
     "output_type": "stream",
     "text": [
      "Verifier gets result: [49.546875]\n"
     ]
    }
   ],
   "source": [
    "# Verifier verifies\n",
    "res = verifier_verify(proof_path, settings_path, vk_path, selected_columns, data_commitment_path)\n",
    "print(\"Verifier gets result:\", res)"
   ]
  },
  {
   "cell_type": "code",
   "execution_count": null,
   "metadata": {},
   "outputs": [],
   "source": []
  }
 ],
 "metadata": {
  "kernelspec": {
   "display_name": "Python 3",
   "language": "python",
   "name": "python3"
  },
  "language_info": {
   "codemirror_mode": {
    "name": "ipython",
    "version": 3
   },
   "file_extension": ".py",
   "mimetype": "text/x-python",
   "name": "python",
   "nbconvert_exporter": "python",
   "pygments_lexer": "ipython3",
   "version": "3.11.4"
  },
  "orig_nbformat": 4
 },
 "nbformat": 4,
 "nbformat_minor": 2
}
