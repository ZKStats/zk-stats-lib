{
 "cells": [
  {
   "cell_type": "code",
   "execution_count": 1,
   "metadata": {},
   "outputs": [],
   "source": [
    "import ezkl\n",
    "import torch\n",
    "from torch import nn\n",
    "import json\n",
    "import os\n",
    "import time\n",
    "import scipy\n",
    "import numpy as np\n",
    "import matplotlib.pyplot as plt\n",
    "import statistics\n",
    "import math"
   ]
  },
  {
   "cell_type": "code",
   "execution_count": 2,
   "metadata": {},
   "outputs": [],
   "source": [
    "from zkstats.core import create_dummy, verifier_define_calculation, prover_gen_settings, setup, prover_gen_proof, verifier_verify, generate_data_commitment"
   ]
  },
  {
   "cell_type": "code",
   "execution_count": 3,
   "metadata": {},
   "outputs": [],
   "source": [
    "# init path\n",
    "os.makedirs(os.path.dirname('shared/'), exist_ok=True)\n",
    "os.makedirs(os.path.dirname('prover/'), exist_ok=True)\n",
    "verifier_model_path = os.path.join('shared/verifier.onnx')\n",
    "prover_model_path = os.path.join('prover/prover.onnx')\n",
    "verifier_compiled_model_path = os.path.join('shared/verifier.compiled')\n",
    "prover_compiled_model_path = os.path.join('prover/prover.compiled')\n",
    "pk_path = os.path.join('shared/test.pk')\n",
    "vk_path = os.path.join('shared/test.vk')\n",
    "proof_path = os.path.join('shared/test.pf')\n",
    "settings_path = os.path.join('shared/settings.json')\n",
    "srs_path = os.path.join('shared/kzg.srs')\n",
    "witness_path = os.path.join('prover/witness.json')\n",
    "# this is private to prover since it contains actual data\n",
    "sel_data_path = os.path.join('prover/sel_data.json')\n",
    "# this is just dummy random value\n",
    "sel_dummy_data_path = os.path.join('shared/sel_dummy_data.json')\n",
    "data_commitment_path = os.path.join('shared/data_commitment.json')\n",
    "precal_witness_path = os.path.join('shared/precal_witness_arr.json')"
   ]
  },
  {
   "attachments": {},
   "cell_type": "markdown",
   "metadata": {},
   "source": [
    "=======================  ZK-STATS FLOW ======================="
   ]
  },
  {
   "cell_type": "code",
   "execution_count": 4,
   "metadata": {},
   "outputs": [],
   "source": [
    "data_path = os.path.join('data.json')\n",
    "dummy_data_path = os.path.join('shared/dummy_data.json')\n",
    "create_dummy(data_path, dummy_data_path)"
   ]
  },
  {
   "cell_type": "code",
   "execution_count": 5,
   "metadata": {},
   "outputs": [],
   "source": [
    "scales = [3]\n",
    "selected_columns = ['col_name']\n",
    "generate_data_commitment(data_path, scales, data_commitment_path)"
   ]
  },
  {
   "cell_type": "code",
   "execution_count": 6,
   "metadata": {},
   "outputs": [
    {
     "name": "stderr",
     "output_type": "stream",
     "text": [
      "/Users/jernkun/Desktop/zk-stats-lib/zkstats/computation.py:254: TracerWarning: torch.tensor results are registered as constants in the trace. You can safely ignore this warning if you use this function to create tensors out of constant variables that would be the same every time you call this function. In any other case, this might cause the trace to be incorrect.\n",
      "  is_precise_aggregated = torch.tensor(1.0)\n",
      "/Users/jernkun/Library/Caches/pypoetry/virtualenvs/zkstats-OJpceffF-py3.11/lib/python3.11/site-packages/torch/onnx/symbolic_opset9.py:2174: FutureWarning: 'torch.onnx.symbolic_opset9._cast_Bool' is deprecated in version 2.0 and will be removed in the future. Please Avoid using this function and create a Cast node instead.\n",
      "  return fn(g, to_cast_func(g, input, False), to_cast_func(g, other, False))\n",
      "/Users/jernkun/Library/Caches/pypoetry/virtualenvs/zkstats-OJpceffF-py3.11/lib/python3.11/site-packages/torch/onnx/utils.py:1703: UserWarning: The exported ONNX model failed ONNX shape inference. The model will not be executable by the ONNX Runtime. If this is unintended and you believe there is a bug, please report an issue at https://github.com/pytorch/pytorch/issues. Error reported by strict ONNX shape inference: [ShapeInferenceError] (op_type:Where, node name: /Where): Y has inconsistent type tensor(float) (Triggered internally at /Users/runner/work/pytorch/pytorch/pytorch/torch/csrc/jit/serialization/export.cpp:1490.)\n",
      "  _C._check_onnx_proto(proto)\n",
      "\n",
      "\n",
      " <------------- Numerical Fidelity Report (input_scale: 3, param_scale: 3, scale_input_multiplier: 1) ------------->\n",
      "\n",
      "+--------------+--------------+-----------+--------------+----------------+------------------+---------------+---------------+--------------------+--------------------+------------------------+\n",
      "| mean_error   | median_error | max_error | min_error    | mean_abs_error | median_abs_error | max_abs_error | min_abs_error | mean_squared_error | mean_percent_error | mean_abs_percent_error |\n",
      "+--------------+--------------+-----------+--------------+----------------+------------------+---------------+---------------+--------------------+--------------------+------------------------+\n",
      "| -0.022477627 | -0.044955254 | 0         | -0.044955254 | 0.022477627    | 0.044955254      | 0.044955254   | 0             | 0.0010104874       | -0.0015416706      | 0.0015416706           |\n",
      "+--------------+--------------+-----------+--------------+----------------+------------------+---------------+---------------+--------------------+--------------------+------------------------+\n",
      "\n",
      "\n"
     ]
    },
    {
     "name": "stdout",
     "output_type": "stream",
     "text": [
      "==== Generate & Calibrate Setting ====\n",
      "scale:  [3]\n",
      "setting:  {\"run_args\":{\"tolerance\":{\"val\":0.0,\"scale\":1.0},\"input_scale\":3,\"param_scale\":3,\"scale_rebase_multiplier\":1,\"lookup_range\":[-20110,20332],\"logrows\":16,\"num_inner_cols\":2,\"variables\":[[\"batch_size\",1]],\"input_visibility\":{\"Hashed\":{\"hash_is_public\":true,\"outlets\":[]}},\"output_visibility\":\"Public\",\"param_visibility\":\"Fixed\",\"div_rebasing\":false,\"rebase_frac_zero_constants\":false,\"check_mode\":\"UNSAFE\"},\"num_rows\":14432,\"total_assignments\":9957,\"total_const_size\":3629,\"model_instance_shapes\":[[1],[1]],\"model_output_scales\":[0,3],\"model_input_scales\":[3],\"module_sizes\":{\"kzg\":[],\"poseidon\":[14432,[1]]},\"required_lookups\":[\"Abs\",{\"GreaterThan\":{\"a\":0.0}}],\"required_range_checks\":[[-4,4]],\"check_mode\":\"UNSAFE\",\"version\":\"9.1.0\",\"num_blinding_factors\":null,\"timestamp\":1715154777609}\n"
     ]
    }
   ],
   "source": [
    "# Verifier/ data consumer side: send desired calculation\n",
    "from zkstats.computation import computation_to_model, State\n",
    "\n",
    "\n",
    "def computation(s: State, data: list[torch.Tensor]) -> torch.Tensor:\n",
    "    x = data[0]\n",
    "    return s.stdev(x)\n",
    "\n",
    "error = 0.01\n",
    "# Prover/ data owner side\n",
    "_, prover_model = computation_to_model(computation, precal_witness_path, True, selected_columns, error)\n",
    "prover_gen_settings(data_path, selected_columns, sel_data_path, prover_model, prover_model_path, scales, \"resources\", settings_path)\n",
    "\n"
   ]
  },
  {
   "cell_type": "code",
   "execution_count": 7,
   "metadata": {},
   "outputs": [],
   "source": [
    "_, verifier_model = computation_to_model(computation, precal_witness_path, False, selected_columns, error)\n",
    "verifier_define_calculation(dummy_data_path, selected_columns, sel_dummy_data_path,verifier_model, verifier_model_path)"
   ]
  },
  {
   "cell_type": "code",
   "execution_count": 8,
   "metadata": {},
   "outputs": [
    {
     "name": "stdout",
     "output_type": "stream",
     "text": [
      "==== setting up ezkl ====\n",
      "Time setup: 6.369570970535278 seconds\n",
      "=======================================\n",
      "==== Generating Witness ====\n",
      "witness boolean:  1.0\n",
      "witness result 1 : 14.625\n",
      "==== Generating Proof ====\n",
      "proof:  {'instances': [['d57f47950cdabf2cb79306e0f33e75726a2c2960806e902b0fc88d3ff949a108', '0100000000000000000000000000000000000000000000000000000000000000', '7500000000000000000000000000000000000000000000000000000000000000']], 'proof': '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', 'transcript_type': 'EVM'}\n",
      "Time gen prf: 7.849934101104736 seconds\n"
     ]
    }
   ],
   "source": [
    "# Here verifier & prover can concurrently call setup since all params are public to get pk.\n",
    "# Here write as verifier function to emphasize that verifier must calculate its own vk to be sure\n",
    "setup(verifier_model_path, verifier_compiled_model_path, settings_path,vk_path, pk_path )\n",
    "\n",
    "print(\"=======================================\")\n",
    "# Prover generates proof\n",
    "prover_gen_proof(prover_model_path, sel_data_path, witness_path, prover_compiled_model_path, settings_path, proof_path, pk_path)"
   ]
  },
  {
   "cell_type": "code",
   "execution_count": 9,
   "metadata": {},
   "outputs": [
    {
     "name": "stdout",
     "output_type": "stream",
     "text": [
      "Verifier gets result: [14.625]\n"
     ]
    }
   ],
   "source": [
    "# Verifier verifies\n",
    "res = verifier_verify(proof_path, settings_path, vk_path, selected_columns, data_commitment_path)\n",
    "print(\"Verifier gets result:\", res)"
   ]
  },
  {
   "cell_type": "code",
   "execution_count": null,
   "metadata": {},
   "outputs": [],
   "source": []
  }
 ],
 "metadata": {
  "kernelspec": {
   "display_name": "Python 3",
   "language": "python",
   "name": "python3"
  },
  "language_info": {
   "codemirror_mode": {
    "name": "ipython",
    "version": 3
   },
   "file_extension": ".py",
   "mimetype": "text/x-python",
   "name": "python",
   "nbconvert_exporter": "python",
   "pygments_lexer": "ipython3",
   "version": "3.11.4"
  },
  "orig_nbformat": 4
 },
 "nbformat": 4,
 "nbformat_minor": 2
}
