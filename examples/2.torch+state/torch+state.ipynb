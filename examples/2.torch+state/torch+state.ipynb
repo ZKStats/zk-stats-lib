{
 "cells": [
  {
   "cell_type": "code",
   "execution_count": 1,
   "metadata": {},
   "outputs": [],
   "source": [
    "import ezkl\n",
    "import torch\n",
    "from torch import nn\n",
    "import json\n",
    "import os\n",
    "import time\n",
    "import scipy\n",
    "import numpy as np\n",
    "import matplotlib.pyplot as plt\n",
    "import statistics\n",
    "import math"
   ]
  },
  {
   "cell_type": "code",
   "execution_count": 2,
   "metadata": {},
   "outputs": [],
   "source": [
    "from zkstats.core import create_dummy, verifier_define_calculation,prover_gen_settings, setup, prover_gen_proof, verifier_verify, generate_data_commitment"
   ]
  },
  {
   "attachments": {},
   "cell_type": "markdown",
   "metadata": {},
   "source": []
  },
  {
   "cell_type": "code",
   "execution_count": 3,
   "metadata": {},
   "outputs": [],
   "source": [
    "# init path\n",
    "os.makedirs(os.path.dirname('shared/'), exist_ok=True)\n",
    "os.makedirs(os.path.dirname('prover/'), exist_ok=True)\n",
    "verifier_model_path = os.path.join('shared/verifier.onnx')\n",
    "prover_model_path = os.path.join('prover/prover.onnx')\n",
    "verifier_compiled_model_path = os.path.join('shared/verifier.compiled')\n",
    "prover_compiled_model_path = os.path.join('prover/prover.compiled')\n",
    "pk_path = os.path.join('shared/test.pk')\n",
    "vk_path = os.path.join('shared/test.vk')\n",
    "proof_path = os.path.join('shared/test.pf')\n",
    "settings_path = os.path.join('shared/settings.json')\n",
    "srs_path = os.path.join('shared/kzg.srs')\n",
    "witness_path = os.path.join('prover/witness.json')\n",
    "# this is private to prover since it contains actual data\n",
    "sel_data_path = os.path.join('prover/sel_data.json')\n",
    "# this is just dummy random value\n",
    "sel_dummy_data_path = os.path.join('shared/sel_dummy_data.json')\n",
    "data_commitment_path = os.path.join('shared/data_commitment.json')\n",
    "precal_witness_path = os.path.join('shared/precal_witness_arr.json')"
   ]
  },
  {
   "attachments": {},
   "cell_type": "markdown",
   "metadata": {},
   "source": [
    "=======================  ZK-STATS FLOW ======================="
   ]
  },
  {
   "attachments": {},
   "cell_type": "markdown",
   "metadata": {},
   "source": [
    "## Step 1\n",
    "Here're just a preparatory phase for prover\n",
    "- Create dummy data associated with their dataset for verifier to use for generating onnx model.\n",
    "- Generate data commitment for their dataset."
   ]
  },
  {
   "cell_type": "code",
   "execution_count": 4,
   "metadata": {},
   "outputs": [],
   "source": [
    "data_path = os.path.join('data.json')\n",
    "dummy_data_path = os.path.join('shared/dummy_data.json')\n",
    "\n",
    "create_dummy(data_path, dummy_data_path)"
   ]
  },
  {
   "cell_type": "code",
   "execution_count": 5,
   "metadata": {},
   "outputs": [],
   "source": [
    "scales = [2]\n",
    "selected_columns = ['x', 'y']\n",
    "generate_data_commitment(data_path, scales, data_commitment_path)"
   ]
  },
  {
   "attachments": {},
   "cell_type": "markdown",
   "metadata": {},
   "source": [
    "## Step 2\n",
    "- User (Verifier) defines their computation in a function with signature `computation(state: State, x: list[torch.Tensor])`.\n",
    "- Prover calls `computation_to_model()` to derive the actual model.\n",
    "- Prover calls `prover_gen_settings`: export onnx file and compute the settings required by `ezkl.calibrate_settings`, while also export `precal_witness_arr.json` which is the constant witness needed for verifier to generate the same onnx."
   ]
  },
  {
   "cell_type": "code",
   "execution_count": 9,
   "metadata": {},
   "outputs": [
    {
     "name": "stderr",
     "output_type": "stream",
     "text": [
      "\n",
      "\n",
      " <------------- Numerical Fidelity Report (input_scale: 2, param_scale: 2, scale_input_multiplier: 10) ------------->\n",
      "\n",
      "+-------------+--------------+-------------+-----------+----------------+------------------+---------------+---------------+--------------------+--------------------+------------------------+\n",
      "| mean_error  | median_error | max_error   | min_error | mean_abs_error | median_abs_error | max_abs_error | min_abs_error | mean_squared_error | mean_percent_error | mean_abs_percent_error |\n",
      "+-------------+--------------+-------------+-----------+----------------+------------------+---------------+---------------+--------------------+--------------------+------------------------+\n",
      "| 0.012499809 | 0.024999619  | 0.024999619 | 0         | 0.012499809    | 0.024999619      | 0.024999619   | 0             | 0.00031249048      | 0.0009979887       | 0.0009979887           |\n",
      "+-------------+--------------+-------------+-----------+----------------+------------------+---------------+---------------+--------------------+--------------------+------------------------+\n",
      "\n",
      "\n"
     ]
    },
    {
     "name": "stdout",
     "output_type": "stream",
     "text": [
      "==== Generate & Calibrate Setting ====\n",
      "scale:  [2]\n",
      "setting:  {\"run_args\":{\"tolerance\":{\"val\":0.0,\"scale\":1.0},\"input_scale\":2,\"param_scale\":2,\"scale_rebase_multiplier\":10,\"lookup_range\":[-56,64],\"logrows\":12,\"num_inner_cols\":2,\"variables\":[[\"batch_size\",1]],\"input_visibility\":{\"Hashed\":{\"hash_is_public\":true,\"outlets\":[]}},\"output_visibility\":\"Public\",\"param_visibility\":\"Fixed\",\"div_rebasing\":false,\"rebase_frac_zero_constants\":false,\"check_mode\":\"UNSAFE\"},\"num_rows\":2624,\"total_assignments\":686,\"total_const_size\":303,\"model_instance_shapes\":[[1],[1]],\"model_output_scales\":[0,2],\"model_input_scales\":[2,2],\"module_sizes\":{\"kzg\":[],\"poseidon\":[2624,[2]]},\"required_lookups\":[{\"GreaterThan\":{\"a\":0.0}},\"Abs\",\"ReLU\",{\"Floor\":{\"scale\":8.0}}],\"required_range_checks\":[],\"check_mode\":\"UNSAFE\",\"version\":\"9.1.0\",\"num_blinding_factors\":null,\"timestamp\":1717511682308}\n"
     ]
    }
   ],
   "source": [
    "from zkstats.computation import State, computation_to_model\n",
    "\n",
    "\n",
    "def computation(state: State, x: list[torch.Tensor]):\n",
    "    out_0 = torch.sum(x[0])\n",
    "    out_1 = state.median(x[1])\n",
    "    return state.mean(torch.cat((out_0.unsqueeze(0), out_1.unsqueeze(0))).reshape(-1,1))\n",
    "\n",
    "error = 0.01\n",
    "\n",
    "_, prover_model = computation_to_model(computation,precal_witness_path, True, error )\n",
    "prover_gen_settings(data_path, selected_columns, sel_data_path, prover_model, prover_model_path, scales, \"resources\", settings_path)\n"
   ]
  },
  {
   "attachments": {},
   "cell_type": "markdown",
   "metadata": {},
   "source": [
    "## Step 3\n",
    "- User (Verifier) gets `precal_witness_arr.json`, and generate the same onnx format with same parameter."
   ]
  },
  {
   "cell_type": "code",
   "execution_count": 10,
   "metadata": {},
   "outputs": [],
   "source": [
    "_, verifier_model = computation_to_model(computation, precal_witness_path, False,error)\n",
    "verifier_define_calculation(dummy_data_path, selected_columns, sel_dummy_data_path,verifier_model, verifier_model_path)"
   ]
  },
  {
   "attachments": {},
   "cell_type": "markdown",
   "metadata": {},
   "source": [
    "## Step 4\n",
    "- Verifier sets up vk, pk.\n",
    "- Prover generates proof with `prover_gen_proof`\n"
   ]
  },
  {
   "cell_type": "code",
   "execution_count": 11,
   "metadata": {},
   "outputs": [
    {
     "name": "stdout",
     "output_type": "stream",
     "text": [
      "==== setting up ezkl ====\n",
      "Time setup: 0.5458400249481201 seconds\n",
      "=======================================\n",
      "==== Generating Witness ====\n",
      "witness boolean:  1.0\n",
      "witness result 1 : 12.5\n",
      "==== Generating Proof ====\n",
      "proof:  {'instances': [['cde936180fb7e379a578309232773e02b017d59f9001712b917a148b525d7b19', 'a38c8628cd223f38f854eade2722b8dd09b5797a0408398dd3d5160b6584e90b', '0100000000000000000000000000000000000000000000000000000000000000', '3200000000000000000000000000000000000000000000000000000000000000']], 'proof': '0x2f9ea81e9410dfe76747bd025604d995a2bfb3f9d2c40f766368917deb4b259d1dc2dc6dc14269286cecb02e082ba31f28269080395e53edbd21fd38a38542320eb3c107d12d870f4e310acbb9b18a5f3fddb437cfb5bfe33579cbeeb7a6359815a9e1484d05203ba45b995d16c01e4f71a198be83c15b8ad761081f8c81583b18c7b4b512e3e5f5687de7fa5ea290d3be351443a7cfd488e06e9733e21103ac100e87a31f45f6bf932107e3c170a43ab52a53ebf43310f88aa0dde4ab2792b42f6d0d1b101bc90d4f30f570288537bcf6763b7cc11281f637d6ba12a9019d042f2fa4a1de8d5589387014195ea0ef35eaf00063ad832bda9e710e6dd59fbe270262ae05295e8ea3f6c406640cc241ffa5023af16e1017100b4c7c49b28128a220ab8564b9695cea8b2726875fab46ccb1ffdd94f588f36bf91e90e2ef9fc56e290bdf2119eef2ee761f7d3bcdee6045cba6297bca83cae69421d51024306b000f152e0454c44836199123ed32c2afb1390486b61d84c4b72a76cc74af734f3b108452a44ba356cda2076346eefe1cdadd3a93ed13efc2a3e2fb969bc79f6eaa17711c411b04c66a931006c92b7709b9dc5d7fd595914ae625b9d33df1f21562140423d940dd716f779eb8107876f30fe0654edb2e99208b9207a400b4c278332d720760e09173b46091b6c5873f20825a145332169fb55b45201648c18460011ec81fc23caa3187eab2a7f04d8c6232321f9670a5158bb14639d0585e7950812db7c604fadeb97b8da0b6793c32a175914174431a070b037e74536f33f025c123a2fa010a13d1f21798b3c92070a274b9c8134c37033272b450529ed95365bf1cc4a5aa19f34b5c2f732517747f439651cafc61b23b414d6cffab389e8818de0e79043cfeb18296baec4683050cd1aa295815e7862a964616dc33a64fb7b8bf276ac83be48add931742f9938641608574c63647a04417a2b92efaee6b4b294c161377416d8cbb451075147c682ef3ceb7dd50cb874f4d3cecd973e4434b60d512106651494e9a0f64c81b849c2dba84b44cd19fb74299d861c8ff68c2fbbcd50ee87cf567e1807155e4907cbcd812bc7d929a1503473e1374f1ca39a6681edc167032c9eb00c8d95644f08fb0ae226b95c5eee1d3bb68aad06ae0759139d492131da5b701d97032957012500c5665a503bc39c992fe25597cbcbfa85ed72b17196875c784e7aafa1a439b2bacf967ccf5bc7ad8cefefab7ea7560632fd147d70cf28627b8b5a6d6dc4a06afbd956978c0daead1ccb3d427a85da8470dcf0d491d1a477c6ee70a8aa59493afce492f160810f1af2489b5e67e9a44ffb7e51da823dc92beb09da81eeba66c04bd3b6c7d6f2126085d5a92480b98831dcd8c48931ad34f2529573e0767972f2bbf91788d3744f8dac285958719a1396688e8175c161377416d8cbb451075147c682ef3ceb7dd50cb874f4d3cecd973e4434b60d512106651494e9a0f64c81b849c2dba84b44cd19fb74299d861c8ff68c2fbbcd513ad860d92c675f157c2ebf4e2c10acf58ac4615b79d9fdd24c9533459bef5b3206bf306ee92986c1e5f9912f0df863ca5afa0dc4550948de77e232bed286dc509cdbe1e891e636a1c74d333a488c864204e9baf3f0899c617e0cf3a681891381c0fa739c3bc4b35f8dc73149299df47da11f1048583f9a20688a90ed0081f45246b05a4760c396e6db87954bd37d70bc7b89707dd034447c3a60fcbee4cf3df082d0addb50b0bef548a528cf505931bc0cef8a16aae67bb1c804b79544bef431a2caba850789b82bb527f15a1e1a9b6b6e80582f7d4db58f8001c203e1ad6720fc11e170d2b7127da140646ce7eb9c36924164014c4e10e759874b337e2acac1c776ccac189ce0e3b8a19f5ba4a75ce62439a48b124241d5c21b9bb6ade8e342dccb036543a248499096d225859fdc3ca04d32fd9cca4da521e54f6aa0bed5526d483e6cab13041741acd47f1c7543d97ba433835a3ef12b836d95c0cc03ace0ff4a8f1d467f02f9cdee8cb1509ff27d19c1885a31cef39910ec41ec968c71e2c8a41cabda88bb44e230f4dd3995876e2daf0d8374851db55ae0707d79bd2c905cdc4ee5e7c3dca4246a6b84bca696ca031bc8aeb7c06d36d6cb8ee24937210263744d11790d780b45680544511d2fa7f7625228b6381c8076e3b02fd9393ec2b3382277efd52b9b400ff86d4272026d2296bfe55d03141e9ab747076901885276ec5f2c790d8e35a6eafb37765267eac84d6ced1c419881db6d65cf958ef801ebad386bcf32235d653d46c209fb3e312c5c21e36118b9cacbf5c73bec0239d096a412848646239982d5c1694de2ca1b36bfa793867a3e84307bcdacbe16f5c305243f8fdc4271c7e0fe2a58101205d9a607af964f5b164cd0ec398892dd70f1558b8a192e242ad3062449f5b2d7f80ed2aea7e37783abd5df408dbbcfd6d592bc5f4adfacdc33ab555dea7ac66c6d77e176d9bb52741881ba805d5562d80a41b38500290ffa3515bdfb5d4940ca5f7f7117a153e42f2b056485ad2e44c74b216e5db55b6a3c4b3c50587287f187bb17a2f53f6c5d03a50ec96fe1a74e1683e20a3922bf9326b5f04569f835b83f2d7e757c11c113f906bde61160f60d3e9d61b2911f469991a4e90c9076c5930006c25975daa2a86cb8b91916a0f7c8f7ebd0bc319810b01f17b52fd6119a06c5367298ffd2cf5ac68fdbcf6cdebb60d6fa7012175a54a7878accc9ceda6978738b9062c314f30d44fbd90f7ab7bab77098e251c5fa47d78d9fa350364e830be8a7a023a8432392f3e80aae31f216441d0df0eee191a53ec5292e4380681ffdb03f0344aa2ac4bfe10de66b5b178519b953f0012e7ee48c8c5642ea7125171466792d0105f50cffcef7dffe50391315c3ce123861de64d2c4f4cec63f6bc2335049d0191e853b5a53cd2949f532d516be2c6094e135b7d63f4534189f5b4322d5fb6a15813c96f2996abab79617cb90763642e5ce39df35d8c163320045673164c4927cc8416a190fe59ecc2f43691aafc2d246b248a8947119921b8788ff9bca033d763ca3d2faad762291e326e56496a21136f75aa16f45fdf377af949de89092ad859808e93c6dccd5b1f42ca944f70e90b810a59c7061babe0d52a9d92c668083856df75a95574085bd5fcf3c6d8681027b1fce6a082dbb39229765bdffec3099f02ccb3f7d39b21949493acb506c87e186b94535f073646a212838b0e6fb0a0b22c40f503b28687e63a9555d612b9642b1e01c6ae0785e42a54f5a52dfc6349046d4a9999be490b53567f0f9399252d0a9d6bccd7d7ecb506a807bbe1a00a3e02521857a2fbed894582a72e402035c31b26f903c1fed185e051e3d15eb65d4f44b68b8101d8e769307971860e315f280dc4117c0bd6100c2c2b5007647d8bfa1b75f9ff26ca3d00321a0f9dc874627e10e91bb5cb7002ee1cda0f3f8fbb3d74d3a18925235c8a9cf338b0716b1feba022dd8ef56ccae7a63f8d70c2733a96ac5d32c745efcf6d822a656df177871dd820984e0bb7754059e3ce9ab91baf38c0ed6e58ced5a15997191b12ad11df2d8f18d80edb5c3dc9c36082f2a233754d2fa57e9c28b043eea7a874e952b512fe252137cb602002b2d73698e9cd3f7089cc24a60b4aec0640e3a2e8c9bdf177093603b9c046ff168147a2e24196ea57bfb237d6b6cfd011a0bb0d9e5414ed6a66031e3374c21383c87a9940db8360fa0f5dac6dd93c69d53951b1c1287daa8633882cf4e1a6f57ab1fe1227c76b928395c4d6394467ded8a9bf3a728b85650082ca1c54d54f9f412579f35f34b736f04e087e69032fcfc90ae5f28d76b601018f421fd5c8adf523acc55af25e5454d3e9052636b477d3f54ca0ad4ad38c212784f10b35b4b727a755dbdf34904b3549e2ecc084a7c887a2a6470fe07411914edf6d03bf79d5efa221ba9981b9bcfc74798b54f86751be8e6b6436bc9b5296a9612f1b46d6541de854fd18062b60b9d36cb8797719e17334bfbd60b697ad434605e9133e4585a2c7d56c7b9d5dd5f78ea7d29cfde0d4fd6bb302384b85df6a4a72ab2da3808c1c6d1c3b8671cbc972cab63e54fac02f3a25781bd08ec99f15aa7b301e475baa4b0288dd8eb403426ca2e18006bfb213e4c8dd619ff4a4ccf8dfe56f07a6207b80f383ae35d2dfb21c4d62f567480c97a91ce71f8ec118b7e972a3572cf8a7d3d16dda88b84df27f968d9b4a96d14405f4f416b25af9096ab450c8db16b60085fdb2fbba8ee8a1a6d57159561fd64c932b8ab073704224f306499ba112c449de0b82ce052efac1472db0e41e4ff60b3cd2b527c16f93b51d916d9e710000000000000000000000000000000000000000000000000000000000000000192b8c031ad91225929d6045d76f85cf7a104ef833c9a5230ad161b948d89edb0ae86aff60cc2598868d197bc30b0f4c1ef99dcc01aee2755451732873c4f91e000000000000000000000000000000000000000000000000000000000000000022e578805f67664f26531cde5fb88a4411a834723b3f6b027d39fe1f61e5bcac0487b00214b4cf2afee8c11cbb2a8a97bd8e3840d9f7647f1f3d99f70a25975e2256913fc725eaae843d659ae14aa093c44cb23d24c3c0a75d81c8585e598eb00000000000000000000000000000000000000000000000000000000000000000001fb7251465cab12cace722a78fed05c7618a32bbb5eeba77ed65023668c5ec2fc474489bef2cb2428224c702c0abe30181929c6e4ff34aa03b38ac2525c9a900000000000000000000000000000000000000000000000000000000000000000079aba7d56bdef391b48094e63038854a8b42db78e444ce47536ed21428aa2a000000000000000000000000000000000000000000000000000000000000000000000000000000000000000000000000000000000000000000000000000000000000000000000000000000000000000000000000000000000000000000000000000000000000000000000000000000000000000000000000000000000000000002d421c9d14ec6a897edbb655e2608772fb5530653af7180326ed879e665a9fa2faa10a9395b2ca6d66f0633f2f7b0dd09ca2b47860bd7dd9a6b73f3ab5011b32cbadc27886ea02ba7074c32b0fde7bdf4fc4c92a0554749cec6b66d46cf410d0a1ff996de37d8496f92ae615740dfc3ed20559fc9be7d6e00c43b8d7bc13906000000000000000000000000000000000000000000000000000000000000000010781075d4ff4ad834b50767b806ca29e5311eb06d47b054eb6ee1c707dd368a1e453472a662f628a64494674feff63eabcc4b71410709f1388cb11366392f9419e8511eb071f381069bea7a4049192fd5d80263f13323577c595708bc580d8f2183adaa184c1583e4eac1a527233a225dcd6fa712c46cc7cb04176a1b7977ba00000000000000000000000000000000000000000000000000000000000000002e1c34b05ce8f339ac9471ac6e039669926319b42b3bc1181b9d6eb2e93526750d8ab220294afd35488a41a0df2e87ad007571f3eced403825fe3b8718d7182e00a7aef48d1dac34ddbd28048ba8eda6d2e2dd26f3773485568e03cba4f852140e66f5467d2561d9aaf171c3eb6bdee6d9584430e4fac3ee162d7e61d96cfa7f1114de4bf41ab3b7a7889378a9e58ca193e1ef02d5055022f1194983e9488796091b61c5d32ab89218b74e69fbe5f68415cb5aad869789171f67288b23869383244635f4fe08cbf1259541db6056910daa37342a9f16f74d9f292fe2c5b006cd2c8e2c29f8ca1a2fb00bb9c8b7ce43ae8d505d7515366af589d652a4e84afc611af86357e198b0536322eacafd147910680106bc301c3feb586564e53196bc2c08218e5e56b428b526c52de00cfabf91c9bdd18968db0ce5397c984e27340bd9043d95da7de7624f9e9f235f8985602945a9248f37f00b80bc0080eba4c06a90090106baf044fd2b3122ac2819b583c77aca9ea93fcab7b0c11b69c46eacc6e1041ac23d21bab6dd75323e6a9c5781d8c7da1c1c8f232265fe330a739b0a7c330365b651ed47ef179a5aa2648f9d651e0be106ed4ebbdcb205952910098aa3192c9d5765e111a0e452f42d5e199ab28611bea9bca75d23afa6507909600e0beb20018870aa111fe4f26dee351a3ee17f2a2e31448a13caf84e8f6d3b15fb95601020442421e940bae8ca0fe44ed8eac24b46776d51c7c1e80382027b67e9e04d027273c2697d9a104c4c95bc49c7e6c5f77810aa10524f19567724806c23287e0195b02f2b7ce10ccc87defd99c2c42fc25ed957a8a9dab12cf30a13a926b89e1ebe1af08226f477330dff3caf5521027a8bef1242ec98ad5e9e623fe015a9fe2294234caa93dc6c65b657205df1c92df8842323b7a534a226af7f857a1f40f50bcc663303586eb5a14b4a5b27f150e014a555f5799bdec8f61cff213ec0c1522b77ca4f1f731aba4e4c576e7ae2b32fb85be3de2ebcd23d754b0f15f236ac661802091d968aee507036a26caace7a92a5120e216c3149c5354ec03d4e34f938123b6295f1530375c12394e77376c5b72c8edf97de682ed051e86a1d14e0cb5a10279e0f11b58be93d26c8d5c7b36b40c62a3bfbd8f751511120f6f1208e71f90f716a967df8ffd9c87b83911703fa1482dff755d11374aa58ef38c77101056401ac8ad1f82b66679de23828bff3c4bde8fa30e342e1886e5e80d6c2d8835a42183afb18025ea740e708d25960f3af42b9c67684a8390ffea5b6b9b37dd0e7401904bede1d0f9531a16e6582aa5b1b9a586de6aa08ff5a483112f0e51e3b71540c353f0bac4f3ea45ef9fab40cde91064315fe224f495f977682efdea5e243cf26a194a316a0a3f3ae09244af7c15f0722b9d3fa7118d5e7290f80b7ebf13efd0f61bddd7e08fc4904f63deb79ed0fd6e5f11d9e896ddad919429f384a8a1257033875ca23810ec430f8715aaea894d7cf1544c3e36d0b7ebfeb60966a859e631b3e3e42662ba52d091bbab9c50dd582808ab257b0c13437e9c42a6155fb6edb01f0796bf262bf079c17b0e301e6548d90aa1bbd90c05ac16c7fee06bcf3a09a2af5ec5e3a922750b2d7e8729ae4167048eda7409dea4bf34e7f02925225eec81e9c8540e4c4fe83d5b9f3bcfdb69bcd36f68849f88517adfc6bcac1e7a8228527d637d5de68968a5ec5d1e0072c2cc03fb0a4f7648c5accb57c20dde18fa83c2e55115f567ea8393020100982fdd0acc1f28bd4f68843dd1345d4e7cc6e5aec0870c2a26ecd6f43abb03dbce3f7d32a10fc274c669d8f2e0116fab9fe7c4ae629435a9fe083f8606d3c8f68fa8fae565c32596d173e2423338a4bf4ff8dc2d7265727f3514e86d8aa9e27948fd73cc43a21a9f17d3628b205e1c7df6378deea210cd5ee9bf3759735b41609e73fec342761af393e5832c8e62603a028d131791904bede1d0f9531a16e6582aa5b1b9a586de6aa08ff5a483112f0e51e3b71541aafb75798147ed701a3ccbc898808d206fef3ab92ed5ca3a02c10d1a43291b801420bef8de12ba4822a4a342b44696c257e45ab7043f857085cf085eec061da1b2948c07b1998ef7509ff51565e8bc0e26146626dc7baee7c419bb0563143da03bc5c86abc4c428c6ed83a3ff59eeb1ac5e595106c822ff7a370c4bb1f6456e', 'transcript_type': 'EVM'}\n",
      "Time gen prf: 0.7617218494415283 seconds\n"
     ]
    }
   ],
   "source": [
    "# Here verifier & prover can concurrently call setup since all params are public to get pk.\n",
    "# Here write as verifier function to emphasize that verifier must calculate its own vk to be sure\n",
    "setup(verifier_model_path, verifier_compiled_model_path, settings_path, vk_path, pk_path )\n",
    "\n",
    "print(\"=======================================\")\n",
    "# Prover generates proof\n",
    "# print(\"Theory output: \", theory_output)\n",
    "prover_gen_proof(prover_model_path, sel_data_path, witness_path, prover_compiled_model_path, settings_path, proof_path, pk_path)"
   ]
  },
  {
   "cell_type": "code",
   "execution_count": 12,
   "metadata": {},
   "outputs": [
    {
     "data": {
      "text/plain": [
       "[12.5]"
      ]
     },
     "execution_count": 12,
     "metadata": {},
     "output_type": "execute_result"
    }
   ],
   "source": [
    "# Verifier verifies\n",
    "verifier_verify(proof_path, settings_path, vk_path, selected_columns, data_commitment_path)"
   ]
  },
  {
   "cell_type": "code",
   "execution_count": null,
   "metadata": {},
   "outputs": [],
   "source": []
  }
 ],
 "metadata": {
  "kernelspec": {
   "display_name": "Python 3",
   "language": "python",
   "name": "python3"
  },
  "language_info": {
   "codemirror_mode": {
    "name": "ipython",
    "version": 3
   },
   "file_extension": ".py",
   "mimetype": "text/x-python",
   "name": "python",
   "nbconvert_exporter": "python",
   "pygments_lexer": "ipython3",
   "version": "3.11.4"
  },
  "orig_nbformat": 4
 },
 "nbformat": 4,
 "nbformat_minor": 2
}
