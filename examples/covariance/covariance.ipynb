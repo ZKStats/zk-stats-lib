{
 "cells": [
  {
   "cell_type": "code",
   "execution_count": 1,
   "metadata": {},
   "outputs": [],
   "source": [
    "import ezkl\n",
    "import torch\n",
    "from torch import nn\n",
    "import json\n",
    "import os\n",
    "import time\n",
    "import scipy\n",
    "import numpy as np\n",
    "import matplotlib.pyplot as plt\n",
    "import statistics\n",
    "import math"
   ]
  },
  {
   "cell_type": "code",
   "execution_count": 2,
   "metadata": {},
   "outputs": [],
   "source": [
    "from zkstats.core import create_dummy, verifier_define_calculation, prover_gen_settings, setup, prover_gen_proof, verifier_verify, generate_data_commitment"
   ]
  },
  {
   "cell_type": "code",
   "execution_count": 3,
   "metadata": {},
   "outputs": [],
   "source": [
    "# init path\n",
    "os.makedirs(os.path.dirname('shared/'), exist_ok=True)\n",
    "os.makedirs(os.path.dirname('prover/'), exist_ok=True)\n",
    "verifier_model_path = os.path.join('shared/verifier.onnx')\n",
    "prover_model_path = os.path.join('prover/prover.onnx')\n",
    "verifier_compiled_model_path = os.path.join('shared/verifier.compiled')\n",
    "prover_compiled_model_path = os.path.join('prover/prover.compiled')\n",
    "pk_path = os.path.join('shared/test.pk')\n",
    "vk_path = os.path.join('shared/test.vk')\n",
    "proof_path = os.path.join('shared/test.pf')\n",
    "settings_path = os.path.join('shared/settings.json')\n",
    "srs_path = os.path.join('shared/kzg.srs')\n",
    "witness_path = os.path.join('prover/witness.json')\n",
    "# this is private to prover since it contains actual data\n",
    "sel_data_path = os.path.join('prover/sel_data.json')\n",
    "# this is just dummy random value\n",
    "sel_dummy_data_path = os.path.join('shared/sel_dummy_data.json')\n",
    "data_commitment_path = os.path.join('shared/data_commitment.json')\n",
    "precal_witness_path = os.path.join('shared/precal_witness_arr.json')"
   ]
  },
  {
   "attachments": {},
   "cell_type": "markdown",
   "metadata": {},
   "source": [
    "=======================  ZK-STATS FLOW ======================="
   ]
  },
  {
   "cell_type": "code",
   "execution_count": 4,
   "metadata": {},
   "outputs": [],
   "source": [
    "data_path = os.path.join('data.json')\n",
    "dummy_data_path = os.path.join('shared/dummy_data.json')\n",
    "\n",
    "create_dummy(data_path, dummy_data_path)"
   ]
  },
  {
   "cell_type": "code",
   "execution_count": 5,
   "metadata": {},
   "outputs": [],
   "source": [
    "# note scale = 2, or 3 makes it more precise, but too big.\n",
    "scales = [1]\n",
    "selected_columns = ['x', 'y']\n",
    "generate_data_commitment(data_path, scales, data_commitment_path)"
   ]
  },
  {
   "attachments": {},
   "cell_type": "markdown",
   "metadata": {},
   "source": []
  },
  {
   "cell_type": "code",
   "execution_count": 6,
   "metadata": {},
   "outputs": [
    {
     "name": "stderr",
     "output_type": "stream",
     "text": [
      "/Users/jernkun/Desktop/zk-stats-lib/zkstats/computation.py:254: TracerWarning: torch.tensor results are registered as constants in the trace. You can safely ignore this warning if you use this function to create tensors out of constant variables that would be the same every time you call this function. In any other case, this might cause the trace to be incorrect.\n",
      "  is_precise_aggregated = torch.tensor(1.0)\n",
      "/Users/jernkun/Library/Caches/pypoetry/virtualenvs/zkstats-OJpceffF-py3.11/lib/python3.11/site-packages/torch/onnx/symbolic_opset9.py:2174: FutureWarning: 'torch.onnx.symbolic_opset9._cast_Bool' is deprecated in version 2.0 and will be removed in the future. Please Avoid using this function and create a Cast node instead.\n",
      "  return fn(g, to_cast_func(g, input, False), to_cast_func(g, other, False))\n",
      "/Users/jernkun/Library/Caches/pypoetry/virtualenvs/zkstats-OJpceffF-py3.11/lib/python3.11/site-packages/torch/onnx/utils.py:1703: UserWarning: The exported ONNX model failed ONNX shape inference. The model will not be executable by the ONNX Runtime. If this is unintended and you believe there is a bug, please report an issue at https://github.com/pytorch/pytorch/issues. Error reported by strict ONNX shape inference: [ShapeInferenceError] (op_type:Where, node name: /Where): Y has inconsistent type tensor(float) (Triggered internally at /Users/runner/work/pytorch/pytorch/pytorch/torch/csrc/jit/serialization/export.cpp:1490.)\n",
      "  _C._check_onnx_proto(proto)\n"
     ]
    },
    {
     "name": "stdout",
     "output_type": "stream",
     "text": [
      "==== Generate & Calibrate Setting ====\n"
     ]
    },
    {
     "name": "stderr",
     "output_type": "stream",
     "text": [
      "\n",
      "\n",
      " <------------- Numerical Fidelity Report (input_scale: 1, param_scale: 1, scale_input_multiplier: 1) ------------->\n",
      "\n",
      "+-------------+--------------+-----------+-------------+----------------+------------------+---------------+---------------+--------------------+--------------------+------------------------+\n",
      "| mean_error  | median_error | max_error | min_error   | mean_abs_error | median_abs_error | max_abs_error | min_abs_error | mean_squared_error | mean_percent_error | mean_abs_percent_error |\n",
      "+-------------+--------------+-----------+-------------+----------------+------------------+---------------+---------------+--------------------+--------------------+------------------------+\n",
      "| -0.11755371 | -0.23510742  | 0         | -0.23510742 | 0.11755371     | 0.23510742       | 0.23510742    | 0             | 0.02763775         | -0.000036566813    | 0.000036566813         |\n",
      "+-------------+--------------+-----------+-------------+----------------+------------------+---------------+---------------+--------------------+--------------------+------------------------+\n",
      "\n",
      "\n"
     ]
    },
    {
     "name": "stdout",
     "output_type": "stream",
     "text": [
      "scale:  [1]\n",
      "setting:  {\"run_args\":{\"tolerance\":{\"val\":0.0,\"scale\":1.0},\"input_scale\":1,\"param_scale\":1,\"scale_rebase_multiplier\":1,\"lookup_range\":[-12560,12672],\"logrows\":15,\"num_inner_cols\":2,\"variables\":[[\"batch_size\",1]],\"input_visibility\":{\"Hashed\":{\"hash_is_public\":true,\"outlets\":[]}},\"output_visibility\":\"Public\",\"param_visibility\":\"Fixed\",\"div_rebasing\":false,\"rebase_frac_zero_constants\":false,\"check_mode\":\"UNSAFE\"},\"num_rows\":13120,\"total_assignments\":5991,\"total_const_size\":2345,\"model_instance_shapes\":[[1],[1]],\"model_output_scales\":[0,1],\"model_input_scales\":[1,1],\"module_sizes\":{\"kzg\":[],\"poseidon\":[13120,[2]]},\"required_lookups\":[\"Abs\",{\"GreaterThan\":{\"a\":0.0}}],\"required_range_checks\":[[-1,1]],\"check_mode\":\"UNSAFE\",\"version\":\"9.1.0\",\"num_blinding_factors\":null,\"timestamp\":1715154442549}\n"
     ]
    }
   ],
   "source": [
    "# Verifier/ data consumer side:\n",
    "from zkstats.computation import computation_to_model, State\n",
    "\n",
    "def computation(s: State, data: list[torch.Tensor]) -> torch.Tensor:\n",
    "    x, y = data[0], data[1]\n",
    "    return s.covariance(x, y)\n",
    "\n",
    "error = 0.01\n",
    "# Prover/ data owner side\n",
    "_, prover_model = computation_to_model(computation, precal_witness_path, True, selected_columns, error)\n",
    "prover_gen_settings(data_path, selected_columns, sel_data_path, prover_model, prover_model_path, scales, \"resources\", settings_path)\n"
   ]
  },
  {
   "cell_type": "code",
   "execution_count": 7,
   "metadata": {},
   "outputs": [],
   "source": [
    "_, verifier_model = computation_to_model(computation, precal_witness_path, False, selected_columns, error)\n",
    "verifier_define_calculation(dummy_data_path, selected_columns, sel_dummy_data_path,verifier_model, verifier_model_path)"
   ]
  },
  {
   "cell_type": "code",
   "execution_count": 8,
   "metadata": {},
   "outputs": [
    {
     "name": "stdout",
     "output_type": "stream",
     "text": [
      "==== setting up ezkl ====\n",
      "Time setup: 3.589883327484131 seconds\n",
      "=======================================\n",
      "==== Generating Witness ====\n",
      "witness boolean:  1.0\n",
      "witness result 1 : 3215.0\n",
      "==== Generating Proof ====\n",
      "proof:  {'instances': [['b8c4693b3424042141e265e5179743499536c8b9f1ddc7d4d4fc847c1c09df04', '7d055c183092753c601560dfbfa0b446f5417438227d99435c476a0659de3d14', '0100000000000000000000000000000000000000000000000000000000000000', '1e19000000000000000000000000000000000000000000000000000000000000']], 'proof': '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', 'transcript_type': 'EVM'}\n",
      "Time gen prf: 4.17130184173584 seconds\n"
     ]
    }
   ],
   "source": [
    "# Here verifier & prover can concurrently call setup since all params are public to get pk.\n",
    "# Here write as verifier function to emphasize that verifier must calculate its own vk to be sure\n",
    "setup(verifier_model_path, verifier_compiled_model_path, settings_path,vk_path, pk_path )\n",
    "\n",
    "print(\"=======================================\")\n",
    "# Prover generates proof\n",
    "prover_gen_proof(prover_model_path, sel_data_path, witness_path, prover_compiled_model_path, settings_path, proof_path, pk_path)"
   ]
  },
  {
   "cell_type": "code",
   "execution_count": 9,
   "metadata": {},
   "outputs": [
    {
     "name": "stdout",
     "output_type": "stream",
     "text": [
      "Verifier gets result: [3215.0]\n"
     ]
    }
   ],
   "source": [
    "# Verifier verifies\n",
    "res = verifier_verify(proof_path, settings_path, vk_path, selected_columns, data_commitment_path)\n",
    "print(\"Verifier gets result:\", res)"
   ]
  },
  {
   "cell_type": "code",
   "execution_count": null,
   "metadata": {},
   "outputs": [],
   "source": []
  }
 ],
 "metadata": {
  "kernelspec": {
   "display_name": "Python 3",
   "language": "python",
   "name": "python3"
  },
  "language_info": {
   "codemirror_mode": {
    "name": "ipython",
    "version": 3
   },
   "file_extension": ".py",
   "mimetype": "text/x-python",
   "name": "python",
   "nbconvert_exporter": "python",
   "pygments_lexer": "ipython3",
   "version": "3.11.4"
  },
  "orig_nbformat": 4
 },
 "nbformat": 4,
 "nbformat_minor": 2
}
