{
 "cells": [
  {
   "cell_type": "code",
   "execution_count": 1,
   "metadata": {},
   "outputs": [],
   "source": [
    "import ezkl\n",
    "import torch\n",
    "from torch import nn\n",
    "import json\n",
    "import os\n",
    "import time\n",
    "import scipy\n",
    "import numpy as np\n",
    "import matplotlib.pyplot as plt\n",
    "import statistics\n",
    "import math"
   ]
  },
  {
   "cell_type": "code",
   "execution_count": 2,
   "metadata": {},
   "outputs": [],
   "source": [
    "from zkstats.core import create_dummy, verifier_define_calculation, prover_gen_settings, setup, prover_gen_proof, verifier_verify, generate_data_commitment"
   ]
  },
  {
   "attachments": {},
   "cell_type": "markdown",
   "metadata": {},
   "source": []
  },
  {
   "cell_type": "code",
   "execution_count": 3,
   "metadata": {},
   "outputs": [],
   "source": [
    "# init path\n",
    "os.makedirs(os.path.dirname('shared/'), exist_ok=True)\n",
    "os.makedirs(os.path.dirname('prover/'), exist_ok=True)\n",
    "verifier_model_path = os.path.join('shared/verifier.onnx')\n",
    "prover_model_path = os.path.join('prover/prover.onnx')\n",
    "verifier_compiled_model_path = os.path.join('shared/verifier.compiled')\n",
    "prover_compiled_model_path = os.path.join('prover/prover.compiled')\n",
    "pk_path = os.path.join('shared/test.pk')\n",
    "vk_path = os.path.join('shared/test.vk')\n",
    "proof_path = os.path.join('shared/test.pf')\n",
    "settings_path = os.path.join('shared/settings.json')\n",
    "srs_path = os.path.join('shared/kzg.srs')\n",
    "witness_path = os.path.join('prover/witness.json')\n",
    "# this is private to prover since it contains actual data\n",
    "sel_data_path = os.path.join('prover/sel_data.json')\n",
    "# this is just dummy random value\n",
    "sel_dummy_data_path = os.path.join('shared/sel_dummy_data.json')\n",
    "data_commitment_path = os.path.join('shared/data_commitment.json')\n",
    "precal_witness_path = os.path.join('shared/precal_witness_arr.json')"
   ]
  },
  {
   "attachments": {},
   "cell_type": "markdown",
   "metadata": {},
   "source": [
    "=======================  ZK-STATS FLOW ======================="
   ]
  },
  {
   "cell_type": "code",
   "execution_count": 4,
   "metadata": {},
   "outputs": [],
   "source": [
    "data_path = os.path.join('data.json')\n",
    "dummy_data_path = os.path.join('shared/dummy_data.json')\n",
    "create_dummy(data_path, dummy_data_path)"
   ]
  },
  {
   "cell_type": "code",
   "execution_count": 5,
   "metadata": {},
   "outputs": [],
   "source": [
    "# use large scale here to get the output really close to the value in dataset, which is important to Mode.\n",
    "# large scale doesn't blowup circuit size in Mode, so fine.\n",
    "scales = [8]\n",
    "selected_columns = ['col_name']\n",
    "generate_data_commitment(data_path, scales, data_commitment_path)"
   ]
  },
  {
   "cell_type": "code",
   "execution_count": 6,
   "metadata": {},
   "outputs": [
    {
     "name": "stderr",
     "output_type": "stream",
     "text": [
      "/Users/jernkun/Desktop/zk-stats-lib/zkstats/ops.py:228: UserWarning: To copy construct from a tensor, it is recommended to use sourceTensor.clone().detach() or sourceTensor.clone().detach().requires_grad_(True), rather than torch.tensor(sourceTensor).\n",
      "  result = torch.tensor(mode_within(x_1d, 0))\n",
      "/Users/jernkun/Desktop/zk-stats-lib/zkstats/computation.py:254: TracerWarning: torch.tensor results are registered as constants in the trace. You can safely ignore this warning if you use this function to create tensors out of constant variables that would be the same every time you call this function. In any other case, this might cause the trace to be incorrect.\n",
      "  is_precise_aggregated = torch.tensor(1.0)\n",
      "/Users/jernkun/Desktop/zk-stats-lib/zkstats/ops.py:246: TracerWarning: Iterating over a tensor might cause the trace to be incorrect. Passing a tensor of different shape won't change the number of iterations executed (and might lead to errors or silently give incorrect results).\n",
      "  for ele in x[0]:\n",
      "/Users/jernkun/Library/Caches/pypoetry/virtualenvs/zkstats-OJpceffF-py3.11/lib/python3.11/site-packages/torch/onnx/symbolic_opset9.py:2174: FutureWarning: 'torch.onnx.symbolic_opset9._cast_Bool' is deprecated in version 2.0 and will be removed in the future. Please Avoid using this function and create a Cast node instead.\n",
      "  return fn(g, to_cast_func(g, input, False), to_cast_func(g, other, False))\n"
     ]
    },
    {
     "name": "stdout",
     "output_type": "stream",
     "text": [
      "==== Generate & Calibrate Setting ====\n"
     ]
    },
    {
     "name": "stderr",
     "output_type": "stream",
     "text": [
      "\n",
      "\n",
      " <------------- Numerical Fidelity Report (input_scale: 8, param_scale: 8, scale_input_multiplier: 10) ------------->\n",
      "\n",
      "+----------------+----------------+-----------+----------------+----------------+------------------+---------------+---------------+--------------------+--------------------+------------------------+\n",
      "| mean_error     | median_error   | max_error | min_error      | mean_abs_error | median_abs_error | max_abs_error | min_abs_error | mean_squared_error | mean_percent_error | mean_abs_percent_error |\n",
      "+----------------+----------------+-----------+----------------+----------------+------------------+---------------+---------------+--------------------+--------------------+------------------------+\n",
      "| -0.00039100647 | -0.00078201294 | 0         | -0.00078201294 | 0.00039100647  | 0.00078201294    | 0.00078201294 | 0             | 0.00000030577212   | -0.000008727823    | 0.000008727823         |\n",
      "+----------------+----------------+-----------+----------------+----------------+------------------+---------------+---------------+--------------------+--------------------+------------------------+\n",
      "\n",
      "\n"
     ]
    },
    {
     "name": "stdout",
     "output_type": "stream",
     "text": [
      "scale:  [8]\n",
      "setting:  {\"run_args\":{\"tolerance\":{\"val\":0.0,\"scale\":1.0},\"input_scale\":8,\"param_scale\":8,\"scale_rebase_multiplier\":10,\"lookup_range\":[-50326,512],\"logrows\":16,\"num_inner_cols\":2,\"variables\":[[\"batch_size\",1]],\"input_visibility\":{\"Hashed\":{\"hash_is_public\":true,\"outlets\":[]}},\"output_visibility\":\"Public\",\"param_visibility\":\"Fixed\",\"div_rebasing\":false,\"rebase_frac_zero_constants\":false,\"check_mode\":\"UNSAFE\"},\"num_rows\":12309,\"total_assignments\":24619,\"total_const_size\":8263,\"model_instance_shapes\":[[1],[1]],\"model_output_scales\":[0,8],\"model_input_scales\":[8],\"module_sizes\":{\"kzg\":[],\"poseidon\":[3936,[1]]},\"required_lookups\":[{\"Cast\":{\"scale\":256.0}},\"ReLU\",{\"GreaterThan\":{\"a\":0.0}}],\"required_range_checks\":[],\"check_mode\":\"UNSAFE\",\"version\":\"9.1.0\",\"num_blinding_factors\":null,\"timestamp\":1715324275836}\n"
     ]
    }
   ],
   "source": [
    "# Verifier/ data consumer side: send desired calculation\n",
    "from zkstats.computation import computation_to_model, State\n",
    "\n",
    "def computation(s: State, data: list[torch.Tensor]) -> torch.Tensor:\n",
    "    x = data[0]\n",
    "    return s.mode(x)\n",
    "# IMPORTANT: Here, we use traditional Mode, so there is no result_error at all, since Mode pick the result from dataset, instead of calculating the result\n",
    "# But we still have error stuffs here to just conform to computation_to_model function, though the error's not used at all.\n",
    "error = 0\n",
    "\n",
    "# Prover/ data owner side\n",
    "_, prover_model = computation_to_model(computation, precal_witness_path, True, selected_columns, error)\n",
    "prover_gen_settings(data_path, selected_columns, sel_data_path, prover_model, prover_model_path, scales, \"resources\", settings_path)\n",
    "\n"
   ]
  },
  {
   "cell_type": "code",
   "execution_count": 7,
   "metadata": {},
   "outputs": [],
   "source": [
    "_, verifier_model = computation_to_model(computation, precal_witness_path, False, selected_columns, error)\n",
    "verifier_define_calculation(dummy_data_path, selected_columns, sel_dummy_data_path,verifier_model, verifier_model_path)"
   ]
  },
  {
   "cell_type": "code",
   "execution_count": 8,
   "metadata": {},
   "outputs": [
    {
     "name": "stdout",
     "output_type": "stream",
     "text": [
      "==== setting up ezkl ====\n",
      "Time setup: 6.974064111709595 seconds\n",
      "=======================================\n",
      "==== Generating Witness ====\n",
      "witness boolean:  1.0\n",
      "witness result 1 : 44.80078125\n",
      "==== Generating Proof ====\n",
      "proof:  {'instances': [['92c6e4646b9211cd10c19d44838585e3eaeb2d63822ebad95594ff556580b100', '0100000000000000000000000000000000000000000000000000000000000000', 'cd2c000000000000000000000000000000000000000000000000000000000000']], 'proof': '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', 'transcript_type': 'EVM'}\n",
      "Time gen prf: 8.038885831832886 seconds\n"
     ]
    }
   ],
   "source": [
    "# Here verifier & prover can concurrently call setup since all params are public to get pk.\n",
    "# Here write as verifier function to emphasize that verifier must calculate its own vk to be sure\n",
    "setup(verifier_model_path, verifier_compiled_model_path, settings_path,vk_path, pk_path )\n",
    "\n",
    "print(\"=======================================\")\n",
    "# Prover generates proof\n",
    "prover_gen_proof(prover_model_path, sel_data_path, witness_path, prover_compiled_model_path, settings_path, proof_path, pk_path)"
   ]
  },
  {
   "cell_type": "code",
   "execution_count": 9,
   "metadata": {},
   "outputs": [
    {
     "name": "stdout",
     "output_type": "stream",
     "text": [
      "Verifier gets result: [44.80078125]\n"
     ]
    }
   ],
   "source": [
    "# Verifier verifies\n",
    "res = verifier_verify(proof_path, settings_path, vk_path, selected_columns, data_commitment_path)\n",
    "print(\"Verifier gets result:\", res)"
   ]
  },
  {
   "cell_type": "code",
   "execution_count": null,
   "metadata": {},
   "outputs": [],
   "source": []
  },
  {
   "cell_type": "code",
   "execution_count": null,
   "metadata": {},
   "outputs": [],
   "source": []
  }
 ],
 "metadata": {
  "kernelspec": {
   "display_name": "Python 3",
   "language": "python",
   "name": "python3"
  },
  "language_info": {
   "codemirror_mode": {
    "name": "ipython",
    "version": 3
   },
   "file_extension": ".py",
   "mimetype": "text/x-python",
   "name": "python",
   "nbconvert_exporter": "python",
   "pygments_lexer": "ipython3",
   "version": "3.11.4"
  },
  "orig_nbformat": 4
 },
 "nbformat": 4,
 "nbformat_minor": 2
}
