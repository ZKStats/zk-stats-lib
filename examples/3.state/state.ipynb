{
 "cells": [
  {
   "cell_type": "code",
   "execution_count": 1,
   "metadata": {},
   "outputs": [],
   "source": [
    "import ezkl\n",
    "import torch\n",
    "from torch import nn\n",
    "import json\n",
    "import os\n",
    "import time\n",
    "import scipy\n",
    "import numpy as np\n",
    "import matplotlib.pyplot as plt\n",
    "import statistics\n",
    "import math"
   ]
  },
  {
   "cell_type": "code",
   "execution_count": 2,
   "metadata": {},
   "outputs": [],
   "source": [
    "from zkstats.core import create_dummy, verifier_define_calculation,prover_gen_settings, setup, prover_gen_proof, verifier_verify, generate_data_commitment"
   ]
  },
  {
   "attachments": {},
   "cell_type": "markdown",
   "metadata": {},
   "source": []
  },
  {
   "cell_type": "code",
   "execution_count": 3,
   "metadata": {},
   "outputs": [],
   "source": [
    "# init path\n",
    "os.makedirs(os.path.dirname('shared/'), exist_ok=True)\n",
    "os.makedirs(os.path.dirname('prover/'), exist_ok=True)\n",
    "verifier_model_path = os.path.join('shared/verifier.onnx')\n",
    "prover_model_path = os.path.join('prover/prover.onnx')\n",
    "verifier_compiled_model_path = os.path.join('shared/verifier.compiled')\n",
    "prover_compiled_model_path = os.path.join('prover/prover.compiled')\n",
    "pk_path = os.path.join('shared/test.pk')\n",
    "vk_path = os.path.join('shared/test.vk')\n",
    "proof_path = os.path.join('shared/test.pf')\n",
    "settings_path = os.path.join('shared/settings.json')\n",
    "srs_path = os.path.join('shared/kzg.srs')\n",
    "witness_path = os.path.join('prover/witness.json')\n",
    "# this is private to prover since it contains actual data\n",
    "sel_data_path = os.path.join('prover/sel_data.json')\n",
    "# this is just dummy random value\n",
    "sel_dummy_data_path = os.path.join('shared/sel_dummy_data.json')\n",
    "data_commitment_path = os.path.join('shared/data_commitment.json')\n",
    "precal_witness_path = os.path.join('shared/precal_witness_arr.json')"
   ]
  },
  {
   "attachments": {},
   "cell_type": "markdown",
   "metadata": {},
   "source": [
    "=======================  ZK-STATS FLOW ======================="
   ]
  },
  {
   "attachments": {},
   "cell_type": "markdown",
   "metadata": {},
   "source": [
    "## Step 1\n",
    "Here're just a preparatory phase for prover\n",
    "- Create dummy data associated with their dataset for verifier to use for generating onnx model.\n",
    "- Generate data commitment for their dataset."
   ]
  },
  {
   "cell_type": "code",
   "execution_count": 4,
   "metadata": {},
   "outputs": [],
   "source": [
    "data_path = os.path.join('data.json')\n",
    "dummy_data_path = os.path.join('shared/dummy_data.json')\n",
    "\n",
    "create_dummy(data_path, dummy_data_path)"
   ]
  },
  {
   "cell_type": "code",
   "execution_count": 5,
   "metadata": {},
   "outputs": [],
   "source": [
    "scales = [2]\n",
    "selected_columns = ['x', 'y']\n",
    "generate_data_commitment(data_path, scales, data_commitment_path)"
   ]
  },
  {
   "attachments": {},
   "cell_type": "markdown",
   "metadata": {},
   "source": [
    "## Step 2\n",
    "- User (Verifier) defines their computation in a function with signature `computation(state: State, x: list[torch.Tensor])`.\n",
    "- Prover calls `computation_to_model()` to derive the actual model.\n",
    "- Prover calls `prover_gen_settings`: export onnx file and compute the settings required by `ezkl.calibrate_settings`, while also export `precal_witness_arr.json` which is the constant witness needed for verifier to generate the same onnx."
   ]
  },
  {
   "cell_type": "code",
   "execution_count": 6,
   "metadata": {},
   "outputs": [
    {
     "name": "stderr",
     "output_type": "stream",
     "text": [
      "/Users/jernkun/Desktop/zk-stats-lib/zkstats/computation.py:257: TracerWarning: torch.tensor results are registered as constants in the trace. You can safely ignore this warning if you use this function to create tensors out of constant variables that would be the same every time you call this function. In any other case, this might cause the trace to be incorrect.\n",
      "  is_precise_aggregated = torch.tensor(1.0)\n",
      "/Users/jernkun/Library/Caches/pypoetry/virtualenvs/zkstats-OJpceffF-py3.11/lib/python3.11/site-packages/torch/onnx/symbolic_opset9.py:2174: FutureWarning: 'torch.onnx.symbolic_opset9._cast_Bool' is deprecated in version 2.0 and will be removed in the future. Please Avoid using this function and create a Cast node instead.\n",
      "  return fn(g, to_cast_func(g, input, False), to_cast_func(g, other, False))\n",
      "/Users/jernkun/Library/Caches/pypoetry/virtualenvs/zkstats-OJpceffF-py3.11/lib/python3.11/site-packages/torch/onnx/utils.py:1703: UserWarning: The exported ONNX model failed ONNX shape inference. The model will not be executable by the ONNX Runtime. If this is unintended and you believe there is a bug, please report an issue at https://github.com/pytorch/pytorch/issues. Error reported by strict ONNX shape inference: [ShapeInferenceError] (op_type:Where, node name: /Where_17): Y has inconsistent type tensor(float) (Triggered internally at /Users/runner/work/pytorch/pytorch/pytorch/torch/csrc/jit/serialization/export.cpp:1490.)\n",
      "  _C._check_onnx_proto(proto)\n"
     ]
    },
    {
     "name": "stdout",
     "output_type": "stream",
     "text": [
      "==== Generate & Calibrate Setting ====\n"
     ]
    },
    {
     "name": "stderr",
     "output_type": "stream",
     "text": [
      "\n",
      "\n",
      " <------------- Numerical Fidelity Report (input_scale: 2, param_scale: 2, scale_input_multiplier: 10) ------------->\n",
      "\n",
      "+-------------+--------------+-------------+-----------+----------------+------------------+---------------+---------------+--------------------+--------------------+------------------------+\n",
      "| mean_error  | median_error | max_error   | min_error | mean_abs_error | median_abs_error | max_abs_error | min_abs_error | mean_squared_error | mean_percent_error | mean_abs_percent_error |\n",
      "+-------------+--------------+-------------+-----------+----------------+------------------+---------------+---------------+--------------------+--------------------+------------------------+\n",
      "| 0.012500048 | 0.025000095  | 0.025000095 | 0         | 0.012500048    | 0.025000095      | 0.025000095   | 0             | 0.00031250238      | 0.0038168083       | 0.0038168083           |\n",
      "+-------------+--------------+-------------+-----------+----------------+------------------+---------------+---------------+--------------------+--------------------+------------------------+\n",
      "\n",
      "\n"
     ]
    },
    {
     "name": "stdout",
     "output_type": "stream",
     "text": [
      "scale:  [2]\n",
      "setting:  {\"run_args\":{\"tolerance\":{\"val\":0.0,\"scale\":1.0},\"input_scale\":2,\"param_scale\":2,\"scale_rebase_multiplier\":10,\"lookup_range\":[-56,64],\"logrows\":12,\"num_inner_cols\":2,\"variables\":[[\"batch_size\",1]],\"input_visibility\":{\"Hashed\":{\"hash_is_public\":true,\"outlets\":[]}},\"output_visibility\":\"Public\",\"param_visibility\":\"Fixed\",\"div_rebasing\":false,\"rebase_frac_zero_constants\":false,\"check_mode\":\"UNSAFE\"},\"num_rows\":2624,\"total_assignments\":1111,\"total_const_size\":496,\"model_instance_shapes\":[[1],[1]],\"model_output_scales\":[0,2],\"model_input_scales\":[2,2],\"module_sizes\":{\"kzg\":[],\"poseidon\":[2624,[2]]},\"required_lookups\":[\"ReLU\",{\"Floor\":{\"scale\":8.0}},\"Abs\",{\"GreaterThan\":{\"a\":0.0}}],\"required_range_checks\":[],\"check_mode\":\"UNSAFE\",\"version\":\"9.1.0\",\"num_blinding_factors\":null,\"timestamp\":1717511715747}\n"
     ]
    }
   ],
   "source": [
    "from zkstats.computation import State, computation_to_model\n",
    "\n",
    "\n",
    "def computation(state: State, x: list[torch.Tensor]):\n",
    "    out_0 = state.median(x[0])\n",
    "    out_1 = state.median(x[1])\n",
    "    return state.mean(torch.cat((out_0.unsqueeze(0), out_1.unsqueeze(0))).reshape(-1,1))\n",
    "\n",
    "error = 0.01\n",
    "\n",
    "_, prover_model = computation_to_model(computation,precal_witness_path, True, error )\n",
    "prover_gen_settings(data_path, selected_columns, sel_data_path, prover_model, prover_model_path, scales, \"resources\", settings_path)\n"
   ]
  },
  {
   "attachments": {},
   "cell_type": "markdown",
   "metadata": {},
   "source": [
    "## Step 3\n",
    "- User (Verifier) gets `precal_witness_arr.json`, and generate the same onnx format with same parameter."
   ]
  },
  {
   "cell_type": "code",
   "execution_count": 7,
   "metadata": {},
   "outputs": [],
   "source": [
    "_, verifier_model = computation_to_model(computation, precal_witness_path, False,error)\n",
    "verifier_define_calculation(dummy_data_path, selected_columns, sel_dummy_data_path,verifier_model, verifier_model_path)"
   ]
  },
  {
   "attachments": {},
   "cell_type": "markdown",
   "metadata": {},
   "source": [
    "## Step 4\n",
    "- Verifier sets up vk, pk.\n",
    "- Prover generates proof with `prover_gen_proof`\n"
   ]
  },
  {
   "cell_type": "code",
   "execution_count": 8,
   "metadata": {},
   "outputs": [
    {
     "name": "stdout",
     "output_type": "stream",
     "text": [
      "==== setting up ezkl ====\n",
      "Time setup: 0.5848329067230225 seconds\n",
      "=======================================\n",
      "==== Generating Witness ====\n",
      "witness boolean:  1.0\n",
      "witness result 1 : 3.25\n",
      "==== Generating Proof ====\n",
      "proof:  {'instances': [['cde936180fb7e379a578309232773e02b017d59f9001712b917a148b525d7b19', 'a38c8628cd223f38f854eade2722b8dd09b5797a0408398dd3d5160b6584e90b', '0100000000000000000000000000000000000000000000000000000000000000', '0d00000000000000000000000000000000000000000000000000000000000000']], 'proof': '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', 'transcript_type': 'EVM'}\n",
      "Time gen prf: 0.7657780647277832 seconds\n"
     ]
    }
   ],
   "source": [
    "# Here verifier & prover can concurrently call setup since all params are public to get pk.\n",
    "# Here write as verifier function to emphasize that verifier must calculate its own vk to be sure\n",
    "setup(verifier_model_path, verifier_compiled_model_path, settings_path, vk_path, pk_path )\n",
    "\n",
    "print(\"=======================================\")\n",
    "# Prover generates proof\n",
    "# print(\"Theory output: \", theory_output)\n",
    "prover_gen_proof(prover_model_path, sel_data_path, witness_path, prover_compiled_model_path, settings_path, proof_path, pk_path)"
   ]
  },
  {
   "cell_type": "code",
   "execution_count": 9,
   "metadata": {},
   "outputs": [
    {
     "data": {
      "text/plain": [
       "[3.25]"
      ]
     },
     "execution_count": 9,
     "metadata": {},
     "output_type": "execute_result"
    }
   ],
   "source": [
    "# Verifier verifies\n",
    "verifier_verify(proof_path, settings_path, vk_path, selected_columns, data_commitment_path)"
   ]
  },
  {
   "cell_type": "code",
   "execution_count": null,
   "metadata": {},
   "outputs": [],
   "source": []
  }
 ],
 "metadata": {
  "kernelspec": {
   "display_name": "Python 3",
   "language": "python",
   "name": "python3"
  },
  "language_info": {
   "codemirror_mode": {
    "name": "ipython",
    "version": 3
   },
   "file_extension": ".py",
   "mimetype": "text/x-python",
   "name": "python",
   "nbconvert_exporter": "python",
   "pygments_lexer": "ipython3",
   "version": "3.11.4"
  },
  "orig_nbformat": 4
 },
 "nbformat": 4,
 "nbformat_minor": 2
}
